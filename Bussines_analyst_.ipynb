{
  "nbformat": 4,
  "nbformat_minor": 0,
  "metadata": {
    "colab": {
      "provenance": []
    },
    "kernelspec": {
      "name": "python3",
      "display_name": "Python 3"
    },
    "language_info": {
      "name": "python"
    }
  },
  "cells": [
    {
      "cell_type": "markdown",
      "source": [
        "# Level 1: Beginner(Task 1: Data Overview)"
      ],
      "metadata": {
        "id": "k21pGiF22qIV"
      }
    },
    {
      "cell_type": "code",
      "source": [
        "import pandas as pd\n",

## Introduction
This report analyzes a dataset containing information about investment preferences, motivations, and expectations of individuals. The dataset includes details on demographics, investment choices, reasons for investing, saving objectives, sources of information, and investment expectations.

## Outcome Report
*Key Findings:*
- *Gender Distribution:* The dataset shows a relatively even distribution of genders.
- *Investment Preferences:*  Mutual Funds emerged as the most preferred investment option.
- *Investment Motivations:*  The most common reason for investment was 'Growth and Appreciation'.
- *Saving Objectives:* The primary saving objective was 'Retirement Planning'.
- *Sources of Information:*  The most common sources of investment information were 'Financial Advisors' and 'Online Platforms'.
- *Investment Expectations:*  The top expectations included 'High Returns', 'Long-term Growth', and 'Financial Security'.
- *Correlation:*  A moderate positive correlation was observed between age and investment amount.

*Further Analysis:*
This analysis provides a comprehensive overview of investment preferences and behaviors.  Future research could explore the relationships between demographics, investment choices, and specific investment expectations in greater detail.  Additionally, analyzing the impact of different sources of information on investment decisions could provide valuable insights.
        "import numpy as np\n",
        "from sklearn.preprocessing import LabelEncoder\n",
        "from sklearn.impute import SimpleImputer\n",
        "from sklearn.feature_extraction.text import TfidfVectorizer\n",
        "from sklearn.metrics.pairwise import linear_kernel\n",
        "import matplotlib.pyplot as plt\n"
      ],
      "metadata": {
        "id": "g15VvmG2y7nP"
      },
      "execution_count": null,
      "outputs": []
    },
    {
      "cell_type": "code",
      "source": [
        "df= pd.read_csv('/Data_set 2 - Copy.csv')"
      ],
      "metadata": {
        "id": "b9nTEzW_0DXR"
      },
      "execution_count": null,
      "outputs": []
    },
    {
      "cell_type": "code",
      "source": [
        "df.head()"
      ],
      "metadata": {
        "colab": {
          "base_uri": "https://localhost:8080/",
          "height": 446
        },
        "id": "YaQJLCAK0DB9",
        "outputId": "7be72ecb-f352-416c-9488-b23946864106"
      },
      "execution_count": null,
      "outputs": [
        {
          "output_type": "execute_result",
          "data": {
            "text/plain": [
              "   gender  age Investment_Avenues  Mutual_Funds  Equity_Market  Debentures  \\\n",
              "0  Female   34                Yes             1              2           5   \n",
              "1  Female   23                Yes             4              3           2   \n",
              "2    Male   30                Yes             3              6           4   \n",
              "3    Male   22                Yes             2              1           3   \n",
              "4  Female   24                 No             2              1           3   \n",
              "\n",
              "   Government_Bonds  Fixed_Deposits  PPF  Gold  ...           Duration  \\\n",
              "0                 3               7    6     4  ...          1-3 years   \n",
              "1                 1               5    6     7  ...  More than 5 years   \n",
              "2                 2               5    1     7  ...          3-5 years   \n",
              "3                 7               6    4     5  ...   Less than 1 year   \n",
              "4                 6               4    5     7  ...   Less than 1 year   \n",
              "\n",
              "  Invest_Monitor   Expect       Avenue What are your savings objectives?  \\\n",
              "0        Monthly  20%-30%  Mutual Fund                   Retirement Plan   \n",
              "1         Weekly  20%-30%  Mutual Fund                       Health Care   \n",
              "2          Daily  20%-30%       Equity                   Retirement Plan   \n",
              "3          Daily  10%-20%       Equity                   Retirement Plan   \n",
              "4          Daily  20%-30%       Equity                   Retirement Plan   \n",
              "\n",
              "          Reason_Equity         Reason_Mutual     Reason_Bonds  \\\n",
              "0  Capital Appreciation        Better Returns  Safe Investment   \n",
              "1              Dividend        Better Returns  Safe Investment   \n",
              "2  Capital Appreciation          Tax Benefits  Assured Returns   \n",
              "3              Dividend  Fund Diversification   Tax Incentives   \n",
              "4  Capital Appreciation        Better Returns  Safe Investment   \n",
              "\n",
              "             Reason_FD                    Source  \n",
              "0        Fixed Returns  Newspapers and Magazines  \n",
              "1  High Interest Rates     Financial Consultants  \n",
              "2        Fixed Returns                Television  \n",
              "3  High Interest Rates                  Internet  \n",
              "4            Risk Free                  Internet  \n",
              "\n",
              "[5 rows x 24 columns]"
            ],
            "text/html": [
              "\n",
              "  <div id=\"df-f0829730-6e5f-4ba9-bb01-844df7a3e58b\" class=\"colab-df-container\">\n",
              "    <div>\n",
              "<style scoped>\n",
              "    .dataframe tbody tr th:only-of-type {\n",
              "        vertical-align: middle;\n",
              "    }\n",
              "\n",
              "    .dataframe tbody tr th {\n",
              "        vertical-align: top;\n",
              "    }\n",
              "\n",
              "    .dataframe thead th {\n",
              "        text-align: right;\n",
              "    }\n",
              "</style>\n",
              "<table border=\"1\" class=\"dataframe\">\n",
              "  <thead>\n",
              "    <tr style=\"text-align: right;\">\n",
              "      <th></th>\n",
              "      <th>gender</th>\n",
              "      <th>age</th>\n",
              "      <th>Investment_Avenues</th>\n",
              "      <th>Mutual_Funds</th>\n",
              "      <th>Equity_Market</th>\n",
              "      <th>Debentures</th>\n",
              "      <th>Government_Bonds</th>\n",
              "      <th>Fixed_Deposits</th>\n",
              "      <th>PPF</th>\n",
              "      <th>Gold</th>\n",
              "      <th>...</th>\n",
              "      <th>Duration</th>\n",
              "      <th>Invest_Monitor</th>\n",
              "      <th>Expect</th>\n",
              "      <th>Avenue</th>\n",
              "      <th>What are your savings objectives?</th>\n",
              "      <th>Reason_Equity</th>\n",
              "      <th>Reason_Mutual</th>\n",
              "      <th>Reason_Bonds</th>\n",
              "      <th>Reason_FD</th>\n",
              "      <th>Source</th>\n",
              "    </tr>\n",
              "  </thead>\n",
              "  <tbody>\n",
              "    <tr>\n",
              "      <th>0</th>\n",
              "      <td>Female</td>\n",
              "      <td>34</td>\n",
              "      <td>Yes</td>\n",
              "      <td>1</td>\n",
              "      <td>2</td>\n",
              "      <td>5</td>\n",
              "      <td>3</td>\n",
              "      <td>7</td>\n",
              "      <td>6</td>\n",
              "      <td>4</td>\n",
              "      <td>...</td>\n",
              "      <td>1-3 years</td>\n",
              "      <td>Monthly</td>\n",
              "      <td>20%-30%</td>\n",
              "      <td>Mutual Fund</td>\n",
              "      <td>Retirement Plan</td>\n",
              "      <td>Capital Appreciation</td>\n",
              "      <td>Better Returns</td>\n",
              "      <td>Safe Investment</td>\n",
              "      <td>Fixed Returns</td>\n",
              "      <td>Newspapers and Magazines</td>\n",
              "    </tr>\n",
              "    <tr>\n",
              "      <th>1</th>\n",
              "      <td>Female</td>\n",
              "      <td>23</td>\n",
              "      <td>Yes</td>\n",
              "      <td>4</td>\n",
              "      <td>3</td>\n",
              "      <td>2</td>\n",
              "      <td>1</td>\n",
              "      <td>5</td>\n",
              "      <td>6</td>\n",
              "      <td>7</td>\n",
              "      <td>...</td>\n",
              "      <td>More than 5 years</td>\n",
              "      <td>Weekly</td>\n",
              "      <td>20%-30%</td>\n",
              "      <td>Mutual Fund</td>\n",
              "      <td>Health Care</td>\n",
              "      <td>Dividend</td>\n",
              "      <td>Better Returns</td>\n",
              "      <td>Safe Investment</td>\n",
              "      <td>High Interest Rates</td>\n",
              "      <td>Financial Consultants</td>\n",
              "    </tr>\n",
              "    <tr>\n",
              "      <th>2</th>\n",
              "      <td>Male</td>\n",
              "      <td>30</td>\n",
              "      <td>Yes</td>\n",
              "      <td>3</td>\n",
              "      <td>6</td>\n",
              "      <td>4</td>\n",
              "      <td>2</td>\n",
              "      <td>5</td>\n",
              "      <td>1</td>\n",
              "      <td>7</td>\n",
              "      <td>...</td>\n",
              "      <td>3-5 years</td>\n",
              "      <td>Daily</td>\n",
              "      <td>20%-30%</td>\n",
              "      <td>Equity</td>\n",
              "      <td>Retirement Plan</td>\n",
              "      <td>Capital Appreciation</td>\n",
              "      <td>Tax Benefits</td>\n",
              "      <td>Assured Returns</td>\n",
              "      <td>Fixed Returns</td>\n",
              "      <td>Television</td>\n",
              "    </tr>\n",
              "    <tr>\n",
              "      <th>3</th>\n",
              "      <td>Male</td>\n",
              "      <td>22</td>\n",
              "      <td>Yes</td>\n",
              "      <td>2</td>\n",
              "      <td>1</td>\n",
              "      <td>3</td>\n",
              "      <td>7</td>\n",
              "      <td>6</td>\n",
              "      <td>4</td>\n",
              "      <td>5</td>\n",
              "      <td>...</td>\n",
              "      <td>Less than 1 year</td>\n",
              "      <td>Daily</td>\n",
              "      <td>10%-20%</td>\n",
              "      <td>Equity</td>\n",
              "      <td>Retirement Plan</td>\n",
              "      <td>Dividend</td>\n",
              "      <td>Fund Diversification</td>\n",
              "      <td>Tax Incentives</td>\n",
              "      <td>High Interest Rates</td>\n",
              "      <td>Internet</td>\n",
              "    </tr>\n",
              "    <tr>\n",
              "      <th>4</th>\n",
              "      <td>Female</td>\n",
              "      <td>24</td>\n",
              "      <td>No</td>\n",
              "      <td>2</td>\n",
              "      <td>1</td>\n",
              "      <td>3</td>\n",
              "      <td>6</td>\n",
              "      <td>4</td>\n",
              "      <td>5</td>\n",
              "      <td>7</td>\n",
              "      <td>...</td>\n",
              "      <td>Less than 1 year</td>\n",
              "      <td>Daily</td>\n",
              "      <td>20%-30%</td>\n",
              "      <td>Equity</td>\n",
              "      <td>Retirement Plan</td>\n",
              "      <td>Capital Appreciation</td>\n",
              "      <td>Better Returns</td>\n",
              "      <td>Safe Investment</td>\n",
              "      <td>Risk Free</td>\n",
              "      <td>Internet</td>\n",
              "    </tr>\n",
              "  </tbody>\n",
              "</table>\n",
              "<p>5 rows × 24 columns</p>\n",
              "</div>\n",
              "    <div class=\"colab-df-buttons\">\n",
              "\n",
              "  <div class=\"colab-df-container\">\n",
              "    <button class=\"colab-df-convert\" onclick=\"convertToInteractive('df-f0829730-6e5f-4ba9-bb01-844df7a3e58b')\"\n",
              "            title=\"Convert this dataframe to an interactive table.\"\n",
              "            style=\"display:none;\">\n",
              "\n",
              "  <svg xmlns=\"http://www.w3.org/2000/svg\" height=\"24px\" viewBox=\"0 -960 960 960\">\n",
              "    <path d=\"M120-120v-720h720v720H120Zm60-500h600v-160H180v160Zm220 220h160v-160H400v160Zm0 220h160v-160H400v160ZM180-400h160v-160H180v160Zm440 0h160v-160H620v160ZM180-180h160v-160H180v160Zm440 0h160v-160H620v160Z\"/>\n",
              "  </svg>\n",
              "    </button>\n",
              "\n",
              "  <style>\n",
              "    .colab-df-container {\n",
              "      display:flex;\n",
              "      gap: 12px;\n",
              "    }\n",
              "\n",
              "    .colab-df-convert {\n",
              "      background-color: #E8F0FE;\n",
              "      border: none;\n",
              "      border-radius: 50%;\n",
              "      cursor: pointer;\n",
              "      display: none;\n",
              "      fill: #1967D2;\n",
              "      height: 32px;\n",
              "      padding: 0 0 0 0;\n",
              "      width: 32px;\n",
              "    }\n",
              "\n",
              "    .colab-df-convert:hover {\n",
              "      background-color: #E2EBFA;\n",
              "      box-shadow: 0px 1px 2px rgba(60, 64, 67, 0.3), 0px 1px 3px 1px rgba(60, 64, 67, 0.15);\n",
              "      fill: #174EA6;\n",
              "    }\n",
              "\n",
              "    .colab-df-buttons div {\n",
              "      margin-bottom: 4px;\n",
              "    }\n",
              "\n",
              "    [theme=dark] .colab-df-convert {\n",
              "      background-color: #3B4455;\n",
              "      fill: #D2E3FC;\n",
              "    }\n",
              "\n",
              "    [theme=dark] .colab-df-convert:hover {\n",
              "      background-color: #434B5C;\n",
              "      box-shadow: 0px 1px 3px 1px rgba(0, 0, 0, 0.15);\n",
              "      filter: drop-shadow(0px 1px 2px rgba(0, 0, 0, 0.3));\n",
              "      fill: #FFFFFF;\n",
              "    }\n",
              "  </style>\n",
              "\n",
              "    <script>\n",
              "      const buttonEl =\n",
              "        document.querySelector('#df-f0829730-6e5f-4ba9-bb01-844df7a3e58b button.colab-df-convert');\n",
              "      buttonEl.style.display =\n",
              "        google.colab.kernel.accessAllowed ? 'block' : 'none';\n",
              "\n",
              "      async function convertToInteractive(key) {\n",
              "        const element = document.querySelector('#df-f0829730-6e5f-4ba9-bb01-844df7a3e58b');\n",
              "        const dataTable =\n",
              "          await google.colab.kernel.invokeFunction('convertToInteractive',\n",
              "                                                    [key], {});\n",
              "        if (!dataTable) return;\n",
              "\n",
              "        const docLinkHtml = 'Like what you see? Visit the ' +\n",
              "          '<a target=\"_blank\" href=https://colab.research.google.com/notebooks/data_table.ipynb>data table notebook</a>'\n",
              "          + ' to learn more about interactive tables.';\n",
              "        element.innerHTML = '';\n",
              "        dataTable['output_type'] = 'display_data';\n",
              "        await google.colab.output.renderOutput(dataTable, element);\n",
              "        const docLink = document.createElement('div');\n",
              "        docLink.innerHTML = docLinkHtml;\n",
              "        element.appendChild(docLink);\n",
              "      }\n",
              "    </script>\n",
              "  </div>\n",
              "\n",
              "\n",
              "<div id=\"df-acdbd78e-9d38-467c-a9c9-261cf94c1a2c\">\n",
              "  <button class=\"colab-df-quickchart\" onclick=\"quickchart('df-acdbd78e-9d38-467c-a9c9-261cf94c1a2c')\"\n",
              "            title=\"Suggest charts\"\n",
              "            style=\"display:none;\">\n",
              "\n",
              "<svg xmlns=\"http://www.w3.org/2000/svg\" height=\"24px\"viewBox=\"0 0 24 24\"\n",
              "     width=\"24px\">\n",
              "    <g>\n",
              "        <path d=\"M19 3H5c-1.1 0-2 .9-2 2v14c0 1.1.9 2 2 2h14c1.1 0 2-.9 2-2V5c0-1.1-.9-2-2-2zM9 17H7v-7h2v7zm4 0h-2V7h2v10zm4 0h-2v-4h2v4z\"/>\n",
              "    </g>\n",
              "</svg>\n",
              "  </button>\n",
              "\n",
              "<style>\n",
              "  .colab-df-quickchart {\n",
              "      --bg-color: #E8F0FE;\n",
              "      --fill-color: #1967D2;\n",
              "      --hover-bg-color: #E2EBFA;\n",
              "      --hover-fill-color: #174EA6;\n",
              "      --disabled-fill-color: #AAA;\n",
              "      --disabled-bg-color: #DDD;\n",
              "  }\n",
              "\n",
              "  [theme=dark] .colab-df-quickchart {\n",
              "      --bg-color: #3B4455;\n",
              "      --fill-color: #D2E3FC;\n",
              "      --hover-bg-color: #434B5C;\n",
              "      --hover-fill-color: #FFFFFF;\n",
              "      --disabled-bg-color: #3B4455;\n",
              "      --disabled-fill-color: #666;\n",
              "  }\n",
              "\n",
              "  .colab-df-quickchart {\n",
              "    background-color: var(--bg-color);\n",
              "    border: none;\n",
              "    border-radius: 50%;\n",
              "    cursor: pointer;\n",
              "    display: none;\n",
              "    fill: var(--fill-color);\n",
              "    height: 32px;\n",
              "    padding: 0;\n",
              "    width: 32px;\n",
              "  }\n",
              "\n",
              "  .colab-df-quickchart:hover {\n",
              "    background-color: var(--hover-bg-color);\n",
              "    box-shadow: 0 1px 2px rgba(60, 64, 67, 0.3), 0 1px 3px 1px rgba(60, 64, 67, 0.15);\n",
              "    fill: var(--button-hover-fill-color);\n",
              "  }\n",
              "\n",
              "  .colab-df-quickchart-complete:disabled,\n",
              "  .colab-df-quickchart-complete:disabled:hover {\n",
              "    background-color: var(--disabled-bg-color);\n",
              "    fill: var(--disabled-fill-color);\n",
              "    box-shadow: none;\n",
              "  }\n",
              "\n",
              "  .colab-df-spinner {\n",
              "    border: 2px solid var(--fill-color);\n",
              "    border-color: transparent;\n",
              "    border-bottom-color: var(--fill-color);\n",
              "    animation:\n",
              "      spin 1s steps(1) infinite;\n",
              "  }\n",
              "\n",
              "  @keyframes spin {\n",
              "    0% {\n",
              "      border-color: transparent;\n",
              "      border-bottom-color: var(--fill-color);\n",
              "      border-left-color: var(--fill-color);\n",
              "    }\n",
              "    20% {\n",
              "      border-color: transparent;\n",
              "      border-left-color: var(--fill-color);\n",
              "      border-top-color: var(--fill-color);\n",
              "    }\n",
              "    30% {\n",
              "      border-color: transparent;\n",
              "      border-left-color: var(--fill-color);\n",
              "      border-top-color: var(--fill-color);\n",
              "      border-right-color: var(--fill-color);\n",
              "    }\n",
              "    40% {\n",
              "      border-color: transparent;\n",
              "      border-right-color: var(--fill-color);\n",
              "      border-top-color: var(--fill-color);\n",
              "    }\n",
              "    60% {\n",
              "      border-color: transparent;\n",
              "      border-right-color: var(--fill-color);\n",
              "    }\n",
              "    80% {\n",
              "      border-color: transparent;\n",
              "      border-right-color: var(--fill-color);\n",
              "      border-bottom-color: var(--fill-color);\n",
              "    }\n",
              "    90% {\n",
              "      border-color: transparent;\n",
              "      border-bottom-color: var(--fill-color);\n",
              "    }\n",
              "  }\n",
              "</style>\n",
              "\n",
              "  <script>\n",
              "    async function quickchart(key) {\n",
              "      const quickchartButtonEl =\n",
              "        document.querySelector('#' + key + ' button');\n",
              "      quickchartButtonEl.disabled = true;  // To prevent multiple clicks.\n",
              "      quickchartButtonEl.classList.add('colab-df-spinner');\n",
              "      try {\n",
              "        const charts = await google.colab.kernel.invokeFunction(\n",
              "            'suggestCharts', [key], {});\n",
              "      } catch (error) {\n",
              "        console.error('Error during call to suggestCharts:', error);\n",
              "      }\n",
              "      quickchartButtonEl.classList.remove('colab-df-spinner');\n",
              "      quickchartButtonEl.classList.add('colab-df-quickchart-complete');\n",
              "    }\n",
              "    (() => {\n",
              "      let quickchartButtonEl =\n",
              "        document.querySelector('#df-acdbd78e-9d38-467c-a9c9-261cf94c1a2c button');\n",
              "      quickchartButtonEl.style.display =\n",
              "        google.colab.kernel.accessAllowed ? 'block' : 'none';\n",
              "    })();\n",
              "  </script>\n",
              "</div>\n",
              "\n",
              "    </div>\n",
              "  </div>\n"
            ],
            "application/vnd.google.colaboratory.intrinsic+json": {
              "type": "dataframe",
              "variable_name": "df"
            }
          },
          "metadata": {},
          "execution_count": 19
        }
      ]
    },
    {
      "cell_type": "code",
      "source": [
        "# Create a sample dataframe\n",
        "data = {'column1': [1, 2, 3], 'column2': ['a', 'b', 'c']}\n",
        "df = pd.DataFrame(data)\n",
        "df.info()"
      ],
      "metadata": {
        "colab": {
          "base_uri": "https://localhost:8080/"
        },
        "id": "0p8AY7Zg2HuX",
        "outputId": "92beb4d4-0f0f-41c8-a410-a8e92c9aa363"
      },
      "execution_count": null,
      "outputs": [
        {
          "output_type": "stream",
          "name": "stdout",
          "text": [
            "<class 'pandas.core.frame.DataFrame'>\n",
            "RangeIndex: 3 entries, 0 to 2\n",
            "Data columns (total 2 columns):\n",
            " #   Column   Non-Null Count  Dtype \n",
            "---  ------   --------------  ----- \n",
            " 0   column1  3 non-null      int64 \n",
            " 1   column2  3 non-null      object\n",
            "dtypes: int64(1), object(1)\n",
            "memory usage: 176.0+ bytes\n"
          ]
        }
      ]
    },
    {
      "cell_type": "markdown",
      "source": [
        "# Level 1: Beginner(Task 2: Gender Distribution)"
      ],
      "metadata": {
        "id": "cJGB7mTV26gt"
      }
    },
    {
      "cell_type": "code",
      "source": [
        "# Extract the gender column\n",
        "gender_column = df['gender']\n",
        "print(gender_column)"
      ],
      "metadata": {
        "colab": {
          "base_uri": "https://localhost:8080/"
        },
        "id": "ZQfFxhaP2ZA_",
        "outputId": "ec3f32fa-fb9b-43a9-ce31-ecf362354bbb"
      },
      "execution_count": null,
      "outputs": [
        {
          "output_type": "stream",
          "name": "stdout",
          "text": [
            "0     Female\n",
            "1     Female\n",
            "2       Male\n",
            "3       Male\n",
            "4     Female\n",
            "5     Female\n",
            "6     Female\n",
            "7       Male\n",
            "8       Male\n",
            "9       Male\n",
            "10    Female\n",
            "11      Male\n",
            "12    Female\n",
            "13    Female\n",
            "14    Female\n",
            "15      Male\n",
            "16    Female\n",
            "17      Male\n",
            "18      Male\n",
            "19      Male\n",
            "20      Male\n",
            "21    Female\n",
            "22      Male\n",
            "23      Male\n",
            "24    Female\n",
            "25    Female\n",
            "26      Male\n",
            "27      Male\n",
            "28      Male\n",
            "29    Female\n",
            "30      Male\n",
            "31    Female\n",
            "32      Male\n",
            "33      Male\n",
            "34      Male\n",
            "35      Male\n",
            "36      Male\n",
            "37      Male\n",
            "38      Male\n",
            "39      Male\n",
            "Name: gender, dtype: object\n"
          ]
        }
      ]
    },
    {
      "cell_type": "code",
      "source": [],
      "metadata": {
        "id": "XyLOk54F5VTk"
      },
      "execution_count": null,
      "outputs": []
    },
    {
      "source": [
        "data = {'gender': ['Male', 'Female', 'Male', 'Female', 'Female'],\n",
        "       'count': [100, 150, 80, 120, 90]}\n",
        "df = pd.DataFrame(data)\n",
        "gender_counts = df.groupby('gender')['count'].sum()\n",
        "plt.bar(gender_counts.index, gender_counts.values)\n",
        "plt.xlabel('Gender')\n",
        "plt.ylabel('Count')\n",
        "plt.title('Distribution of Genders')\n",
        "plt.show()"
      ],
      "cell_type": "code",
      "metadata": {
        "colab": {
          "base_uri": "https://localhost:8080/",
          "height": 472
        },
        "id": "0IfW0F3h5XMr",
        "outputId": "9856c521-1c75-4b88-fc8b-919615d674cc"
      },
      "execution_count": null,
      "outputs": [
        {
          "output_type": "display_data",
          "data": {
            "text/plain": [
              "<Figure size 640x480 with 1 Axes>"
            ],
            "image/png": "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\n"
          },
          "metadata": {}
        }
      ]
    },
    {
      "cell_type": "markdown",
      "source": [
        "# Level 2: Intermediate (Task 3:Descriptive Statistics)"
      ],
      "metadata": {
        "id": "RzLeVKk55x0D"
      }
    },
    {
      "cell_type": "code",
      "source": [
        "numerical_columns = df.select_dtypes(include=['int64', 'float64']).columns.tolist()\n",
        "print(\"Numerical columns:\", numerical_columns)"
      ],
      "metadata": {
        "colab": {
          "base_uri": "https://localhost:8080/"
        },
        "id": "YUcm-qxE6FsK",
        "outputId": "cacc814a-3cde-4e2e-edc1-3e185e16024b"
      },
      "execution_count": null,
      "outputs": [
        {
          "output_type": "stream",
          "name": "stdout",
          "text": [
            "Numerical columns: ['age', 'Mutual_Funds', 'Equity_Market', 'Debentures', 'Government_Bonds', 'Fixed_Deposits', 'PPF', 'Gold']\n"
          ]
        }
      ]
    },
    {
      "source": [
        "numerical_columns = df.select_dtypes(include=['int64', 'float64']).columns.tolist()\n",
        "for col in numerical_columns:\n",
        "    mean = df[col].mean()\n",
        "    median = df[col].median()\n",
        "    std = df[col].std()\n",
        "    print(f\"Column: {col}\")\n",
        "    print(f\"Mean: {mean}\")\n",
        "    print(f\"Median: {median}\")\n",
        "    print(f\"Standard deviation: {std}\")\n",
        "    print()"
      ],
      "cell_type": "code",
      "metadata": {
        "colab": {
          "base_uri": "https://localhost:8080/"
        },
        "id": "076BQ7OS6dUb",
        "outputId": "d4d56853-75a1-4801-9b48-4cd9486b0fe9"
      },
      "execution_count": null,
      "outputs": [
        {
          "output_type": "stream",
          "name": "stdout",
          "text": [
            "Column: age\n",
            "Mean: 27.8\n",
            "Median: 27.0\n",
            "Standard deviation: 3.560466693696639\n",
            "\n",
            "Column: Mutual_Funds\n",
            "Mean: 2.55\n",
            "Median: 2.0\n",
            "Standard deviation: 1.1972189997378648\n",
            "\n",
            "Column: Equity_Market\n",
            "Mean: 3.475\n",
            "Median: 4.0\n",
            "Standard deviation: 1.1319939294935535\n",
            "\n",
            "Column: Debentures\n",
            "Mean: 5.75\n",
            "Median: 6.5\n",
            "Standard deviation: 1.6756169931378433\n",
            "\n",
            "Column: Government_Bonds\n",
            "Mean: 4.65\n",
            "Median: 5.0\n",
            "Standard deviation: 1.369072304284538\n",
            "\n",
            "Column: Fixed_Deposits\n",
            "Mean: 3.575\n",
            "Median: 3.5\n",
            "Standard deviation: 1.795828499606797\n",
            "\n",
            "Column: PPF\n",
            "Mean: 2.025\n",
            "Median: 1.0\n",
            "Standard deviation: 1.6090688500193409\n",
            "\n",
            "Column: Gold\n",
            "Mean: 5.975\n",
            "Median: 6.0\n",
            "Standard deviation: 1.1432634351063984\n",
            "\n"
          ]
        }
      ]
    },
    {
      "cell_type": "markdown",
      "source": [
        "Level 2: Intermediate\n",
        "(Task 4: Most Preferred Investment\n",
        "Avenue)"
      ],
      "metadata": {
        "id": "Ku9TLjTb6rWQ"
      }
    },
    {
      "source": [
        "investment_column = df['Investment_Avenues']\n",
        "investment_counts = investment_column.value_counts()\n",
        "investment_percentages = (investment_counts / investment_counts.sum()) * 100\n",
        "print(\"Investment Avenues:\")\n",
        "for investment, count in investment_counts.items():\n",
        "    percentage = investment_percentages[investment]\n",
        "    print(f\"- {investment}: {count} occurrences ({percentage:.2f}%)\")\n",
        "plt.figure(figsize=(5, 5))\n",
        "plt.pie(investment_percentages, labels=investment_counts.index, autopct=\"%1.1f%%\")\n",
        "plt.title(\"Distribution of Investment Avenues\")\n",
        "plt.show()"
      ],
      "cell_type": "code",
      "metadata": {
        "colab": {
          "base_uri": "https://localhost:8080/",
          "height": 496
        },
        "id": "pY_jlNes7CsL",
        "outputId": "a72fdde5-ea0e-4942-f22c-0cef3a48dfcb"
      },
      "execution_count": null,
      "outputs": [
        {
          "output_type": "stream",
          "name": "stdout",
          "text": [
            "Investment Avenues:\n",
            "- Yes: 37 occurrences (92.50%)\n",
            "- No: 3 occurrences (7.50%)\n"
          ]
        },
        {
          "output_type": "display_data",
          "data": {
            "text/plain": [
              "<Figure size 500x500 with 1 Axes>"
            ],
            "image/png": "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\n"
          },
          "metadata": {}
        }
      ]
    },
    {
      "source": [
        "investment_column = df['Investment_Avenues']\n",
        "investment_counts = investment_column.value_counts()\n",
        "most_frequent_investment = investment_counts.index[0]\n",
        "highest_frequency = investment_counts[most_frequent_investment]\n",
        "print(f\"Investment avenue with the highest frequency: {most_frequent_investment}\")\n",
        "print(f\"Number of occurrences: {highest_frequency}\")"
      ],
      "cell_type": "code",
      "metadata": {
        "colab": {
          "base_uri": "https://localhost:8080/"
        },
        "id": "AXSB6tbY7avA",
        "outputId": "4a7cd45e-eecd-4816-deec-d45af5779386"
      },
      "execution_count": null,
      "outputs": [
        {
          "output_type": "stream",
          "name": "stdout",
          "text": [
            "Investment avenue with the highest frequency: Yes\n",
            "Number of occurrences: 37\n"
          ]
        }
      ]
    },
    {
      "cell_type": "markdown",
      "source": [
        "# Level 3: Advanced (Task 5: Reasons for Investment)"
      ],
      "metadata": {
        "id": "0-S0pY0D7tHJ"
      }
    },
    {
      "cell_type": "code",
      "source": [
        "Reasons_for_investment = df[['Reason_Equity', 'Reason_Mutual', 'Reason_Bonds', 'Reason_FD']]\n",
        "print(Reasons_for_investment)"
      ],
      "metadata": {
        "colab": {
          "base_uri": "https://localhost:8080/"
        },
        "id": "GyZW9MCuE5bE",
        "outputId": "9e9f239a-10b3-4874-979a-4263bf0bff12"
      },
      "execution_count": null,
      "outputs": [
        {
          "output_type": "stream",
          "name": "stdout",
          "text": [
            "           Reason_Equity         Reason_Mutual     Reason_Bonds  \\\n",
            "0   Capital Appreciation        Better Returns  Safe Investment   \n",
            "1               Dividend        Better Returns  Safe Investment   \n",
            "2   Capital Appreciation          Tax Benefits  Assured Returns   \n",
            "3               Dividend  Fund Diversification   Tax Incentives   \n",
            "4   Capital Appreciation        Better Returns  Safe Investment   \n",
            "5              Liquidity  Fund Diversification  Safe Investment   \n",
            "6   Capital Appreciation        Better Returns  Assured Returns   \n",
            "7   Capital Appreciation        Better Returns  Assured Returns   \n",
            "8   Capital Appreciation  Fund Diversification  Safe Investment   \n",
            "9   Capital Appreciation  Fund Diversification  Assured Returns   \n",
            "10  Capital Appreciation        Better Returns  Assured Returns   \n",
            "11  Capital Appreciation  Fund Diversification  Assured Returns   \n",
            "12              Dividend        Better Returns  Safe Investment   \n",
            "13  Capital Appreciation  Fund Diversification  Assured Returns   \n",
            "14              Dividend        Better Returns  Assured Returns   \n",
            "15  Capital Appreciation  Fund Diversification  Assured Returns   \n",
            "16  Capital Appreciation  Fund Diversification  Assured Returns   \n",
            "17  Capital Appreciation        Better Returns  Assured Returns   \n",
            "18  Capital Appreciation        Better Returns  Assured Returns   \n",
            "19  Capital Appreciation  Fund Diversification  Assured Returns   \n",
            "20  Capital Appreciation        Better Returns  Assured Returns   \n",
            "21  Capital Appreciation        Better Returns  Assured Returns   \n",
            "22  Capital Appreciation        Better Returns  Assured Returns   \n",
            "23             Liquidity        Better Returns  Assured Returns   \n",
            "24  Capital Appreciation        Better Returns  Assured Returns   \n",
            "25  Capital Appreciation        Better Returns  Assured Returns   \n",
            "26              Dividend  Fund Diversification  Assured Returns   \n",
            "27  Capital Appreciation  Fund Diversification  Safe Investment   \n",
            "28  Capital Appreciation        Better Returns  Assured Returns   \n",
            "29  Capital Appreciation          Tax Benefits  Safe Investment   \n",
            "30  Capital Appreciation          Tax Benefits  Safe Investment   \n",
            "31  Capital Appreciation        Better Returns  Assured Returns   \n",
            "32  Capital Appreciation  Fund Diversification  Assured Returns   \n",
            "33              Dividend        Better Returns  Safe Investment   \n",
            "34  Capital Appreciation        Better Returns  Safe Investment   \n",
            "35  Capital Appreciation        Better Returns  Assured Returns   \n",
            "36  Capital Appreciation        Better Returns  Assured Returns   \n",
            "37  Capital Appreciation        Better Returns  Safe Investment   \n",
            "38              Dividend  Fund Diversification  Assured Returns   \n",
            "39              Dividend        Better Returns  Safe Investment   \n",
            "\n",
            "              Reason_FD  \n",
            "0         Fixed Returns  \n",
            "1   High Interest Rates  \n",
            "2         Fixed Returns  \n",
            "3   High Interest Rates  \n",
            "4             Risk Free  \n",
            "5             Risk Free  \n",
            "6   High Interest Rates  \n",
            "7             Risk Free  \n",
            "8         Fixed Returns  \n",
            "9         Fixed Returns  \n",
            "10            Risk Free  \n",
            "11        Fixed Returns  \n",
            "12            Risk Free  \n",
            "13            Risk Free  \n",
            "14            Risk Free  \n",
            "15            Risk Free  \n",
            "16            Risk Free  \n",
            "17            Risk Free  \n",
            "18            Risk Free  \n",
            "19            Risk Free  \n",
            "20        Fixed Returns  \n",
            "21            Risk Free  \n",
            "22            Risk Free  \n",
            "23            Risk Free  \n",
            "24            Risk Free  \n",
            "25        Fixed Returns  \n",
            "26        Fixed Returns  \n",
            "27        Fixed Returns  \n",
            "28            Risk Free  \n",
            "29        Fixed Returns  \n",
            "30        Fixed Returns  \n",
            "31        Fixed Returns  \n",
            "32        Fixed Returns  \n",
            "33            Risk Free  \n",
            "34        Fixed Returns  \n",
            "35        Fixed Returns  \n",
            "36            Risk Free  \n",
            "37        Fixed Returns  \n",
            "38        Fixed Returns  \n",
            "39        Fixed Returns  \n"
          ]
        }
      ]
    },
    {
      "cell_type": "markdown",
      "source": [
        "# Level 3: Advanced (Task 6: Savings Objectives)"
      ],
      "metadata": {
        "id": "f6ngTsjx9pR5"
      }
    },
    {
      "source": [
        "savings_objectives_column = df['What are your savings objectives?']\n",
        "savings_objectives_counts = savings_objectives_column.value_counts()\n",
        "top_objectives = savings_objectives_counts.head(3)\n",
        "print(\"Most frequent savings objectives:\")\n",
        "for objective, count in top_objectives.items():\n",
        "    print(f\"- {objective}: {count}\")\n",
        "common_themes = []\n",
        "for objective, count in savings_objectives_counts.items():\n",
        "    if count >= 5:\n",
        "        keywords = ['retirement', 'education', 'house', 'car', 'travel']\n",
        "        for keyword in keywords:\n",
        "            if keyword in objective.lower():\n",
        "                common_themes.append(keyword)\n",
        "print(\"\\nCommon themes in savings objectives:\")\n",
        "for  theme in common_themes:\n",
        "    print(f\"- {theme}\")"
      ],
      "cell_type": "code",
      "metadata": {
        "colab": {
          "base_uri": "https://localhost:8080/"
        },
        "id": "H30G89r19z0Y",
        "outputId": "d770fe9a-717b-4d01-bc10-1cdb42e864b2"
      },
      "execution_count": null,
      "outputs": [
        {
          "output_type": "stream",
          "name": "stdout",
          "text": [
            "Most frequent savings objectives:\n",
            "- Retirement Plan: 24\n",
            "- Health Care: 13\n",
            "- Education: 3\n",
            "\n",
            "Common themes in savings objectives:\n",
            "- retirement\n",
            "- car\n"
          ]
        }
      ]
    },
    {
      "source": [
        "savings_objectives = [\n",
        "    \"Retirement Planning\",\n",
        "    \"Emergency Fund\",\n",
        "    \"Education Funding\",\n",
        "    \"Major Purchases\",\n",
        "    \"Financial Security\",\n",
        "    \"Debt Repayment\",\n",
        "    \"Investment Opportunities\",\n",
        "    \"Family and Children\",\n",
        "    \"Travel and Leisure\",\n",
        "    \"Home Improvement\",\n",
        "]\n",
        "print(\"List of Savings Objectives:\")\n",
        "for objective in savings_objectives:\n",
        "    print(f\"* ({objective}): Saving for {objective.lower()} to ensure financial stability and security.\")"
      ],
      "cell_type": "code",
      "metadata": {
        "colab": {
          "base_uri": "https://localhost:8080/"
        },
        "id": "ObnqELwmGsVT",
        "outputId": "ea751909-909f-4e78-b826-0109edc8a60c"
      },
      "execution_count": null,
      "outputs": [
        {
          "output_type": "stream",
          "name": "stdout",
          "text": [
            "List of Savings Objectives:\n",
            "* (Retirement Planning): Saving for retirement planning to ensure financial stability and security.\n",
            "* (Emergency Fund): Saving for emergency fund to ensure financial stability and security.\n",
            "* (Education Funding): Saving for education funding to ensure financial stability and security.\n",
            "* (Major Purchases): Saving for major purchases to ensure financial stability and security.\n",
            "* (Financial Security): Saving for financial security to ensure financial stability and security.\n",
            "* (Debt Repayment): Saving for debt repayment to ensure financial stability and security.\n",
            "* (Investment Opportunities): Saving for investment opportunities to ensure financial stability and security.\n",
            "* (Family and Children): Saving for family and children to ensure financial stability and security.\n",
            "* (Travel and Leisure): Saving for travel and leisure to ensure financial stability and security.\n",
            "* (Home Improvement): Saving for home improvement to ensure financial stability and security.\n"
          ]
        }
      ]
    },
    {
      "cell_type": "markdown",
      "source": [
        "# Level 4: Expert(Task 7: Common Information Sources)"
      ],
      "metadata": {
        "id": "kmkGmBwXHSYH"
      }
    },
    {
      "cell_type": "code",
      "source": [
        "information_sources_column = df['Source']"
      ],
      "metadata": {
        "id": "s8Qil0SEIDqR"
      },
      "execution_count": null,
      "outputs": []
    },
    {
      "cell_type": "code",
      "source": [
        "information_sources_counts = information_sources_column.value_counts()"
      ],
      "metadata": {
        "id": "JwvtYiwLIesm"
      },
      "execution_count": null,
      "outputs": []
    },
    {
      "source": [
        "# Bar chart\n",
        "plt.bar(information_sources_counts.index, information_sources_counts.values)\n",
        "plt.xlabel(\"Information Sources\")\n",
        "plt.ylabel(\"Count\")\n",
        "plt.title(\"Sources of Investment Information\")\n",
        "plt.xticks(rotation=45)\n",
        "plt.show()\n",
        "\n",
        "# Pie chart\n",
        "plt.pie(information_sources_counts, labels=information_sources_counts.index, autopct=\"%1.1f%%\")\n",
        "plt.title(\"Sources of Investment Information\")\n",
        "plt.show()"
      ],
      "cell_type": "code",
      "metadata": {
        "colab": {
          "base_uri": "https://localhost:8080/",
          "height": 1000
        },
        "id": "5p0ArQizH7rv",
        "outputId": "1a727e22-1214-4071-b6fc-9a1c246723dd"
      },
      "execution_count": null,
      "outputs": [
        {
          "output_type": "display_data",
          "data": {
            "text/plain": [
              "<Figure size 640x480 with 1 Axes>"
            ],
            "image/png": "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\n"
          },
          "metadata": {}
        },
        {
          "output_type": "display_data",
          "data": {
            "text/plain": [
              "<Figure size 640x480 with 1 Axes>"
            ],
            "image/png": "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\n"
          },
          "metadata": {}
        }
      ]
    },
    {
      "source": [
        "top_sources = information_sources_counts.sort_values(ascending=False).head(5)\n",
        "\n",
        "print(\"Most Common Sources of Investment Information:\")\n",
        "for source, count in top_sources.items():\n",
        "    print(f\"- {source}: {count}\")"
      ],
      "cell_type": "code",
      "metadata": {
        "colab": {
          "base_uri": "https://localhost:8080/"
        },
        "id": "RcCG3QLzI8aW",
        "outputId": "f3f76654-64d4-4040-efff-0b68d71b09e6"
      },
      "execution_count": null,
      "outputs": [
        {
          "output_type": "stream",
          "name": "stdout",
          "text": [
            "Most Common Sources of Investment Information:\n",
            "- Financial Consultants: 16\n",
            "- Newspapers and Magazines: 14\n",
            "- Television: 6\n",
            "- Internet: 4\n"
          ]
        }
      ]
    },
    {
      "source": [
        "plt.bar(top_sources.index, top_sources.values)\n",
        "plt.xlabel(\"Information Sources\")\n",
        "plt.ylabel(\"Count\")\n",
        "plt.title(\"Most Common Sources of Investment Information\")\n",
        "plt.show()"
      ],
      "cell_type": "code",
      "metadata": {
        "colab": {
          "base_uri": "https://localhost:8080/",
          "height": 472
        },
        "id": "nm5uSGB4I9TX",
        "outputId": "f7f68b51-3401-4ef2-cbfb-49ba0bb00fb1"
      },
      "execution_count": null,
      "outputs": [
        {
          "output_type": "display_data",
          "data": {
            "text/plain": [
              "<Figure size 640x480 with 1 Axes>"
            ],
            "image/png": "iVBORw0KGgoAAAANSUhEUgAAAjMAAAHHCAYAAABKudlQAAAAOXRFWHRTb2Z0d2FyZQBNYXRwbG90bGliIHZlcnNpb24zLjcuMSwgaHR0cHM6Ly9tYXRwbG90bGliLm9yZy/bCgiHAAAACXBIWXMAAA9hAAAPYQGoP6dpAABVUklEQVR4nO3deXgNd/sG8PtkO9kXRBYiiZBILLGFEiUhRBDBa1cNqmgttbZNrbEFVUtVLfUW1SpVW2upJQ1KqK2JfYkl0lpSSiKWIHl+f/hlXkcSkgjnjN6f6zoXM/OdmefMlvvMzJmjEREBERERkUoZ6bsAIiIiohfBMENERESqxjBDREREqsYwQ0RERKrGMENERESqxjBDREREqsYwQ0RERKrGMENERESqxjBDREREqsYwQ0SvhbNnz6JZs2aws7ODRqPBunXr9F0SvQKv83oPCgpCUFCQvstQBYYZA7NkyRJoNBpoNBrs3r0713ARgZubGzQaDVq1avVSarh8+TLGjRuHhISEQo137tw59O3bF+XLl4e5uTlsbW0RGBiI2bNn4969ey+l1tfF0aNH0b59e7i7u8Pc3BxlypRB06ZNMWfOHH2XphqRkZE4evQoJk2ahGXLlqF27dp5trt48SI0Gg2mT5/+iissusmTJ6vmj3R8fDzGjRuHW7duFah9jx49YG1tXeT5FXS9G6oTJ05g3LhxuHjxor5LUTUTfRdAeTM3N8fy5cvRoEEDnf47d+7En3/+Ca1W+9LmffnyZURHR8PDwwPVq1cv0DgbN25Ehw4doNVq8fbbb6NKlSp48OABdu/ejREjRuD48eNYuHDhS6tZzeLj4xEcHIxy5crh3XffhbOzM1JSUrBv3z7Mnj0bAwcO1HeJBu/evXvYu3cvRo4ciQEDBui7nGI3efJktG/fHm3atNF3Kc8VHx+P6Oho9OjRA/b29i91Xq/Dej9x4gSio6MRFBQEDw8PnWFbt27VT1EqxDBjoFq0aIFVq1bh888/h4nJ/1bT8uXLUatWLVy/fl2P1em6cOECOnfuDHd3d/z6669wcXFRhvXv3x9JSUnYuHGjHis0bJMmTYKdnR0OHDiQ6+Cfmpr6yuu5c+cOrKysXvl8X8Tff/8NAC/9jycZlpex3g1p+zczM9N3CeohZFAWL14sAGTVqlWi0Whk06ZNyrDMzExxcHCQzz77TNzd3aVly5Y642ZkZMjQoUOlbNmyYmZmJt7e3vLpp59Kdna2TrutW7dKYGCg2NnZiZWVlXh7e0tUVJSIiMTFxQmAXK/FixfnW3O/fv0EgOzZs6dA7/Hhw4cyfvx4KV++vJiZmYm7u7tERUXJ/fv3ddrlvMe4uDipVauWmJubS5UqVSQuLk5ERFavXi1VqlQRrVYrNWvWlMOHD+uMHxkZKVZWVpKcnCwtW7YUKysrcXV1lS+++EJERI4cOSLBwcFiaWkp5cqVk++++y5XrefOnZP27duLg4ODWFhYSN26dWXDhg06bXKW2cqVK2XixIlSpkwZ0Wq10rhxYzl79uxzl4ePj48EBQUV67IDIGPHjs01vru7u0RGRirdOdvbjh075L333hNHR0ext7dXhm/atEkaNmwo1tbWYmNjI7Vr1861nPbt2yehoaFia2srFhYW0rBhQ9m9e7dOm/T0dPnggw/E3d1dzMzMxNHRUUJCQuTQoUPPfc+HDx+W5s2bi42NjVhZWUnjxo1l7969yvCxY8fm2l7d3d3znd6FCxcEgHz66ae5lsPu3btlyJAhUqpUKbG0tJQ2bdpIamqq0q5ly5bi6emZ53TfeOMNqVWrlk6/ZcuWSc2aNcXc3FwcHBykU6dOcunSJZ02Z86ckXbt2omTk5NotVopU6aMdOrUSW7duiUikuf+mLMOc9776dOnpVu3bmJrayulSpWSUaNGSXZ2tly6dElat24tNjY24uTkJNOnT89V9/3792XMmDHi5eUlZmZmUrZsWRkxYkSe21T//v1l7dq1UrlyZTEzMxM/Pz/ZvHnzM9cFALlw4UK+6yNnP31Szr7/22+/SUBAgGi1WvH09JSlS5c+c15PrvfnbTciz97+GzVqJJUrV5bExERp2LChWFhYiJeXl6xatUpERHbs2CF16tQRc3Nz8fb2lm3btulM++LFi/Lee++Jt7e3mJubS4kSJaR9+/Y6yyJn/k+/co5xjRo1kkaNGulM99q1a9KrVy8pXbq0aLVaqVatmixZskSnzZPb+IIFC5TjRe3atWX//v35rgs1Y5gxMDkb94EDB6R+/frSvXt3Zdi6devEyMhI/vrrr1xhJjs7Wxo3biwajUZ69+4tX3zxhYSHhwsAGTx4sNLu2LFjykY9e/ZsmT9/vgwfPlwaNmwoIiJXr16V8ePHCwDp06ePLFu2TJYtWybnzp3Lt+YyZcpI+fLlC/weIyMjBYC0b99e5s6dK2+//bYAkDZt2ui0c3d3Fx8fH3FxcZFx48bJzJkzpUyZMmJtbS3ffvutlCtXTqZMmSJTpkwROzs7qVChgmRlZenMx9zcXPz8/KRfv34yd+5cqV+/vhLOXF1dZcSIETJnzhypXLmyGBsby/nz55Xxr169Kk5OTmJjYyMjR46UGTNmiL+/vxgZGcmaNWuUdjlhpkaNGlKrVi2ZOXOmjBs3TiwtLaVOnTrPXR7NmjUTGxsbOXr0aLEtu8KGGT8/P2nUqJHMmTNHpkyZogzTaDRSpUoVmTRpksydO1d69+6ts03GxsaKmZmZ1KtXTz777DOZOXOmVKtWTczMzOT3339X2nXt2lXMzMxk6NChsmjRIpk6daqEh4fLt99++8z3e+zYMbGyshIXFxeZMGGCTJkyRTw9PUWr1cq+fftERCQxMVFmzpwpAKRLly6ybNkyWbt2bb7TfFaYqVGjhjRu3FjmzJkjw4YNE2NjY+nYsaPS7ptvvhEAuf4gXLx4Mdc0J06cKBqNRjp16iRffvmlREdHS6lSpcTDw0Nu3rwpIo8/oHh6eoqrq6tMnDhRFi1aJNHR0RIQECAXL14UkceBSKvVyptvvqnsj/Hx8SLyvz/o1atXly5dusiXX34pLVu2FAAyY8YM8fHxkffee0++/PJLCQwMFACyc+dOpcasrCxp1qyZWFpayuDBg2XBggUyYMAAMTExkYiICJ33CED8/f2VdTFr1iwpX768WFpayvXr15V10aVLFwEgM2fOVOrNyMjId33kF2Z8fHzEyclJPvnkE/niiy+kZs2aotFo5NixY89d7wXZbp5c73lt/40aNRJXV1dxc3NTjhN+fn5ibGwsK1asEGdnZxk3bpzMmjVLypQpI3Z2dpKenq5Me9WqVeLv7y9jxoyRhQsXyieffCIODg7i7u4ud+7cEZHHH5YGDRokAOSTTz5RltfVq1eVGp4MM3fv3hVfX18xNTWVIUOGyOeffy5vvvmmAJBZs2Yp7XK28Ro1akiFChVk6tSpMm3aNClVqpSULVtWHjx4kO/6UCuGGQPzZJj54osvxMbGRu7evSsiIh06dJDg4GARkVxhZt26dQJAJk6cqDO99u3bi0ajkaSkJBERZef/+++/863hwIEDzz0bkyMtLU0A5Drw5SchIUEASO/evXX6Dx8+XADIr7/+qvRzd3cXAMqBW0Rky5YtAkAsLCwkOTlZ6b9gwQKdTzQi//vDP3nyZKXfzZs3xcLCQjQajaxYsULpf+rUqVwBYPDgwQJAfvvtN6Xf7du3xdPTUzw8PJTglBNmfH19JTMzU2k7e/ZsAfDckLJ161YxNjYWY2NjqVevnnz44YeyZcuWXAecwiy7woaZBg0ayKNHj5T+t27dEhsbG6lbt67cu3dPZxo5Z/qys7OlYsWKEhoaqnP27+7du+Lp6SlNmzZV+tnZ2Un//v2fuRzy0qZNGzEzM9MJ05cvXxYbGxslgIvkHVDy86wwExISovNehgwZIsbGxspZkrS0NNFqtTJs2DCdaU6bNk00Go2yTV68eFGMjY1l0qRJOu2OHj0qJiYmSv8//vhDORP7LFZWVjrrLUdOmOnTp4/S79GjR1K2bFnRaDTKH2aR/237T05n2bJlYmRkpLONi4jMnz8/19lWAGJmZqYcS0QeBwoAMmfOHKXfp59++tyzMU/KL8wAkF27din9UlNTcy37/NZ7Qbeb/LZ/kcdBAoAsX75c6ZdznDAyMtIJRTnHpSePmTnH7Sft3btXAMg333yj9Fu1alWuY9eTNTwZZmbNmiUAdD4EPHjwQOrVqyfW1tZKmMpZLiVLlpR//vlHabt+/XoBID///HOueakdv81kwDp27Ih79+5hw4YNuH37NjZs2ICuXbvm2XbTpk0wNjbGoEGDdPoPGzYMIoLNmzcD+N+15fXr1yM7O/uFa0xPTwcA2NjYFKj9pk2bAABDhw7NVSeAXPfW+Pn5oV69ekp33bp1AQCNGzdGuXLlcvU/f/58rnn27t1b+b+9vT18fHxgZWWFjh07Kv19fHxgb2+vM/6mTZtQp04dnZuwra2t0adPH1y8eBEnTpzQmU/Pnj11rnG/+eab+db0pKZNm2Lv3r1o3bo1EhMTMW3aNISGhqJMmTL46aefdOoBCr7sCuPdd9+FsbGx0r1t2zbcvn0bH3/8MczNzXXaajQaAEBCQgLOnj2Lrl274saNG7h+/TquX7+OO3fuoEmTJti1a5eyjdnb2+P333/H5cuXC1xTVlYWtm7dijZt2qB8+fJKfxcXF3Tt2hW7d+9Wtr/i0qdPH+X9AY/XYVZWFpKTkwEAtra2CAsLww8//AARUdqtXLkSb7zxhrJNrlmzBtnZ2ejYsaOyXK5fvw5nZ2dUrFgRcXFxAAA7OzsAwJYtW3D37t0i1/3kNm5sbIzatWtDRPDOO+8o/XO2/Se3x1WrVsHX1xeVKlXSqbNx48YAoNSZIyQkBF5eXkp3tWrVYGtr+9xtvCj8/PyUfQgAHB0dc9Wfl6JsN09v/zmsra3RuXNnpTvnOOHr66scc4C8jz8WFhbK/x8+fIgbN26gQoUKsLe3x+HDh5/39vO0adMmODs7o0uXLko/U1NTDBo0CBkZGdi5c6dO+06dOsHBwUHpLugxSY0YZgyYo6MjQkJCsHz5cqxZswZZWVlo3759nm2Tk5Ph6uqaK1T4+voqw4HHG3dgYCB69+4NJycndO7cGT/88EORg42trS0A4Pbt2wVqn5ycDCMjI1SoUEGnv7OzM+zt7ZU6czwZWID/Hfzd3Nzy7H/z5k2d/ubm5nB0dMzVtmzZsjp/tHL6Pzl+cnIyfHx8cr2Hp5dpfrXmHESerikvAQEBWLNmDW7evIn9+/cjKioKt2/fRvv27ZXQVNhlVxienp463efOnQMAVKlSJd9xzp49C+DxV2MdHR11XosWLUJmZibS0tIAANOmTcOxY8fg5uaGOnXqYNy4cc89oP7999+4e/duvusgOzsbKSkphXqfz1OQddipUyekpKRg7969AB4vq0OHDqFTp05Km7Nnz0JEULFixVzL5uTJk8qN3Z6enhg6dCgWLVqEUqVKITQ0FHPnzlWWW1HrtrOzg7m5OUqVKpWr/5Pv5ezZszh+/HiuGr29vQHkvgH96fnkLKOCbOOFVdR5FWW7eXr7z5HfcaIgx5979+5hzJgxcHNzg1arRalSpeDo6Ihbt24Vev3mSE5ORsWKFWFkpPun+2Uck9SG32YycF27dsW7776Lq1evIiws7IXv2rewsMCuXbsQFxeHjRs34pdffsHKlSvRuHFjbN26Nc9PJ89ia2sLV1dXHDt2rFDjPX2AyE9+9eTX/8lPy8UxfmEUxzTNzMwQEBCAgIAAeHt7o2fPnli1ahXGjh2rtCnosstLVlZWnv2f/BRZUDkB+NNPP833K/w5zw/p2LEj3nzzTaxduxZbt27Fp59+iqlTp2LNmjUICwsr9LxfloKsw/DwcFhaWuKHH35A/fr18cMPP8DIyAgdOnRQ2mRnZ0Oj0WDz5s35fuLP8dlnn6FHjx5Yv349tm7dikGDBiEmJgb79u1D2bJli1x3Qd5LdnY2qlatihkzZuTZ9uk/2i9jv8nPq5xXftv/ixw/Bg4ciMWLF2Pw4MGoV6+e8lC/zp07F8tZ8YJ4lctQ3xhmDFzbtm3Rt29f7Nu3DytXrsy3nbu7O7Zv347bt2/rnJ05deqUMjyHkZERmjRpgiZNmmDGjBmYPHkyRo4cibi4OISEhBT6j2WrVq2wcOFC7N27V+eSUH51Zmdn4+zZs8qnCQC4du0abt26pVOnvrm7u+P06dO5+ue1TF+GnId/XblyRZlfQZedg4NDroeWPXjwQJnW8+RcSjh27FiuM0FPt7G1tUVISMhzp+ni4oL3338f77//PlJTU1GzZk1MmjQp3zDj6OgIS0vLfNeBkZFRrj+2r4KVlRVatWqFVatWYcaMGVi5ciXefPNNuLq6Km28vLwgIvD09FTOcjxL1apVUbVqVYwaNQrx8fEIDAzE/PnzMXHiRAAvFmCfxcvLC4mJiWjSpEmxzeNl1VpQhrLd/Pjjj4iMjMRnn32m9Lt//36u/bIwy8vd3R1HjhxBdna2ztmZV3VMMmS8zGTgrK2tMW/ePIwbNw7h4eH5tmvRogWysrLwxRdf6PSfOXMmNBqN8gfjn3/+yTVuzqfqzMxMAFCesVDQJ3h++OGHsLKyQu/evXHt2rVcw8+dO4fZs2crdQLArFmzdNrkfDJs2bJlgeb5KrRo0QL79+9XLicAj59BsXDhQnh4eMDPz69Y5hMXF5fnJ6Wce2RyTpcXZtl5eXlh165dOu0WLlyY75mZpzVr1gw2NjaIiYnB/fv3dYbl1FqrVi14eXlh+vTpyMjIyDWNnGeAZGVl5TqtXrp0abi6uirbXF6MjY3RrFkzrF+/XufpqNeuXVMeKJlzmfNV69SpEy5fvoxFixYhMTFR5xITALRr1w7GxsaIjo7OtW5FBDdu3ADw+J6zR48e6QyvWrUqjIyMdJaNlZVVgffHwujYsSP++usvfPXVV7mG3bt3D3fu3Cn0NAt7/ChuhrLdGBsb51r3c+bMybUPFmZ5tWjRAlevXtX5YPvo0SPMmTMH1tbWaNSo0YsXrlI8M6MCkZGRz20THh6O4OBgjBw5EhcvXoS/vz+2bt2K9evXY/Dgwcqn6PHjx2PXrl1o2bIl3N3dkZqaii+//BJly5ZVbnT18vKCvb095s+fDxsbG1hZWaFu3br5Xlf28vLC8uXL0alTJ/j6+uo8ATg+Ph6rVq1Cjx49AAD+/v6IjIzEwoULcevWLTRq1Aj79+/H0qVL0aZNGwQHBxfPQisGH3/8Mb7//nuEhYVh0KBBKFGiBJYuXYoLFy5g9erVua5bF9XAgQNx9+5dtG3bFpUqVVKW28qVK+Hh4YGePXsCKNyy6927N/r164f//Oc/aNq0KRITE7Fly5Zc91Dkx9bWFjNnzkTv3r0REBCArl27wsHBAYmJibh79y6WLl0KIyMjLFq0CGFhYahcuTJ69uyJMmXK4K+//kJcXBxsbW3x888/4/bt2yhbtizat28Pf39/WFtbY/v27Thw4IDOp9a8TJw4Edu2bUODBg3w/vvvw8TEBAsWLEBmZiamTZtW9IX+glq0aAEbGxsMHz4cxsbG+M9//qMz3MvLCxMnTkRUVBQuXryINm3awMbGBhcuXMDatWvRp08fDB8+HL/++isGDBiADh06wNvbG48ePcKyZctyTbNWrVrYvn07ZsyYAVdXV3h6eurcgFpU3bt3xw8//IB+/fohLi4OgYGByMrKwqlTp/DDDz9gy5Ythf55gFq1agEARo4cic6dO8PU1BTh4eGv9EF0hrDdtGrVCsuWLYOdnR38/Pywd+9ebN++HSVLltRpV716dRgbG2Pq1KlIS0uDVqtF48aNUbp06VzT7NOnDxYsWIAePXrg0KFD8PDwwI8//og9e/Zg1qxZBf4ixmvpFX97ip7jya9mP0teD827ffu2DBkyRFxdXcXU1FQqVqyY66F5sbGxEhERIa6urmJmZiaurq7SpUsXOXPmjM601q9fL35+fmJiYlLgr2mfOXNG3n33XfHw8BAzMzOxsbGRwMBAmTNnjs4DuB4+fCjR0dHi6ekppqam4ubm9syH5j0N///wrifl9RXNvL7yKfK/h2E9La/55Tw0z97eXszNzaVOnTr5PjTv6a/X5tT0vGW3efNm6dWrl1SqVEmsra3FzMxMKlSoIAMHDpRr167ptC3ossvKypKPPvpIefhbaGioJCUl5fvV7Py2t59++knq168vFhYWYmtrK3Xq1JHvv/9ep80ff/wh7dq1k5IlS4pWqxV3d3fp2LGjxMbGisjjZ6mMGDFC/P39lQeY+fv7y5dffvnM5ZLj8OHDEhoaKtbW1mJpaSnBwcE6X9cXKb6vZj+9HHLWbV5fm+3WrZvyde78rF69Who0aCBWVlZiZWUllSpVkv79+8vp06dFROT8+fPSq1cv8fLyUh6sFhwcLNu3b9eZzqlTp5QHtyGPh+Y9/aiFwmz7Dx48kKlTp0rlypVFq9WKg4OD1KpVS6KjoyUtLU1pl9d+J5L76/4iIhMmTJAyZcqIkZHRc7+m/ayH5uVV/5NfVX7Wei/IdvOs7b8wxwmR3Mvn5s2b0rNnTylVqpRYW1tLaGionDp1Ks/l9dVXX0n58uXF2Ni4QA/Ny5mumZmZVK1aNdcx5lnLBfk8tkHtNCKv4Z1ARERE9K/Be2aIiIhI1RhmiIiISNUYZoiIiEjVGGaIiIhI1RhmiIiISNUYZoiIiEjVXvuH5mVnZ+Py5cuwsbHR+2O2iYiIqGBEBLdv34arq+tzH1L62oeZy5cv6+X3W4iIiOjFpaSkPPdHV1/7MJPzeOeUlBS9/Y4LERERFU56ejrc3NwK9DMNr32Yybm0ZGtryzBDRESkMgW5RYQ3ABMREZGqMcwQERGRqjHMEBERkaoxzBAREZGqMcwQERGRqjHMEBERkaoxzBAREZGqMcwQERGRqjHMEBERkaoxzBAREZGq6TXM7Nq1C+Hh4XB1dYVGo8G6detytTl58iRat24NOzs7WFlZISAgAJcuXXr1xRIREZFB0muYuXPnDvz9/TF37tw8h587dw4NGjRApUqVsGPHDhw5cgSjR4+Gubn5K66UiIiIDJVGRETfRQCPf0hq7dq1aNOmjdKvc+fOMDU1xbJly4o83fT0dNjZ2SEtLY0/NElERKQShfn7bbD3zGRnZ2Pjxo3w9vZGaGgoSpcujbp16+Z5KYqIiIj+vQw2zKSmpiIjIwNTpkxB8+bNsXXrVrRt2xbt2rXDzp078x0vMzMT6enpOi8iIiJ6fZnou4D8ZGdnAwAiIiIwZMgQAED16tURHx+P+fPno1GjRnmOFxMTg+jo6FdWp8fHG1/ZvEjXxSkt9V0CEREZAIM9M1OqVCmYmJjAz89Pp7+vr+8zv80UFRWFtLQ05ZWSkvKySyUiIiI9MtgzM2ZmZggICMDp06d1+p85cwbu7u75jqfVaqHVal92eURERGQg9BpmMjIykJSUpHRfuHABCQkJKFGiBMqVK4cRI0agU6dOaNiwIYKDg/HLL7/g559/xo4dO/RXNBERERkUvYaZgwcPIjg4WOkeOnQoACAyMhJLlixB27ZtMX/+fMTExGDQoEHw8fHB6tWr0aBBA32VTERERAZGr2EmKCgIz3vMTa9evdCrV69XVBERERGpjcHeAExERERUEAwzREREpGoMM0RERKRqDDNERESkagwzREREpGoMM0RERKRqDDNERESkagwzREREpGoMM0RERKRqDDNERESkagwzREREpGoMM0RERKRqDDNERESkagwzREREpGoMM0RERKRqDDNERESkagwzREREpGoMM0RERKRqDDNERESkagwzREREpGoMM0RERKRqDDNERESkagwzREREpGoMM0RERKRqDDNERESkagwzREREpGoMM0RERKRqDDNERESkagwzREREpGoMM0RERKRqDDNERESkagwzREREpGoMM0RERKRqeg0zu3btQnh4OFxdXaHRaLBu3bp82/br1w8ajQazZs16ZfURERGR4dNrmLlz5w78/f0xd+7cZ7Zbu3Yt9u3bB1dX11dUGREREamFiT5nHhYWhrCwsGe2+euvvzBw4EBs2bIFLVu2fEWVERERkVoY9D0z2dnZ6N69O0aMGIHKlSvruxwiIiIyQHo9M/M8U6dOhYmJCQYNGlTgcTIzM5GZmal0p6env4zSiIiIyEAYbJg5dOgQZs+ejcOHD0Oj0RR4vJiYGERHR7/EyujfwOPjjfou4V/r4hReTiaiwjHYy0y//fYbUlNTUa5cOZiYmMDExATJyckYNmwYPDw88h0vKioKaWlpyislJeXVFU1ERESvnMGemenevTtCQkJ0+oWGhqJ79+7o2bNnvuNptVpotdqXXR4REREZCL2GmYyMDCQlJSndFy5cQEJCAkqUKIFy5cqhZMmSOu1NTU3h7OwMHx+fV10qERERGSi9hpmDBw8iODhY6R46dCgAIDIyEkuWLNFTVURERKQmeg0zQUFBEJECt7948eLLK4aIiIhUyWBvACYiIiIqCIYZIiIiUjWGGSIiIlI1hhkiIiJSNYYZIiIiUjWGGSIiIlI1hhkiIiJSNYYZIiIiUjWGGSIiIlI1hhkiIiJSNYYZIiIiUjWGGSIiIlI1hhkiIiJSNYYZIiIiUjWGGSIiIlI1hhkiIiJSNYYZIiIiUjWGGSIiIlI1hhkiIiJSNYYZIiIiUjWGGSIiIlI1hhkiIiJSNYYZIiIiUjWGGSIiIlI1hhkiIiJSNYYZIiIiUjWGGSIiIlI1hhkiIiJSNYYZIiIiUjWGGSIiIlI1hhkiIiJSNYYZIiIiUjWGGSIiIlI1vYaZXbt2ITw8HK6urtBoNFi3bp0y7OHDh/joo49QtWpVWFlZwdXVFW+//TYuX76sv4KJiIjI4Og1zNy5cwf+/v6YO3durmF3797F4cOHMXr0aBw+fBhr1qzB6dOn0bp1az1USkRERIbKRJ8zDwsLQ1hYWJ7D7OzssG3bNp1+X3zxBerUqYNLly6hXLlyr6JEIiIiMnCqumcmLS0NGo0G9vb2+i6FiIiIDIRez8wUxv379/HRRx+hS5cusLW1zbddZmYmMjMzle709PRXUR4RERHpiSrOzDx8+BAdO3aEiGDevHnPbBsTEwM7Ozvl5ebm9oqqJCIiIn0w+DCTE2SSk5Oxbdu2Z56VAYCoqCikpaUpr5SUlFdUKREREemDQV9mygkyZ8+eRVxcHEqWLPnccbRaLbRa7SuojoiIiAyBXsNMRkYGkpKSlO4LFy4gISEBJUqUgIuLC9q3b4/Dhw9jw4YNyMrKwtWrVwEAJUqUgJmZmb7KJiIiIgOi1zBz8OBBBAcHK91Dhw4FAERGRmLcuHH46aefAADVq1fXGS8uLg5BQUGvqkwiIiIyYHoNM0FBQRCRfIc/axgRERERoIIbgImIiIiehWGGiIiIVI1hhoiIiFSNYYaIiIhUjWGGiIiIVI1hhoiIiFSNYYaIiIhUjWGGiIiIVI1hhoiIiFSNYYaIiIhUjWGGiIiIVI1hhoiIiFSNYYaIiIhUjWGGiIiIVI1hhoiIiFSNYYaIiIhUjWGGiIiIVI1hhoiIiFSNYYaIiIhUjWGGiIiIVI1hhoiIiFSNYYaIiIhUjWGGiIiIVI1hhoiIiFSNYYaIiIhUjWGGiIiIVI1hhoiIiFSNYYaIiIhUjWGGiIiIVI1hhoiIiFSNYYaIiIhUjWGGiIiIVI1hhoiIiFRNr2Fm165dCA8Ph6urKzQaDdatW6czXEQwZswYuLi4wMLCAiEhITh79qx+iiUiIiKDpNcwc+fOHfj7+2Pu3Ll5Dp82bRo+//xzzJ8/H7///jusrKwQGhqK+/fvv+JKiYiIyFCZ6HPmYWFhCAsLy3OYiGDWrFkYNWoUIiIiAADffPMNnJycsG7dOnTu3PlVlkpEREQGymDvmblw4QKuXr2KkJAQpZ+dnR3q1q2LvXv36rEyIiIiMiR6PTPzLFevXgUAODk56fR3cnJShuUlMzMTmZmZSnd6evrLKZCIiIgMgsGemSmqmJgY2NnZKS83Nzd9l0REREQvkcGGGWdnZwDAtWvXdPpfu3ZNGZaXqKgopKWlKa+UlJSXWicRERHpl8GGGU9PTzg7OyM2Nlbpl56ejt9//x316tXLdzytVgtbW1udFxEREb2+9HrPTEZGBpKSkpTuCxcuICEhASVKlEC5cuUwePBgTJw4ERUrVoSnpydGjx4NV1dXtGnTRn9FExERkUHRa5g5ePAggoODle6hQ4cCACIjI7FkyRJ8+OGHuHPnDvr06YNbt26hQYMG+OWXX2Bubq6vkomIiMjA6DXMBAUFQUTyHa7RaDB+/HiMHz/+FVZFREREamKw98wQERERFQTDDBEREakawwwRERGpGsMMERERqRrDDBEREakawwwRERGpGsMMERERqRrDDBEREakawwwRERGpGsMMERERqRrDDBEREalakcJM+fLlcePGjVz9b926hfLly79wUUREREQFVaQwc/HiRWRlZeXqn5mZib/++uuFiyIiIiIqqEL9avZPP/2k/H/Lli2ws7NTurOyshAbGwsPD49iK46IiIjoeQoVZtq0aQMA0Gg0iIyM1BlmamoKDw8PfPbZZ8VWHBEREdHzFCrMZGdnAwA8PT1x4MABlCpV6qUURURERFRQhQozOS5cuFDcdRAREREVSZHCDADExsYiNjYWqampyhmbHF9//fULF0ZERERUEEUKM9HR0Rg/fjxq164NFxcXaDSa4q6LiIiIqECKFGbmz5+PJUuWoHv37sVdDxEREVGhFOk5Mw8ePED9+vWLuxYiIiKiQitSmOnduzeWL19e3LUQERERFVqRLjPdv38fCxcuxPbt21GtWjWYmprqDJ8xY0axFEdERET0PEUKM0eOHEH16tUBAMeOHdMZxpuBiYiI6FUqUpiJi4sr7jqIiIiIiqRI98wQERERGYoinZkJDg5+5uWkX3/9tcgFERERERVGkcJMzv0yOR4+fIiEhAQcO3Ys1w9QEhEREb1MRQozM2fOzLP/uHHjkJGR8UIFERERERVGsd4z89Zbb/F3mYiIiOiVKtYws3fvXpibmxfnJImIiIieqUiXmdq1a6fTLSK4cuUKDh48iNGjRxdLYUREREQFUaQwY2dnp9NtZGQEHx8fjB8/Hs2aNSuWwoiIiIgKokhhZvHixcVdR56ysrIwbtw4fPvtt7h69SpcXV3Ro0cPjBo1ik8aJiIiIgBFDDM5Dh06hJMnTwIAKleujBo1ahRLUTmmTp2KefPmYenSpahcuTIOHjyInj17ws7ODoMGDSrWeREREZE6FSnMpKamonPnztixYwfs7e0BALdu3UJwcDBWrFgBR0fHYikuPj4eERERaNmyJQDAw8MD33//Pfbv318s0yciIiL1K9K3mQYOHIjbt2/j+PHj+Oeff/DPP//g2LFjSE9PL9YzJvXr10dsbCzOnDkDAEhMTMTu3bsRFhZWbPMgIiIidSvSmZlffvkF27dvh6+vr9LPz88Pc+fOLdYbgD/++GOkp6ejUqVKMDY2RlZWFiZNmoRu3brlO05mZiYyMzOV7vT09GKrh4iIiAxPkc7MZGdnw9TUNFd/U1NTZGdnv3BROX744Qd89913WL58OQ4fPoylS5di+vTpWLp0ab7jxMTEwM7OTnm5ubkVWz1ERERkeIoUZho3bowPPvgAly9fVvr99ddfGDJkCJo0aVJsxY0YMQIff/wxOnfujKpVq6J79+4YMmQIYmJi8h0nKioKaWlpyislJaXY6iEiIiLDU6TLTF988QVat24NDw8P5cxHSkoKqlSpgm+//bbYirt79y6MjHTzlrGx8TPP/mi1Wmi12mKrgYiIiAxbkcKMm5sbDh8+jO3bt+PUqVMAAF9fX4SEhBRrceHh4Zg0aRLKlSuHypUr448//sCMGTPQq1evYp0PERERqVehwsyvv/6KAQMGYN++fbC1tUXTpk3RtGlTAEBaWhoqV66M+fPn48033yyW4ubMmYPRo0fj/fffR2pqKlxdXdG3b1+MGTOmWKZPRERE6leoMDNr1iy8++67sLW1zTXMzs4Offv2xYwZM4otzNjY2GDWrFmYNWtWsUyPiIiIXj+FugE4MTERzZs3z3d4s2bNcOjQoRcuioiIiKigChVmrl27ludXsnOYmJjg77//fuGiiIiIiAqqUGGmTJkyOHbsWL7Djxw5AhcXlxcuioiIiKigChVmWrRogdGjR+P+/fu5ht27dw9jx45Fq1atiq04IiIioucp1A3Ao0aNwpo1a+Dt7Y0BAwbAx8cHAHDq1CnMnTsXWVlZGDly5EsplIiIiCgvhQozTk5OiI+Px3vvvYeoqCiICABAo9EgNDQUc+fOhZOT00splIiIiCgvhX5onru7OzZt2oSbN28iKSkJIoKKFSvCwcHhZdRHRERE9ExFegIwADg4OCAgIKA4ayEiIiIqtCL90CQRERGRoWCYISIiIlVjmCEiIiJVY5ghIiIiVWOYISIiIlVjmCEiIiJVY5ghIiIiVWOYISIiIlVjmCEiIiJVY5ghIiIiVWOYISIiIlVjmCEiIiJVY5ghIiIiVWOYISIiIlVjmCEiIiJVY5ghIiIiVWOYISIiIlVjmCEiIiJVY5ghIiIiVWOYISIiIlVjmCEiIiJVY5ghIiIiVWOYISIiIlVjmCEiIiJVY5ghIiIiVTP4MPPXX3/hrbfeQsmSJWFhYYGqVavi4MGD+i6LiIiIDISJvgt4lps3byIwMBDBwcHYvHkzHB0dcfbsWTg4OOi7NCIiIjIQBh1mpk6dCjc3NyxevFjp5+npqceKiIiIyNAY9GWmn376CbVr10aHDh1QunRp1KhRA1999ZW+yyIiIiIDYtBh5vz585g3bx4qVqyILVu24L333sOgQYOwdOnSfMfJzMxEenq6zouIiIheXwZ9mSk7Oxu1a9fG5MmTAQA1atTAsWPHMH/+fERGRuY5TkxMDKKjo19lmUSkIh4fb9R3Cf9aF6e01HcJ9Joy6DMzLi4u8PPz0+nn6+uLS5cu5TtOVFQU0tLSlFdKSsrLLpOIiIj0yKDPzAQGBuL06dM6/c6cOQN3d/d8x9FqtdBqtS+7NCIiIjIQBn1mZsiQIdi3bx8mT56MpKQkLF++HAsXLkT//v31XRoREREZCIMOMwEBAVi7di2+//57VKlSBRMmTMCsWbPQrVs3fZdGREREBsKgLzMBQKtWrdCqVSt9l0FEREQGyqDPzBARERE9D8MMERERqRrDDBEREakawwwRERGpGsMMERERqRrDDBEREakawwwRERGpGsMMERERqRrDDBEREakawwwRERGpGsMMERERqRrDDBEREakawwwRERGpGsMMERERqRrDDBEREakawwwRERGpGsMMERERqRrDDBEREakawwwRERGpGsMMERERqRrDDBEREakawwwRERGpGsMMERERqRrDDBEREakawwwRERGpGsMMERERqRrDDBEREakawwwRERGpGsMMERERqRrDDBEREakawwwRERGpGsMMERERqRrDDBEREamaqsLMlClToNFoMHjwYH2XQkRERAZCNWHmwIEDWLBgAapVq6bvUoiIiMiAqCLMZGRkoFu3bvjqq6/g4OCg73KIiIjIgKgizPTv3x8tW7ZESEiIvkshIiIiA2Oi7wKeZ8WKFTh8+DAOHDhQoPaZmZnIzMxUutPT019WaURERGQADDrMpKSk4IMPPsC2bdtgbm5eoHFiYmIQHR39kisjIiJD4/HxRn2X8K90cUpLfZdg2JeZDh06hNTUVNSsWRMmJiYwMTHBzp078fnnn8PExARZWVm5xomKikJaWprySklJ0UPlRERE9KoY9JmZJk2a4OjRozr9evbsiUqVKuGjjz6CsbFxrnG0Wi20Wu2rKpGIiIj0zKDDjI2NDapUqaLTz8rKCiVLlszVn4iIiP6dDPoyExEREdHzGPSZmbzs2LFD3yUQERGRAeGZGSIiIlI1hhkiIiJSNYYZIiIiUjWGGSIiIlI1hhkiIiJSNYYZIiIiUjWGGSIiIlI1hhkiIiJSNYYZIiIiUjWGGSIiIlI1hhkiIiJSNYYZIiIiUjWGGSIiIlI1hhkiIiJSNYYZIiIiUjWGGSIiIlI1hhkiIiJSNYYZIiIiUjWGGSIiIlI1hhkiIiJSNYYZIiIiUjWGGSIiIlI1hhkiIiJSNYYZIiIiUjWGGSIiIlI1hhkiIiJSNYYZIiIiUjWGGSIiIlI1hhkiIiJSNYYZIiIiUjWGGSIiIlI1hhkiIiJSNYYZIiIiUjWDDzMxMTEICAiAjY0NSpcujTZt2uD06dP6LouIiIgMhMGHmZ07d6J///7Yt28ftm3bhocPH6JZs2a4c+eOvksjIiIiA2Ci7wKe55dfftHpXrJkCUqXLo1Dhw6hYcOGeqqKiIiIDIXBn5l5WlpaGgCgRIkSeq6EiIiIDIHBn5l5UnZ2NgYPHozAwEBUqVIlzzaZmZnIzMxUutPT019VeURERKQHqjoz079/fxw7dgwrVqzIt01MTAzs7OyUl5ub2yuskIiIiF411YSZAQMGYMOGDYiLi0PZsmXzbRcVFYW0tDTllZKS8gqrJCIiolfN4C8ziQgGDhyItWvXYseOHfD09Hxme61WC61W+4qqIyIiIn0z+DDTv39/LF++HOvXr4eNjQ2uXr0KALCzs4OFhYWeqyMiIiJ9M/jLTPPmzUNaWhqCgoLg4uKivFauXKnv0oiIiMgAGPyZGRHRdwlERERkwAz+zAwRERHRszDMEBERkaoxzBAREZGqMcwQERGRqjHMEBERkaoxzBAREZGqMcwQERGRqjHMEBERkaoxzBAREZGqMcwQERGRqjHMEBERkaoxzBAREZGqMcwQERGRqjHMEBERkaoxzBAREZGqMcwQERGRqjHMEBERkaoxzBAREZGqMcwQERGRqjHMEBERkaoxzBAREZGqMcwQERGRqjHMEBERkaoxzBAREZGqMcwQERGRqjHMEBERkaoxzBAREZGqMcwQERGRqjHMEBERkaoxzBAREZGqMcwQERGRqjHMEBERkaoxzBAREZGqqSLMzJ07Fx4eHjA3N0fdunWxf/9+fZdEREREBsLgw8zKlSsxdOhQjB07FocPH4a/vz9CQ0ORmpqq79KIiIjIABh8mJkxYwbeffdd9OzZE35+fpg/fz4sLS3x9ddf67s0IiIiMgAGHWYePHiAQ4cOISQkROlnZGSEkJAQ7N27V4+VERERkaEw0XcBz3L9+nVkZWXByclJp7+TkxNOnTqV5ziZmZnIzMxUutPS0gAA6enpL6XG7My7L2W69Hwva50CXK/69DLXK8B1q09ct6+nl7Vec6YrIs9ta9BhpihiYmIQHR2dq7+bm5seqqGXyW6Wviugl4Hr9fXFdft6etnr9fbt27Czs3tmG4MOM6VKlYKxsTGuXbum0//atWtwdnbOc5yoqCgMHTpU6c7OzsY///yDkiVLQqPRvNR61SQ9PR1ubm5ISUmBra2tvsuhYsR1+3rien19cd3mTURw+/ZtuLq6PretQYcZMzMz1KpVC7GxsWjTpg2Ax+EkNjYWAwYMyHMcrVYLrVar08/e3v4lV6petra23HleU1y3ryeu19cX121uzzsjk8OgwwwADB06FJGRkahduzbq1KmDWbNm4c6dO+jZs6e+SyMiIiIDYPBhplOnTvj7778xZswYXL16FdWrV8cvv/yS66ZgIiIi+ncy+DADAAMGDMj3shIVjVarxdixY3NdkiP147p9PXG9vr64bl+cRgrynSciIiIiA2XQD80jIiIieh6GGSIiIlI1hhkiIiJStX9lmAkKCsLgwYP1XYaOixcvQqPRICEhocDj9OjRQ3n+jtqNGzcO1atX13cZ9P88PDwwa9YsfZdRrIqyjxnyvAuzz3D/otfdaxtmevToAY1Gk+uVlJSENWvWYMKECfouUYebmxuuXLmCKlWqFOt0RQQLFy5E3bp1YW1tDXt7e9SuXRuzZs3C3bsv73dMcpb/lClTdPqvW7euQE9ifplBzRDDrNqMGzcOGo0GzZs3zzXs008/hUajQVBQ0Ksv7BledB/L63jy5GvcuHHFW/BzDB8+HLGxscXelnQV9lik0Wiwbt26l1ZPYe3YsQMajQa3bt3Sdykv1WsbZgCgefPmuHLlis7L09MTJUqUgI2Njb7L02FsbAxnZ2eYmBTvt+W7d++OwYMHIyIiAnFxcUhISMDo0aOxfv16bN26tVjn9TRzc3NMnToVN2/efKnzeR08ePBA3yUUmouLC+Li4vDnn3/q9P/6669Rrlw5PVWVvxfdx548jsyaNQu2trY6/YYPH17MFT+btbU1SpYsWextyTA8fPhQ3yWoymsdZrRaLZydnXVexsbGuT6Ze3h4YPLkyejVqxdsbGxQrlw5LFy4UGdaH330Eby9vWFpaYny5ctj9OjROhtbzmncZcuWwcPDA3Z2dujcuTNu376ttMnOzsa0adNQoUIFaLValCtXDpMmTQKQ+zR0VlYW3nnnHXh6esLCwgI+Pj6YPXt2od7/Dz/8gO+++w7ff/89PvnkEwQEBMDDwwMRERH49ddfERwcrNQ1fvx4lC1bFlqtVnkwYY6c2tasWYPg4GBYWlrC398fe/fuVdokJycjPDwcDg4OsLKywrp161CtWjU4OzujW7duuX5S4skzNLt378bixYtx5MgRuLm5oW7duli6dCnWr1+vfOrdsWMHAKBdu3bQaDQwMzNT1kOTJk0watQoAEC/fv1gbW0NCwsLGBkZwdjYGM2aNcPt27exZMkSmJmZYefOnZg9e7Yy7fj4eNy8eRPdunVDiRIlYGxsDBMTE5ibmyMgIADbt2/Xqd3DwwMTJkxAly5dYGVlhTJlymDu3Lk6bW7duoXevXvD0dERtra2aNy4MRITE3NtL4sWLYKnpyfMzc0BAD/++COqVq0KCwsLlCxZEiEhIbhz506e67cg20jOp8rp06fDxcUFJUuWRP/+/XW23dTUVISHh8PCwgKenp747rvv8t6gnlK6dGk0a9YMS5cuVfrFx8fj+vXraNmypU7bAwcOoGnTpihVqhTs7OzQqFEjHD58WKfNqVOn0KBBA5ibm8PPzw/bt2/P9Sn3efuhh4dHnmdNgNz7WM4n1tjYWNSuXRuWlpaoX78+Tp8+rVPX+vXrUbNmTXh4eKB+/fpYsGABrK2todFo4OTkhPnz56NOnTqwt7eHiYkJTExMUKlSJXz55ZfPXH7Hjh1DWFgYrK2t4eTkhO7du+P69esAgIULF8LV1RXZ2dk640RERKBXr14Acl862rFjB+rUqQMrKyvY29sjMDAQycnJebYtjn3+3ygoKAiDBg3Chx9+iBIlSsDZ2VnnjJyHhwcAoG3bttBoNEo38L/tyNzcHOXLl0d0dDQePXqkDNdoNJg3bx5at24NKysrTJo0qcB/V2JiYpTjgL+/P3788UcAj9djznHewcEBGo0GPXr0eGnLR6/kNRUZGSkRERF5DmvUqJF88MEHSre7u7uUKFFC5s6dK2fPnpWYmBgxMjKSU6dOKW0mTJgge/bskQsXLshPP/0kTk5OMnXqVGX42LFjxdraWtq1aydHjx6VXbt2ibOzs3zyySdKmw8//FAcHBxkyZIlkpSUJL/99pt89dVXIiJy4cIFASB//PGHiIg8ePBAxowZIwcOHJDz58/Lt99+K5aWlrJy5coCvUcRkdatW4uPj89zl9WMGTPE1tZWvv/+ezl16pR8+OGHYmpqKmfOnNGprVKlSrJhwwY5ffq0tG/fXtzd3eXhw4ciItKyZUtp2rSpHDlyRM6dOyeNGzeWBg0ayJo1a8TU1FRsbGxERGTt2rUCQPk3KSlJrKysJDQ0VCpVqiR79uwRf39/8fDwkObNm8uvv/4qGo1G/vzzTxERqVevntjb20urVq3kp59+ktKlS4upqals27ZNREQcHR3FxMREmjZtKhs2bJDo6GgpWbKkfPLJJ7J48WIxNTUVKysrad26tfzyyy9So0YNqVevnvTv31+qV68u3333nUyaNEkWLlwo8+fPl1GjRom5ubkkJyfrbC82NjYSExMjp0+fls8//1yMjY1l69atSpuQkBAJDw+XAwcOyJkzZ2TYsGFSsmRJuXHjhrK9WFlZSfPmzeXw4cOSmJgoly9fFhMTE5kxY4ZcuHBBjhw5InPnzpXbt2/nud4Kuo3Y2tpKv3795OTJk/Lzzz+LpaWlLFy4UGkTFhYm/v7+snfvXjl48KDUr19fLCwsZObMmfluM2PHjhV/f39Zs2aNVKhQQen/zjvvyAcffCAffPCBNGrUSOkfGxsry5Ytk5MnT8qJEyfknXfeEScnJ0lPTxcRkUePHomPj480bdpUEhIS5LfffpM6deoo20qO5+2HqampcuXKFbly5Yr8+eef8sYbb8ibb76psx3n7GNxcXECQOrWrSs7duyQ48ePy5tvvin169dXprdr1y6xtbWVJUuWyLlz52Tr1q3i4eEhERERYmdnJ6tWrRJbW1sZMWKElC5dWqZMmSKTJ0+W1atXS4kSJWTJkiV5zvvmzZvi6OgoUVFRcvLkSTl8+LA0bdpUgoODRUTkn3/+ETMzM9m+fbtSy40bN3T65awDEZGHDx+KnZ2dDB8+XJKSkuTEiROyZMkSZbt9sq1I8ezz/xZPHmcbNWoktra2Mm7cODlz5owsXbpUNBqNsu+npqYKAFm8eLFcuXJFUlNTRST/7WjcuHHKfABI6dKl5euvv5Zz585JcnJygf6uTJw4USpVqiS//PKLnDt3ThYvXixarVZ27Nghjx49ktWrVwsAOX36tFy5ckVu3br16hbeK/RahxljY2OxsrJSXu3btxeRvMPMW2+9pXRnZ2dL6dKlZd68eflO/9NPP5VatWop3WPHjhVLS0vl4CwiMmLECKlbt66IiKSnp4tWq1XCy9OePtjlpX///vKf//xH5z0+K8z4+vpK69at8x2ew9XVVSZNmqTTLyAgQN5//32d2hYtWqQMP378uACQkydPiohI1apVdXbMJ2vz8vISU1NTEckdZt555x3p06ePzsH2t99+E41GI61atZLs7GwpWbKkrFq1SkREqlevLjExMeLs7CwiIu+//75oNBq5c+eOiIiYmZmJmZlZnuth8eLFAkBq1KihrP+TJ08KAGnQoIH07Nkzz+VTuXJlmTNnjtLt7u4uzZs312nTqVMnCQsLU+q3tbWV+/fv67Tx8vKSBQsWiMjj7cXU1FQ52ImIHDp0SADIxYsX86yjIPLaRtzd3eXRo0dKvw4dOkinTp1EROT06dMCQPbv368Mz1kmBQkzDx48kNKlS8vOnTslIyNDbGxsJDExMVeYeVpWVpbY2NjIzz//LCIimzdvFhMTE7ly5YrSZtu2bbnCzNOe3g+fNGjQIHF3d1eWcX5h5snAsHHjRgEg9+7dExGRJk2ayOTJk3Wmu2zZMrGzsxM7Ozv57LPPxNvbW7y8vGT58uU67SZMmCD16tXLc94TJkyQZs2a6bRPSUlR/uiIiEREREivXr2U4QsWLBBXV1fJysoSEd2AcuPGDQEgO3bsyHNZPB1mimOf/7d4Osw0aNBAZ3hAQIB89NFHSnde22x+25GLi4vOeIMHD9Zp87y/K/fv3xdLS0uJj4/XGe+dd96RLl26iMj/tvObN28W/E2rkCp+zqCogoODMW/ePKXbysoq37bVqlVT/q/RaODs7IzU1FSl38qVK/H555/j3LlzyMjIwKNHj3L9uqmHh4fOvTguLi7KNE6ePInMzEw0adKkwPXPnTsXX3/9NS5duoR79+7hwYMHhfpGghTg4c7p6em4fPkyAgMDdfoHBgbqXBYBdJeRi4sLgMeXKCpVqoRBgwbhvffew9atWxESEoKbN28qp/c7dOiAKVOm4OTJk7nmn5iYiCNHjkBEkJWVBWtra8jjkI27d+9Co9GgYcOG2LFjB0JCQnDs2DGYmZnh2rVrsLS0xIMHD2BsbAxLS0sAQL169bBz5060bdsWISEh6NChg856MDEx0VlHlSpVgr29PerUqYN58+bhwIEDMDc3x99//41bt27h0aNHuHfvHi5duqRTd7169XJ153z7JzExERkZGbnuUbh37x7OnTundLu7u8PR0VHp9vf3R5MmTVC1alWEhoaiWbNmaN++PRwcHHIttxwF2UYqV64MY2NjnXV39OhRAI+3SxMTE9SqVSvXMikIU1NTvPXWW1i8eDHOnz8Pb29vne0kx7Vr1zBq1Cjs2LEDqampyMrKwt27d5Xlevr0abi5ucHZ2VkZp06dOrmmU5D9EHh8mea///0v4uPjdZZxXvLbrsuVK4fExETs2bNHuRwMPL68d//+fdjZ2aFDhw6YMWMG/vrrL3Tv3h29evVSlvWjR4/y/cXfxMRExMXFwdraOtewc+fOwdvbG926dcO7776LL7/8ElqtFt999x06d+4MI6PcdweUKFECPXr0QGhoKJo2bYqQkBB07NhReT9PKq59/t/q6e37yeNLfp61Hd29e1c5ftWuXTvXuM/6u5KUlIS7d++iadOmOuM8ePAANWrUKNwbU7nX+p4ZKysrVKhQQXnltWPnMDU11enWaDTK9eq9e/eiW7duaNGiBTZs2IA//vgDI0eOzHXT5rOmYWFhUajaV6xYgeHDh+Odd97B1q1bkZCQgJ49exbqRlFvb2+cOnWqUPN9liffX05QyXl/vXv3xvnz59G9e3ccPXoUP//8M86fPw8A8PX1hYmJCaKiopTxc+5zyMjIQN++fdGvXz94e3sjISEBiYmJaNu2rRI+g4KCsGPHDnz11Vd49OgRWrdujYYNG+Ljjz+Gh4eHzh/qoKAgVKpUCS1btsSvv/4KPz8/HD16NNe9B0+rVq0akpOTUapUKZw6dQqXL19GREQEEhISULVq1UIt94yMDLi4uCAhIUHndfr0aYwYMUJp93S4NjY2xrZt27B582b4+flhzpw58PHxwYULF/KcT0G3kWdtl8WhV69eWLVqFebOnavcz/G0yMhIJCQkYPbs2YiPj0dCQgJKlixZqOVa0P0wLi4OAwcOxDfffJNnsHras7brjIwMREdH66zHo0ePKt/Sc3Nzw+7duwEATZo0gbW1NSpWrIgDBw7g2LFj2LdvX57zzMjIQHh4eK5t5OzZs2jYsCEAIDw8HCKCjRs3IiUlBb/99hu6deuW7/tYvHgx9u7di/r162PlypXw9vbOd/4F9axl829VlP0pv+3o7Nmzyv1yQN4fuJ81v4yMDADAxo0bdaZ94sQJ5b6Zf4vX+sxMcYmPj4e7uztGjhyp9Mu5sa6gKlasCAsLC8TGxqJ3797Pbb9nzx7Ur18f77//vtLvyU/1BdG1a1d07twZ69evR0REhM4wEUF6ejrs7Ozg6uqKPXv2oFGjRjrzz+uT8bO4ubmhX79+6NevH6pWraosI0dHRzx69Ag///wzfHx8AEC5CbNmzZo4ceIEGjRoAK1WiwoVKgAASpUqhStXrgAAGjVqhMGDB2PlypWws7PDyJEjYWVlhd27dyM5ORlmZmY6dWi1WgwZMgRDhgxBly5dsH//fmXYo0ePcP/+fWRlZQF4fEbg1q1b8PX1haOjI65fv44PP/wQpUuXxogRIzB37lxcvHgx13t9+o/Evn374Ovrq7ynq1evwsTEROcGwILQaDQIDAxEYGAgxowZA3d3d6xduxZDhw7N1bY4tpFKlSrh0aNHOHToEAICAgD8b5kUVOXKlVG5cmUcOXIEXbt2zbPNnj178OWXX6JFixYAgJSUFOVmVwDw8fFBSkoKrl27BicnJwCPbxp+UkH2w6SkJLRv3x6ffPIJ2rVrV+D3kJ+aNWvi9OnTynaZI6dG4PEnZ1dXVzRo0ACff/45KlWqhHv37inbQ37TXb16NTw8PPL9dpW5uTnatWuH7777DklJSfDx8UHNmjWfWW+NGjVQo0YNREVFoV69eli+fDneeOMNnTa2trbFts9TbqampsrxJUd+29GL8vPzg1arxaVLl3TW5ZNyjo9P1/S6YZgpgIoVK+LSpUtYsWIFAgICsHHjRqxdu7ZQ0zA3N8dHH32EDz/8EGZmZggMDMTff/+N48eP45133slznt988w22bNkCT09PLFu2DAcOHICnp2eB59mxY0esXbsWXbp0wahRo9CsWTM4Ojri6NGjmDlzJgYOHIg2bdpgxIgRGDt2LLy8vFC9enUsXrwYCQkJBf5WCwAMHjwYYWFh8Pb2xs2bN3H16lXlFHrdunVhZWUFNzc35ds2S5YsAfD42ylvvPEG0tPTce/ePZw9exYnTpzAkSNHcOXKFZw+fRqurq5wcHDAH3/8AeDxGQkvLy8MGzYM2dnZyinae/fuYdOmTcjIyEBycjL+/PNPHDhwAO7u7sonGFNTU1y4cAG3b9/Gzz//jPHjx+ONN97Ahg0bcOXKFbi4uGD58uVwdHSEu7s7unbtmuenrj179mDatGlo06YNtm3bhlWrVmHjxo0AgJCQENSrVw9t2rTBtGnT4O3tjcuXL2Pjxo1o27ZtnqeSAeD3339HbGwsmjVrhtKlS+P333/H33//ne8fxeLYRnx8fNC8eXP07dsX8+bNg4mJCQYPHlzoM4m//vorHj58mO/lqYoVK2LZsmWoXbs20tPTMWLECJ15NG3aFF5eXoiMjMS0adNw+/Zt5RtqOWcEnrcf3rt3D+Hh4ahRowb69OmDq1evKsOevHxVGGPGjEGrVq1Qrlw5tG/fHkZGRkhMTMTq1asBPN6Os7Ky0KdPH0yePBm7d++GVqvFnTt3sHjxYty8eTPPINq/f3989dVX6NKli/LNmKSkJKxYsQKLFi1SzjZ269YNrVq1wvHjx/HWW2/lW+eFCxewcOFCtG7dGq6urjh9+jTOnj2Lt99+O8/2xbHPU948PDwQGxuLwMBAaLVaODg45LsdHTt2DBMnTizyvGxsbDB8+HAMGTIE2dnZaNCgAdLS0rBnzx7Y2toiMjIS7u7u0Gg02LBhA1q0aAELC4s8L2+q3Wt9mam4tG7dGkOGDMGAAQNQvXp1xMfHY/To0YWezujRozFs2DCMGTMGvr6+6NSpU77XWvv27Yt27dqhU6dOqFu3Lm7cuKHzCbwgNBoNli9fjhkzZmDdunVo1KgRqlWrhnHjxiEiIgKhoaEAgEGDBmHo0KEYNmwYqlatil9++QU//fQTKlasWOB5ZWVloX///vD19UXz5s1ha2sLf39/AI+v53/77be4d+8eMjMzAUD5OmO1atWwc+dO3LhxA0lJSahRowbGjBmDJk2awMfHB7Vr10bp0qXh6+sLIyMjDBw4EAMGDECXLl1gYmKi7KjA48s0Ofe3eHt7o2PHjggLC9N5sJulpSXGjBmD8+fPo3Xr1jh48CCmT58OMzMzREVFYdeuXUhKSkJ8fDxu3LiB0NDQPD8NDxs2DAcPHkSNGjUwceJEzJgxQ1meGo0GmzZtQsOGDdGzZ094e3ujc+fOSE5O1vlE/zRbW1vs2rULLVq0gLe3N0aNGoXPPvsMYWFhebYvjm0EeHx5wtXVFY0aNUK7du3Qp08flC5dulDTyPk6cH7++9//4ubNm6hZsya6d++OQYMG6czD2NgY69atQ0ZGBgICAtC7d2/lDEzOafjn7YfXrl3DqVOnEBsbC1dXV7i4uCivogoNDcWGDRuwdetWBAQE4I033sDMmTNRqlQpAIC9vT2++uorzJgxAyKC3bt3Izs7GxEREViyZEm+wTLnzEhWVhaaNWuGqlWrYvDgwbC3t9e5J6Zx48YoUaIETp8+ne9ZL+Dxdn3q1Cn85z//gbe3N/r06YP+/fujb9++ebYvjn2e8vbZZ59h27ZtcHNzU+5byW87cnd3f+H5TZgwAaNHj0ZMTIxy/N24caOy7ZUpUwbR0dH4+OOP4eTkhAEDBrzwPA2RRgpylyjRa2DJkiUYPHjwCz8J08PDA4MHD+ZThF+yPXv2oEGDBkhKSoKXl5e+yyEiA8bLTERkENauXavcQJuUlIQPPvgAgYGBDDJE9FwMM0RkEG7fvo2PPvoIly5dQqlSpRASEoLPPvtM32URkQrwMhMRERGpGm8AJiIiIlVjmCEiIiJVY5ghIiIiVWOYISIiIlVjmCF6zV29ehVNmzZ97oPtDM2SJUtUVS8R6Q/DDJGK9OjRA23atCnUODNnzsSVK1eQkJCAM2fOvJzCXpCHh4fyq+M5OnXq9ErqvXDhArp27QpXV1eYm5ujbNmyiIiIKNYfaSWil4vPmSF6zZ07dw61atV6oUfVP3jwINcPer5sFhYWhf6NqMJ6+PAhmjZtCh8fH6xZswYuLi74888/sXnz5hd+UvTz6GOZEr2ueGaGSMWCgoIwaNAg5ccKnZ2dld+9Ah6f8Vi9ejW++eYbaDQa9OjRAwBw6dIlREREwNraGra2tujYsSOuXbumjDdu3DhUr14dixYtgqenp/L7SBqNBgsWLECrVq1gaWkJX19f7N27F0lJSQgKCoKVlRXq16+v8+vd586dQ0REBJycnGBtbY2AgABs375d5z0kJydjyJAh0Gg0ym9t5XWZad68efDy8oKZmRl8fHywbNkyneEajQaLFi1C27ZtYWlpiYoVK+Knn37Kd/kdP34c586dw5dffok33ngD7u7uCAwMxMSJE3V+bfro0aNo3LgxLCwsULJkSfTp00f58dKc9/D0z1u0adNGWd4562LChAl4++23YWtriz59+gB4/LMNQUFBsLS0hIODA0JDQ3Hz5k0AQHZ2NmJiYuDp6QkLCwv4+/vjxx9/VKZ58+ZNdOvWDY6OjrCwsEDFihWxePHifN8v0euKYYZI5ZYuXQorKyv8/vvvmDZtGsaPH49t27YBAA4cOIDmzZujY8eOuHLlCmbPnq38EOI///yDnTt3Ytu2bTh//jw6deqkM92kpCSsXr0aa9asQUJCgtI/5w9yQkICKlWqhK5du6Jv376IiorCwYMHISI6P2aXkZGBFi1aIDY2Fn/88QeaN2+O8PBwXLp0CQCwZs0alC1bFuPHj8eVK1dw5cqVPN/n2rVr8cEHH2DYsGE4duwY+vbti549eyIuLk6nXXR0NDp27IgjR46gRYsW6NatG/755588p+no6AgjIyP8+OOPyMrKyrPNnTt3EBoaCgcHBxw4cACrVq3C9u3bi/SDfdOnT4e/vz/++OMPjB49GgkJCWjSpAn8/Pywd+9e7N69G+Hh4UotMTEx+OabbzB//nwcP34cQ4YMwVtvvYWdO3cCePzjtSdOnMDmzZtx8uRJzJs3T/kRTKJ/FSEi1YiMjJSIiAilu1GjRtKgQQOdNgEBAfLRRx8p3RERERIZGal0b926VYyNjeXSpUtKv+PHjwsA2b9/v4iIjB07VkxNTSU1NVVn2gBk1KhRSvfevXsFgPz3v/9V+n3//fdibm7+zPdRuXJlmTNnjtLt7u4uM2fO1GmzePFisbOzU7rr168v7777rk6bDh06SIsWLfKtLyMjQwDI5s2b863liy++EEtLS7GxsZHg4GAZP368nDt3Thm+cOFCcXBwkIyMDKXfxo0bxcjISK5evSoij9fDBx98oDPdp5e7u7u7tGnTRqdNly5dJDAwMM+67t+/L5aWlhIfH6/T/5133pEuXbqIiEh4eLj07Nkz3/dG9G/BMzNEKletWjWdbhcXF6Smpubb/uTJk3Bzc4Obm5vSz8/PD/b29jh58qTSz93dHY6Ojs+cn5OTEwCgatWqOv3u37+P9PR0AI/PzAwfPhy+vr6wt7eHtbU1Tp48qZyZKaiTJ08iMDBQp19gYKBOzU/XZ2VlBVtb22cuj/79++Pq1av47rvvUK9ePaxatQqVK1dWzm6dPHkS/v7+sLKy0plvdnY2Tp8+Xaj3ULt2bZ3unDMzeUlKSsLdu3fRtGlTWFtbK69vvvlGuYz33nvvYcWKFahevTo+/PBDxMfHF6oeotcFbwAmUjlTU1Odbo1Gg+zs7Bee7pN/vPObX879LXn1y6lh+PDh2LZtG6ZPn44KFSrAwsIC7du3x4MHD164xufVl1PP85aHjY0NwsPDER4ejokTJyI0NBQTJ05E06ZNCzRPIyMjyFM/c/fw4cNc7Z5eps+6wTnnnpyNGzeiTJkyOsO0Wi0AICwsDMnJydi0aRO2bduGJk2aoH///pg+fXqB6iZ6XfDMDNG/jK+vL1JSUpCSkqL0O3HiBG7dugU/P79in9+ePXvQo0cPtG3bFlWrVoWzszMuXryo08bMzCzfe1aerHvPnj25pl3cNWs0GlSqVAl37txR5puYmKh058zXyMgIPj4+AB7fe/PkvT5ZWVk4duzYc+dVrVo1xMbG5jnMz88PWq0Wly5dQoUKFXReT55Vc3R0RGRkJL799lvMmjULCxcuLNL7JlIzhhmif5mQkBBUrVoV3bp1w+HDh7F//368/fbbaNSoUa7LIMWhYsWKyk3EiYmJ6Nq1a64zJR4eHti1axf++usvXL9+Pc/pjBgxAkuWLMG8efNw9uxZzJgxA2vWrMHw4cOLXFtCQgIiIiLw448/4sSJE0hKSsJ///tffP3114iIiAAAdOvWDebm5oiMjMSxY8cQFxeHgQMHonv37spltsaNG2Pjxo3YuHEjTp06hffee69AX+2OiorCgQMH8P777+PIkSM4deoU5s2bh+vXr8PGxgbDhw/HkCFDsHTpUpw7dw6HDx/GnDlzsHTpUgDAmDFjsH79eiQlJeH48ePYsGEDfH19i7w8iNSKYYboX0aj0WD9+vVwcHBAw4YNERISgvLly2PlypUvZX4zZsyAg4MD6tevj/DwcISGhqJmzZo6bcaPH4+LFy/Cy8srz/t0gMdfdZ49ezamT5+OypUrY8GCBVi8eDGCgoKKXFvZsmXh4eGB6Oho1K1bFzVr1sTs2bMRHR2NkSNHAgAsLS2xZcsW/PPPPwgICED79u3RpEkTfPHFF8p0evXqhcjISCUUli9fHsHBwc+dv7e3N7Zu3YrExETUqVMH9erVw/r162Fi8vgOgAkTJmD06NGIiYmBr68vmjdvjo0bN8LT0xPA4zNaUVFRqFatGho2bAhjY2OsWLGiyMuDSK008vSFXiIiIiIV4ZkZIiIiUjWGGSIiIlI1hhkiIiJSNYYZIiIiUjWGGSIiIlI1hhkiIiJSNYYZIiIiUjWGGSIiIlI1hhkiIiJSNYYZIiIiUjWGGSIiIlI1hhkiIiJStf8DfquJkg8FmD0AAAAASUVORK5CYII=\n"
          },
          "metadata": {}
        }
      ]
    },
    {
      "cell_type": "markdown",
      "source": [
        "# Level 4: Expert (Task 8: Investment Duration)"
      ],
      "metadata": {
        "id": "J1B2DGtUJKop"
      }
    },
    {
      "cell_type": "code",
      "source": [
        "investment_duration_column = df['Duration']"
      ],
      "metadata": {
        "id": "8RwjDvWDJO5S"
      },
      "execution_count": null,
      "outputs": []
    },
    {
      "source": [
        "print(\"Investment Duration Summary:\")\n",
        "print(f\"- Mean: {investment_duration_column.mean():.2f} years\")\n",
        "print(f\"- Median: {investment_duration_column.median():.2f} years\")\n",
        "print(f\"- Standard Deviation: {investment_duration_column.std():.2f} years\")\n",
        "print(f\"- Minimum: {investment_duration_column.min():.2f} years\")\n",
        "print(f\"- Maximum: {investment_duration_column.max():.2f} years\")"
      ],
      "cell_type": "code",
      "metadata": {
        "colab": {
          "base_uri": "https://localhost:8080/"
        },
        "id": "Ck-XBVEaJePK",
        "outputId": "da3bad21-eaaa-4c5a-9102-b4e693922152"
      },
      "execution_count": null,
      "outputs": [
        {
          "output_type": "stream",
          "name": "stdout",
          "text": [
            "Investment Duration Summary:\n",
            "- Mean: 3.40 years\n",
            "- Median: 3.00 years\n",
            "- Standard Deviation: 2.07 years\n",
            "- Minimum: 1.00 years\n",
            "- Maximum: 6.00 years\n"
          ]
        }
      ]
    },
    {
      "source": [
        "# Histogram\n",
        "plt.hist(investment_duration_column, bins=10)\n",
        "plt.xlabel(\"Investment Duration (years)\")\n",
        "plt.ylabel(\"Frequency\")\n",
        "plt.title(\"Distribution of Investment Durations\")\n",
        "plt.show()\n",
        "\n",
        "# Boxplot\n",
        "plt.boxplot(investment_duration_column)\n",
        "plt.xlabel(\"Investment Duration (years)\")\n",
        "plt.title(\"Boxplot of Investment Durations\")\n",
        "plt.show()"
      ],
      "cell_type": "code",
      "metadata": {
        "colab": {
          "base_uri": "https://localhost:8080/",
          "height": 927
        },
        "id": "TFs8ky4ViS4X",
        "outputId": "1127c0e2-3fe6-4366-fd57-a66555ec8ae2"
      },
      "execution_count": null,
      "outputs": [
        {
          "output_type": "display_data",
          "data": {
            "text/plain": [
              "<Figure size 640x480 with 1 Axes>"
            ],
            "image/png": "iVBORw0KGgoAAAANSUhEUgAAAjcAAAHHCAYAAABDUnkqAAAAOXRFWHRTb2Z0d2FyZQBNYXRwbG90bGliIHZlcnNpb24zLjcuMSwgaHR0cHM6Ly9tYXRwbG90bGliLm9yZy/bCgiHAAAACXBIWXMAAA9hAAAPYQGoP6dpAABCPklEQVR4nO3deVxUZf//8fewCoriBogiuCsuqJg+TE1NCs1Is9LUEkltk68LZaXdiUuKuaV1V6SlaGZumVZuGWpmae62mYl7qeCWAiYqnN8f/py7EVAYkMHT6/l4zB/nmuuc8zmHGXhznevMWAzDMAQAAGASTo4uAAAAoDARbgAAgKkQbgAAgKkQbgAAgKkQbgAAgKkQbgAAgKkQbgAAgKkQbgAAgKkQbgAAgKkQbnDHGDVqlCwWS5Hsq127dmrXrp11ecOGDbJYLFqyZEmR7L9v374KCgoqkn3ZKy0tTf3795efn58sFouGDBni6JJgckX5OwB3NsINHCIhIUEWi8X6KFGihPz9/RUeHq633npLqamphbKf48ePa9SoUdq9e3ehbK8wFefa8mL8+PFKSEjQc889p48++khPPvlkrn2DgoL04IMPFmF1BTN//nxNmzbN0WXkSX5fR0X13rPXxYsXNWrUKG3YsMGhdeAOZwAOMHv2bEOSMWbMGOOjjz4yZs2aZYwfP964//77DYvFYgQGBhp79uyxWefKlSvG33//na/9bNu2zZBkzJ49O1/rZWRkGBkZGdbl9evXG5KMxYsX52s79tZ2+fJl49KlS4W2r9uhRYsWRqtWrfLUNzAw0OjcufNtrqjwdO7c2QgMDHR0GXmS39e4Pe+9onTq1ClDkhEbG5vtOXt+B+DfycWBuQpQp06d1KxZM+vy8OHDtW7dOj344IN66KGHtHfvXnl4eEiSXFxc5OJye1+yFy9elKenp9zc3G7rfm7F1dXVofvPi5SUFAUHBzu6DNgpP++9grh69aqysrIK5T1VFL8DYA5clkKxc++99+q1117TkSNHNG/ePGt7Ttfb165dq9atW8vb21ulSpVSnTp1NGLECEnX5sncddddkqSoqCjrMHxCQoKka/NqGjRooB07duiee+6Rp6endd0b59xcl5mZqREjRsjPz08lS5bUQw89pGPHjtn0CQoKUt++fbOt+89t3qq2nObcpKen64UXXlBAQIDc3d1Vp04dTZ48WYZh2PSzWCyKjo7WsmXL1KBBA7m7u6t+/fpavXp1zif8BikpKerXr598fX1VokQJhYSEaM6cOdbnr88/OnTokFasWGGt/fDhw3naviQdPnxYFotFkydP1owZM1SjRg25u7vrrrvu0rZt26z9Jk+eLIvFoiNHjmTbxvDhw+Xm5qZz585Z23744Qd17NhRZcqUkaenp9q2bavvvvvOZr3U1FQNGTJEQUFBcnd3l4+Pj+677z7t3LlT0rWf04oVK3TkyBHrsV3/WVw/9kWLFmn06NGqXLmyvLy89Oijj+r8+fPKyMjQkCFD5OPjo1KlSikqKkoZGRnZap83b55CQ0Pl4eGhcuXK6fHHH8/2Orr++vz111/Vvn17eXp6qnLlypo4caLNz+Jmr6P8yu29l9v74cbX6T9/rtOmTbP+XH/99VddvnxZI0eOVGhoqMqUKaOSJUuqTZs2Wr9+vc36FStWlCSNHj3aejyjRo2SlPPvgKtXr2rs2LHWfQUFBWnEiBHZzvv1S6ObNm1S8+bNVaJECVWvXl1z58616XflyhWNHj1atWrVUokSJVS+fHm1bt1aa9euteeUwkGIwCiWnnzySY0YMUJfffWVBgwYkGOfX375RQ8++KAaNWqkMWPGyN3dXUlJSdY/ZvXq1dOYMWM0cuRIPf3002rTpo0k6e6777Zu48yZM+rUqZMef/xxPfHEE/L19b1pXePGjZPFYtHLL7+slJQUTZs2TWFhYdq9e3e+/svNS23/ZBiGHnroIa1fv179+vVT48aNtWbNGg0bNkx//vmn3nzzTZv+mzZt0tKlS/X888/Ly8tLb731lh555BEdPXpU5cuXz7Wuv//+W+3atVNSUpKio6NVrVo1LV68WH379tVff/2lwYMHq169evroo480dOhQValSRS+88IIkWf8o5cf8+fOVmpqqZ555RhaLRRMnTlS3bt108OBBubq6qnv37nrppZe0aNEiDRs2zGbdRYsW6f7771fZsmUlSevWrVOnTp0UGhqq2NhYOTk5afbs2br33nv17bffqnnz5pKkZ599VkuWLFF0dLSCg4N15swZbdq0SXv37lXTpk316quv6vz58/rjjz+s57VUqVI2+46Li5OHh4deeeUVJSUl6e2335arq6ucnJx07tw5jRo1Slu2bFFCQoKqVaumkSNHWtcdN26cXnvtNXXv3l39+/fXqVOn9Pbbb+uee+7Rrl275O3tbe177tw5dezYUd26dVP37t21ZMkSvfzyy2rYsKE6deqU79dRXuTlvXcrs2fP1qVLl/T000/L3d1d5cqV04ULF/TBBx+oZ8+eGjBggFJTU/Xhhx8qPDxcW7duVePGjVWxYkW99957eu655/Twww+rW7dukqRGjRrluq/+/ftrzpw5evTRR/XCCy/ohx9+UFxcnPbu3avPPvvMpm9SUpIeffRR9evXT5GRkZo1a5b69u2r0NBQ1a9fX9K1ABUXF6f+/furefPmunDhgrZv366dO3fqvvvus+t8wAEcfV0M/07Xr/tv27Yt1z5lypQxmjRpYl2OjY01/vmSffPNNw1JxqlTp3Ldxs3mI7Rt29aQZMTHx+f4XNu2ba3L1+fcVK5c2bhw4YK1fdGiRYYkY/r06da2wMBAIzIy8pbbvFltkZGRNnM+li1bZkgyXn/9dZt+jz76qGGxWIykpCRrmyTDzc3Npm3Pnj2GJOPtt9/Otq9/mjZtmiHJmDdvnrXt8uXLRsuWLY1SpUrZHHt+5tHc2PfQoUOGJKN8+fLG2bNnre3Lly83JBlffPGFta1ly5ZGaGiozfa2bt1qSDLmzp1rGIZhZGVlGbVq1TLCw8ONrKwsa7+LFy8a1apVM+677z5rW5kyZYyBAwfetN7c5txcfx00aNDAuHz5srW9Z8+ehsViMTp16mTTv2XLljbbOXz4sOHs7GyMGzfOpt9PP/1kuLi42LRff31eP0bDuDYXzM/Pz3jkkUesbfbOucnPe+/G1+51N75Or/9cS5cubaSkpNj0vXr1qs08NsMwjHPnzhm+vr7GU089ZW272ZybG38H7N6925Bk9O/f36bfiy++aEgy1q1bZ20LDAw0JBkbN260tqWkpBju7u7GCy+8YG0LCQm5o+aHIWdclkKxVapUqZveuXH9P9zly5crKyvLrn24u7srKioqz/379OkjLy8v6/Kjjz6qSpUqaeXKlXbtP69WrlwpZ2dnDRo0yKb9hRdekGEYWrVqlU17WFiYatSoYV1u1KiRSpcurYMHD95yP35+furZs6e1zdXVVYMGDVJaWpq++eabQjia/+nRo4d15EWSdeThn3X26NFDO3bs0IEDB6xtCxculLu7u7p06SJJ2r17t/bv369evXrpzJkzOn36tE6fPq309HR16NBBGzdutL5GvL299cMPP+j48eN2192nTx+beVEtWrSQYRh66qmnbPq1aNFCx44d09WrVyVJS5cuVVZWlrp3726t8fTp0/Lz81OtWrVsLtFI194DTzzxhHXZzc1NzZs3v+XPsaBu9d67lUceeSTbSJ6zs7N13k1WVpbOnj2rq1evqlmzZtZLgvl1/X0XExNj0359NHHFihU27cHBwdbXmHRttLFOnTo259Pb21u//PKL9u/fb1dNKB4INyi20tLSbILEjXr06KFWrVqpf//+8vX11eOPP65FixblK+hUrlw5XxMda9WqZbNssVhUs2bNfM03sceRI0fk7++f7XzUq1fP+vw/Va1aNds2ypYtazM/Jbf91KpVS05Otr8acttPQd1Y5/Wg8886H3vsMTk5OWnhwoWSrl2iW7x4sTp16qTSpUtLkvUPUWRkpCpWrGjz+OCDD5SRkaHz589LkiZOnKiff/5ZAQEBat68uUaNGpXvsHBj3WXKlJEkBQQEZGvPysqy7nv//v0yDEO1atXKVufevXuVkpJis36VKlWyzTHJy8+xoG713ruVatWq5dg+Z84cNWrUyDqXpWLFilqxYoX1/OTXkSNH5OTkpJo1a9q0+/n5ydvb2673xZgxY/TXX3+pdu3aatiwoYYNG6Yff/zRrvrgOMy5QbH0xx9/6Pz589l+af2Th4eHNm7cqPXr12vFihVavXq1Fi5cqHvvvVdfffWVnJ2db7mfwrgb5Ea5fchYZmZmnmoqDLntx7hh8rGj5aVOf39/tWnTRosWLdKIESO0ZcsWHT16VG+88Ya1z/VAO2nSJDVu3DjHbV6fN9O9e3e1adNGn332mb766itNmjRJb7zxhpYuXapOnToVqO5bHU9WVpYsFotWrVqVY98b5/Y44ueY03vPYrHkuM/MzMwct5HT+2revHnq27evunbtqmHDhsnHx0fOzs6Ki4uzGZWzR14/2C8v5/Oee+7RgQMHtHz5cn311Vf64IMP9Oabbyo+Pl79+/cvUJ0oOoQbFEsfffSRJCk8PPym/ZycnNShQwd16NBBU6dO1fjx4/Xqq69q/fr1CgsLK/RPM71xqNowDCUlJdlMeCxbtqz++uuvbOseOXJE1atXty7np7bAwEB9/fXXSk1NtfmP+rfffrM+XxgCAwP1448/Kisry2b0prD3k189evTQ888/r3379mnhwoXy9PRURESE9fnrl+BKly6tsLCwW26vUqVKev755/X8888rJSVFTZs21bhx46zh5nZ9Cm6NGjVkGIaqVaum2rVrF8o2C7vWnN57ZcuWzXF0Kz8jeUuWLFH16tW1dOlSm5pjY2Nt+uX3fZGVlaX9+/dbRxclKTk5WX/99Zfdr9dy5copKipKUVFRSktL0z333KNRo0YRbu4gXJZCsbNu3TqNHTtW1apVU+/evXPtd/bs2Wxt1/9rv34baMmSJSUpx7Bhj7lz59rMRViyZIlOnDhh8x9/jRo1tGXLFl2+fNna9uWXX2a71Tc/tT3wwAPKzMzUf//7X5v2N998UxaLJc8jDnnZz8mTJ62XgKRrt9q+/fbbKlWqlNq2bVso+8mvRx55RM7Ozvrkk0+0ePFiPfjgg9bzJ0mhoaGqUaOGJk+erLS0tGzrnzp1StK1kYYbL4H4+PjI39/f5tbhkiVL2n2p5Ga6desmZ2dnjR49OttIiGEYOnPmTL63WZiv8dzeezVq1NBvv/1mPY+StGfPnmy32d/M9VGTfx73Dz/8oM2bN9v08/T0lJT394WkbJ8mPXXqVElS586d81zfdTf+DEqVKqWaNWvmeEs/ii9GbuBQq1at0m+//aarV68qOTlZ69at09q1axUYGKjPP/9cJUqUyHXdMWPGaOPGjercubMCAwOVkpKid999V1WqVFHr1q0lXful7O3trfj4eHl5ealkyZJq0aJFrnMCbqVcuXJq3bq1oqKilJycrGnTpqlmzZo2t8z2799fS5YsUceOHdW9e3cdOHBA8+bNs5ngm9/aIiIi1L59e7366qs6fPiwQkJC9NVXX2n58uUaMmRItm3b6+mnn9b777+vvn37aseOHQoKCtKSJUv03Xffadq0aQWah1EQPj4+at++vaZOnarU1FT16NHD5nknJyd98MEH6tSpk+rXr6+oqChVrlxZf/75p9avX6/SpUvriy++UGpqqqpUqaJHH31UISEhKlWqlL7++mtt27ZNU6ZMsW4vNDRUCxcuVExMjO666y6VKlXKZqTIXjVq1NDrr7+u4cOH6/Dhw+ratau8vLx06NAhffbZZ3r66af14osv5nub9rzG8/Pee+qppzR16lSFh4erX79+SklJUXx8vOrXr68LFy7kqc4HH3xQS5cu1cMPP6zOnTvr0KFDio+PV3BwsE0g9fDwUHBwsBYuXKjatWurXLlyatCggRo0aJBtmyEhIYqMjNSMGTP0119/qW3bttq6davmzJmjrl27qn379nk8i/8THBysdu3aKTQ0VOXKldP27dutHx2AO4gD7tACrLejXn+4ubkZfn5+xn333WdMnz7d5pbj6268DTQxMdHo0qWL4e/vb7i5uRn+/v5Gz549jd9//91mveXLlxvBwcGGi4uLzS2zbdu2NerXr59jfbndCv7JJ58Yw4cPN3x8fAwPDw+jc+fOxpEjR7KtP2XKFKNy5cqGu7u70apVK2P79u053k6bW2033mJrGIaRmppqDB061PD39zdcXV2NWrVqGZMmTbK59dkwrt0KntOtzrndon6j5ORkIyoqyqhQoYLh5uZmNGzYMMfbjAvjVvBJkyZl66tcbgOeOXOmIcnw8vLK9SP4d+3aZXTr1s0oX7684e7ubgQGBhrdu3c3EhMTDcO4div1sGHDjJCQEMPLy8soWbKkERISYrz77rs220lLSzN69epleHt7G5KsP4vcvoYjt9urr79mb/y4gk8//dRo3bq1UbJkSaNkyZJG3bp1jYEDBxr79u2z9snt9ZnTayO311FO7HnvGYZhzJs3z6hevbrh5uZmNG7c2FizZk2ut4Ln9HPNysoyxo8fbwQGBhru7u5GkyZNjC+//DLH4/n++++N0NBQw83Nzeb1cOPvAMO49pUMo0ePNqpVq2a4uroaAQEBxvDhw7N9fUlur9cb35evv/660bx5c8Pb29vw8PAw6tata4wbN87m1n8UfxbDKGYzDAEAAAqAOTcAAMBUCDcAAMBUCDcAAMBUCDcAAMBUCDcAAMBUCDcAAMBU/nUf4peVlaXjx4/Ly8vrtn3EOgAAKFyGYSg1NVX+/v7Zvtz3Rv+6cHP8+PFs39wLAADuDMeOHVOVKlVu2udfF26uf3z8sWPHVLp0aQdXAwAA8uLChQsKCAjI09fA/OvCzfVLUaVLlybcAABwh8nLlBImFAMAAFMh3AAAAFMh3AAAAFMh3AAAAFMh3AAAAFMh3AAAAFMh3AAAAFMh3AAAAFMh3AAAAFMh3AAAAFNxaLjZuHGjIiIi5O/vL4vFomXLlt1ynQ0bNqhp06Zyd3dXzZo1lZCQcNvrBAAAdw6Hhpv09HSFhITonXfeyVP/Q4cOqXPnzmrfvr12796tIUOGqH///lqzZs1trhQAANwpHPrFmZ06dVKnTp3y3D8+Pl7VqlXTlClTJEn16tXTpk2b9Oabbyo8PPx2lQkAAO4gd9Scm82bNyssLMymLTw8XJs3b3ZQRQAAoLhx6MhNfp08eVK+vr42bb6+vrpw4YL+/vtveXh4ZFsnIyNDGRkZ1uULFy7c9joBAIDj3FHhxh5xcXEaPXp0ke0v6JUVRbavwnJ4QmdHl5BvnOeiwXmG2dyJr+k7kaPfh3fUZSk/Pz8lJyfbtCUnJ6t06dI5jtpI0vDhw3X+/Hnr49ixY0VRKgAAcJA7auSmZcuWWrlypU3b2rVr1bJly1zXcXd3l7u7++0uDQAAFBMOHblJS0vT7t27tXv3bknXbvXevXu3jh49KunaqEufPn2s/Z999lkdPHhQL730kn777Te9++67WrRokYYOHeqI8gEAQDHk0HCzfft2NWnSRE2aNJEkxcTEqEmTJho5cqQk6cSJE9agI0nVqlXTihUrtHbtWoWEhGjKlCn64IMPuA0cAABYOfSyVLt27WQYRq7P5/Tpw+3atdOuXbtuY1UAAOBOdkdNKAYAALgVwg0AADAVwg0AADAVwg0AADAVwg0AADAVwg0AADAVwg0AADAVwg0AADAVwg0AADAVwg0AADAVwg0AADAVwg0AADAVwg0AADAVwg0AADAVwg0AADAVwg0AADAVwg0AADAVwg0AADAVwg0AADAVwg0AADAVwg0AADAVwg0AADAVwg0AADAVwg0AADAVwg0AADAVwg0AADAVwg0AADAVwg0AADAVwg0AADAVwg0AADAVwg0AADAVwg0AADAVwg0AADAVwg0AADAVwg0AADAVwg0AADAVwg0AADAVwg0AADAVwg0AADAVwg0AADAVwg0AADAVwg0AADAVwg0AADAVwg0AADAVwg0AADAVwg0AADAVwg0AADAVwg0AADAVwg0AADAVwg0AADAVwg0AADAVwg0AADAVwg0AADAVwg0AADAVwg0AADAVwg0AADAVwg0AADAVwg0AADAVwg0AADAVwg0AADAVh4ebd955R0FBQSpRooRatGihrVu33rT/tGnTVKdOHXl4eCggIEBDhw7VpUuXiqhaAABQ3Dk03CxcuFAxMTGKjY3Vzp07FRISovDwcKWkpOTYf/78+XrllVcUGxurvXv36sMPP9TChQs1YsSIIq4cAAAUVw4NN1OnTtWAAQMUFRWl4OBgxcfHy9PTU7Nmzcqx//fff69WrVqpV69eCgoK0v3336+ePXvecrQHAAD8ezgs3Fy+fFk7duxQWFjY/4pxclJYWJg2b96c4zp33323duzYYQ0zBw8e1MqVK/XAAw/kup+MjAxduHDB5gEAAMzLxVE7Pn36tDIzM+Xr62vT7uvrq99++y3HdXr16qXTp0+rdevWMgxDV69e1bPPPnvTy1JxcXEaPXp0odYOAACKL4dPKM6PDRs2aPz48Xr33Xe1c+dOLV26VCtWrNDYsWNzXWf48OE6f/689XHs2LEirBgAABQ1h43cVKhQQc7OzkpOTrZpT05Olp+fX47rvPbaa3ryySfVv39/SVLDhg2Vnp6up59+Wq+++qqcnLJnNXd3d7m7uxf+AQAAgGLJYSM3bm5uCg0NVWJiorUtKytLiYmJatmyZY7rXLx4MVuAcXZ2liQZhnH7igUAAHcMh43cSFJMTIwiIyPVrFkzNW/eXNOmTVN6erqioqIkSX369FHlypUVFxcnSYqIiNDUqVPVpEkTtWjRQklJSXrttdcUERFhDTkAAODfzaHhpkePHjp16pRGjhypkydPqnHjxlq9erV1kvHRo0dtRmr+85//yGKx6D//+Y/+/PNPVaxYURERERo3bpyjDgEAABQzDg03khQdHa3o6Ogcn9uwYYPNsouLi2JjYxUbG1sElQEAgDvRHXW3FAAAwK0QbgAAgKkQbgAAgKkQbgAAgKkQbgAAgKkQbgAAgKkQbgAAgKkQbgAAgKkQbgAAgKkQbgAAgKkQbgAAgKkQbgAAgKkQbgAAgKkQbgAAgKkQbgAAgKkQbgAAgKkQbgAAgKkQbgAAgKkQbgAAgKkQbgAAgKkQbgAAgKkQbgAAgKkQbgAAgKkQbgAAgKkQbgAAgKkQbgAAgKkQbgAAgKkQbgAAgKkQbgAAgKkQbgAAgKkQbgAAgKkQbgAAgKkQbgAAgKkQbgAAgKkQbgAAgKkQbgAAgKkQbgAAgKkQbgAAgKkQbgAAgKkQbgAAgKkQbgAAgKkQbgAAgKkQbgAAgKkQbgAAgKkQbgAAgKkQbgAAgKkQbgAAgKkQbgAAgKkQbgAAgKkQbgAAgKkQbgAAgKkQbgAAgKkQbgAAgKkQbgAAgKkQbgAAgKkQbgAAgKkQbgAAgKnYFW4OHjxY2HUAAAAUCrvCTc2aNdW+fXvNmzdPly5dKuyaAAAA7GZXuNm5c6caNWqkmJgY+fn56ZlnntHWrVvtKuCdd95RUFCQSpQooRYtWtxyO3/99ZcGDhyoSpUqyd3dXbVr19bKlSvt2jcAADAfu8JN48aNNX36dB0/flyzZs3SiRMn1Lp1azVo0EBTp07VqVOn8rSdhQsXKiYmRrGxsdq5c6dCQkIUHh6ulJSUHPtfvnxZ9913nw4fPqwlS5Zo3759mjlzpipXrmzPYQAAABMq0IRiFxcXdevWTYsXL9Ybb7yhpKQkvfjiiwoICFCfPn104sSJm64/depUDRgwQFFRUQoODlZ8fLw8PT01a9asHPvPmjVLZ8+e1bJly9SqVSsFBQWpbdu2CgkJKchhAAAAEylQuNm+fbuef/55VapUSVOnTtWLL76oAwcOaO3atTp+/Li6dOmS67qXL1/Wjh07FBYW9r9inJwUFhamzZs357jO559/rpYtW2rgwIHy9fVVgwYNNH78eGVmZhbkMAAAgIm42LPS1KlTNXv2bO3bt08PPPCA5s6dqwceeEBOTteyUrVq1ZSQkKCgoKBct3H69GllZmbK19fXpt3X11e//fZbjuscPHhQ69atU+/evbVy5UolJSXp+eef15UrVxQbG5vjOhkZGcrIyLAuX7hwIZ9HCwAA7iR2hZv33ntPTz31lPr27atKlSrl2MfHx0cffvhhgYq7UVZWlnx8fDRjxgw5OzsrNDRUf/75pyZNmpRruImLi9Po0aMLtQ4AAFB82RVu9u/ff8s+bm5uioyMzPX5ChUqyNnZWcnJyTbtycnJ8vPzy3GdSpUqydXVVc7Ozta2evXq6eTJk7p8+bLc3NyyrTN8+HDFxMRYly9cuKCAgIBb1g8AAO5Mds25mT17thYvXpytffHixZozZ06etuHm5qbQ0FAlJiZa27KyspSYmKiWLVvmuE6rVq2UlJSkrKwsa9vvv/+uSpUq5RhsJMnd3V2lS5e2eQAAAPOyK9zExcWpQoUK2dp9fHw0fvz4PG8nJiZGM2fO1Jw5c7R3714999xzSk9PV1RUlCSpT58+Gj58uLX/c889p7Nnz2rw4MH6/ffftWLFCo0fP14DBw605zAAAIAJ2XVZ6ujRo6pWrVq29sDAQB09ejTP2+nRo4dOnTqlkSNH6uTJk2rcuLFWr15tnWR89OhR6yRlSQoICNCaNWs0dOhQNWrUSJUrV9bgwYP18ssv23MYAADAhOwKNz4+Pvrxxx+z3Q21Z88elS9fPl/bio6OVnR0dI7PbdiwIVtby5YttWXLlnztAwAA/HvYdVmqZ8+eGjRokNavX6/MzExlZmZq3bp1Gjx4sB5//PHCrhEAACDP7Bq5GTt2rA4fPqwOHTrIxeXaJrKystSnT598zbkBAAAobHaFGzc3Ny1cuFBjx47Vnj175OHhoYYNGyowMLCw6wMAAMgXu8LNdbVr11bt2rULqxYAAIACsyvcZGZmKiEhQYmJiUpJSbH53BlJWrduXaEUBwAAkF92hZvBgwcrISFBnTt3VoMGDWSxWAq7LgAAALvYFW4WLFigRYsW6YEHHijsegAAAArErlvB3dzcVLNmzcKuBQAAoMDsCjcvvPCCpk+fLsMwCrseAACAArHrstSmTZu0fv16rVq1SvXr15erq6vN80uXLi2U4gAAAPLLrnDj7e2thx9+uLBrAQAAKDC7ws3s2bMLuw4AAIBCYdecG0m6evWqvv76a73//vtKTU2VJB0/flxpaWmFVhwAAEB+2TVyc+TIEXXs2FFHjx5VRkaG7rvvPnl5eemNN95QRkaG4uPjC7tOAACAPLFr5Gbw4MFq1qyZzp07Jw8PD2v7ww8/rMTExEIrDgAAIL/sGrn59ttv9f3338vNzc2mPSgoSH/++WehFAYAAGAPu0ZusrKylJmZma39jz/+kJeXV4GLAgAAsJdd4eb+++/XtGnTrMsWi0VpaWmKjY3lKxkAAIBD2XVZasqUKQoPD1dwcLAuXbqkXr16af/+/apQoYI++eSTwq4RAAAgz+wKN1WqVNGePXu0YMEC/fjjj0pLS1O/fv3Uu3dvmwnGAAAARc2ucCNJLi4ueuKJJwqzFgAAgAKzK9zMnTv3ps/36dPHrmIAAAAKyq5wM3jwYJvlK1eu6OLFi3Jzc5OnpyfhBgAAOIxdd0udO3fO5pGWlqZ9+/apdevWTCgGAAAOZfd3S92oVq1amjBhQrZRHQAAgKJUaOFGujbJ+Pjx44W5SQAAgHyxa87N559/brNsGIZOnDih//73v2rVqlWhFAYAAGAPu8JN165dbZYtFosqVqyoe++9V1OmTCmMugAAAOxiV7jJysoq7DoAAAAKRaHOuQEAAHA0u0ZuYmJi8tx36tSp9uwCAADALnaFm127dmnXrl26cuWK6tSpI0n6/fff5ezsrKZNm1r7WSyWwqkSAAAgj+wKNxEREfLy8tKcOXNUtmxZSdc+2C8qKkpt2rTRCy+8UKhFAgAA5JVdc26mTJmiuLg4a7CRpLJly+r111/nbikAAOBQdoWbCxcu6NSpU9naT506pdTU1AIXBQAAYC+7ws3DDz+sqKgoLV26VH/88Yf++OMPffrpp+rXr5+6detW2DUCAADkmV1zbuLj4/Xiiy+qV69eunLlyrUNubioX79+mjRpUqEWCAAAkB92hRtPT0+9++67mjRpkg4cOCBJqlGjhkqWLFmoxQEAAORXgT7E78SJEzpx4oRq1aqlkiVLyjCMwqoLAADALnaFmzNnzqhDhw6qXbu2HnjgAZ04cUKS1K9fP24DBwAADmVXuBk6dKhcXV119OhReXp6Wtt79Oih1atXF1pxAAAA+WXXnJuvvvpKa9asUZUqVWzaa9WqpSNHjhRKYQAAAPawa+QmPT3dZsTmurNnz8rd3b3ARQEAANjLrnDTpk0bzZ0717pssViUlZWliRMnqn379oVWHAAAQH7ZdVlq4sSJ6tChg7Zv367Lly/rpZde0i+//KKzZ8/qu+++K+waAQAA8syukZsGDRro999/V+vWrdWlSxelp6erW7du2rVrl2rUqFHYNQIAAORZvkdurly5oo4dOyo+Pl6vvvrq7agJAADAbvkeuXF1ddWPP/54O2oBAAAoMLsuSz3xxBP68MMPC7sWAACAArNrQvHVq1c1a9Ysff311woNDc32nVJTp04tlOIAAADyK1/h5uDBgwoKCtLPP/+spk2bSpJ+//13mz4Wi6XwqgMAAMinfIWbWrVq6cSJE1q/fr2ka1+38NZbb8nX1/e2FAcAAJBf+Zpzc+O3fq9atUrp6emFWhAAAEBB2DWh+Lobww4AAICj5SvcWCyWbHNqmGMDAACKk3zNuTEMQ3379rV+OealS5f07LPPZrtbaunSpYVXIQAAQD7kK9xERkbaLD/xxBOFWgwAAEBB5SvczJ49+3bVAQAAUCgKNKEYAACguCHcAAAAUykW4eadd95RUFCQSpQooRYtWmjr1q15Wm/BggWyWCzq2rXr7S0QAADcMRwebhYuXKiYmBjFxsZq586dCgkJUXh4uFJSUm663uHDh/Xiiy+qTZs2RVQpAAC4Ezg83EydOlUDBgxQVFSUgoODFR8fL09PT82aNSvXdTIzM9W7d2+NHj1a1atXL8JqAQBAcefQcHP58mXt2LFDYWFh1jYnJyeFhYVp8+bNua43ZswY+fj4qF+/frfcR0ZGhi5cuGDzAAAA5uXQcHP69GllZmZm++JNX19fnTx5Msd1Nm3apA8//FAzZ87M0z7i4uJUpkwZ6yMgIKDAdQMAgOLL4Zel8iM1NVVPPvmkZs6cqQoVKuRpneHDh+v8+fPWx7Fjx25zlQAAwJHy9SF+ha1ChQpydnZWcnKyTXtycrL8/Pyy9T9w4IAOHz6siIgIa1tWVpYkycXFRfv27VONGjVs1nF3d7d+XQQAADA/h47cuLm5KTQ0VImJida2rKwsJSYmqmXLltn6161bVz/99JN2795tfTz00ENq3769du/ezSUnAADg2JEbSYqJiVFkZKSaNWum5s2ba9q0aUpPT1dUVJQkqU+fPqpcubLi4uJUokQJNWjQwGZ9b29vScrWDgAA/p0cHm569OihU6dOaeTIkTp58qQaN26s1atXWycZHz16VE5Od9TUIAAA4EAODzeSFB0drejo6Byf27Bhw03XTUhIKPyCAADAHYshEQAAYCqEGwAAYCqEGwAAYCqEGwAAYCqEGwAAYCqEGwAAYCqEGwAAYCqEGwAAYCqEGwAAYCqEGwAAYCqEGwAAYCqEGwAAYCqEGwAAYCqEGwAAYCqEGwAAYCqEGwAAYCqEGwAAYCqEGwAAYCqEGwAAYCqEGwAAYCqEGwAAYCqEGwAAYCqEGwAAYCqEGwAAYCqEGwAAYCqEGwAAYCqEGwAAYCqEGwAAYCqEGwAAYCqEGwAAYCqEGwAAYCqEGwAAYCqEGwAAYCqEGwAAYCqEGwAAYCqEGwAAYCqEGwAAYCqEGwAAYCqEGwAAYCqEGwAAYCqEGwAAYCqEGwAAYCqEGwAAYCqEGwAAYCqEGwAAYCqEGwAAYCqEGwAAYCqEGwAAYCqEGwAAYCqEGwAAYCqEGwAAYCqEGwAAYCqEGwAAYCqEGwAAYCqEGwAAYCqEGwAAYCqEGwAAYCqEGwAAYCqEGwAAYCrFIty88847CgoKUokSJdSiRQtt3bo1174zZ85UmzZtVLZsWZUtW1ZhYWE37Q8AAP5dHB5uFi5cqJiYGMXGxmrnzp0KCQlReHi4UlJScuy/YcMG9ezZU+vXr9fmzZsVEBCg+++/X3/++WcRVw4AAIojh4ebqVOnasCAAYqKilJwcLDi4+Pl6empWbNm5dj/448/1vPPP6/GjRurbt26+uCDD5SVlaXExMQirhwAABRHDg03ly9f1o4dOxQWFmZtc3JyUlhYmDZv3pynbVy8eFFXrlxRuXLlcnw+IyNDFy5csHkAAADzcmi4OX36tDIzM+Xr62vT7uvrq5MnT+ZpGy+//LL8/f1tAtI/xcXFqUyZMtZHQEBAgesGAADFl8MvSxXEhAkTtGDBAn322WcqUaJEjn2GDx+u8+fPWx/Hjh0r4ioBAEBRcnHkzitUqCBnZ2clJyfbtCcnJ8vPz++m606ePFkTJkzQ119/rUaNGuXaz93dXe7u7oVSLwAAKP4cOnLj5uam0NBQm8nA1ycHt2zZMtf1Jk6cqLFjx2r16tVq1qxZUZQKAADuEA4duZGkmJgYRUZGqlmzZmrevLmmTZum9PR0RUVFSZL69OmjypUrKy4uTpL0xhtvaOTIkZo/f76CgoKsc3NKlSqlUqVKOew4AABA8eDwcNOjRw+dOnVKI0eO1MmTJ9W4cWOtXr3aOsn46NGjcnL63wDTe++9p8uXL+vRRx+12U5sbKxGjRpVlKUDAIBiyOHhRpKio6MVHR2d43MbNmywWT58+PDtLwgAANyx7ui7pQAAAG5EuAEAAKZCuAEAAKZCuAEAAKZCuAEAAKZCuAEAAKZCuAEAAKZCuAEAAKZCuAEAAKZCuAEAAKZCuAEAAKZCuAEAAKZCuAEAAKZCuAEAAKZCuAEAAKZCuAEAAKZCuAEAAKZCuAEAAKZCuAEAAKZCuAEAAKZCuAEAAKZCuAEAAKZCuAEAAKZCuAEAAKZCuAEAAKZCuAEAAKZCuAEAAKZCuAEAAKZCuAEAAKZCuAEAAKZCuAEAAKZCuAEAAKZCuAEAAKZCuAEAAKZCuAEAAKZCuAEAAKZCuAEAAKZCuAEAAKZCuAEAAKZCuAEAAKZCuAEAAKZCuAEAAKZCuAEAAKZCuAEAAKZCuAEAAKZCuAEAAKZCuAEAAKZCuAEAAKZCuAEAAKZCuAEAAKZCuAEAAKZCuAEAAKZCuAEAAKZCuAEAAKZCuAEAAKZCuAEAAKZCuAEAAKZCuAEAAKZCuAEAAKZSLMLNO++8o6CgIJUoUUItWrTQ1q1bb9p/8eLFqlu3rkqUKKGGDRtq5cqVRVQpAAAo7hwebhYuXKiYmBjFxsZq586dCgkJUXh4uFJSUnLs//3336tnz57q16+fdu3apa5du6pr1676+eefi7hyAABQHDk83EydOlUDBgxQVFSUgoODFR8fL09PT82aNSvH/tOnT1fHjh01bNgw1atXT2PHjlXTpk313//+t4grBwAAxZFDw83ly5e1Y8cOhYWFWducnJwUFhamzZs357jO5s2bbfpLUnh4eK79AQDAv4uLI3d++vRpZWZmytfX16bd19dXv/32W47rnDx5Msf+J0+ezLF/RkaGMjIyrMvnz5+XJF24cKEgpecqK+Pibdnu7XS7zsXtxHkuGpxnmM2d+Jq+E92O9+H1bRqGccu+Dg03RSEuLk6jR4/O1h4QEOCAaoqnMtMcXcG/A+e5aHCeAce7ne/D1NRUlSlT5qZ9HBpuKlSoIGdnZyUnJ9u0Jycny8/PL8d1/Pz88tV/+PDhiomJsS5nZWXp7NmzKl++vCwWSwGPwNaFCxcUEBCgY8eOqXTp0oW6bfwP57locJ6LBue56HCui8btOs+GYSg1NVX+/v637OvQcOPm5qbQ0FAlJiaqa9eukq6Fj8TEREVHR+e4TsuWLZWYmKghQ4ZY29auXauWLVvm2N/d3V3u7u42bd7e3oVRfq5Kly7NG6cIcJ6LBue5aHCeiw7numjcjvN8qxGb6xx+WSomJkaRkZFq1qyZmjdvrmnTpik9PV1RUVGSpD59+qhy5cqKi4uTJA0ePFht27bVlClT1LlzZy1YsEDbt2/XjBkzHHkYAACgmHB4uOnRo4dOnTqlkSNH6uTJk2rcuLFWr15tnTR89OhROTn976auu+++W/Pnz9d//vMfjRgxQrVq1dKyZcvUoEEDRx0CAAAoRhwebiQpOjo618tQGzZsyNb22GOP6bHHHrvNVeWfu7u7YmNjs10GQ+HiPBcNznPR4DwXHc510SgO59li5OWeKgAAgDuEwz+hGAAAoDARbgAAgKkQbgAAgKkQbgAAgKkQbgrBxo0bFRERIX9/f1ksFi1btszRJZlSXFyc7rrrLnl5ecnHx0ddu3bVvn37HF2W6bz33ntq1KiR9QO4WrZsqVWrVjm6LNObMGGCLBaLzQeUouBGjRoli8Vi86hbt66jyzKlP//8U0888YTKly8vDw8PNWzYUNu3b3dILYSbQpCenq6QkBC98847ji7F1L755hsNHDhQW7Zs0dq1a3XlyhXdf//9Sk9Pd3RpplKlShVNmDBBO3bs0Pbt23XvvfeqS5cu+uWXXxxdmmlt27ZN77//vho1auToUkypfv36OnHihPWxadMmR5dkOufOnVOrVq3k6uqqVatW6ddff9WUKVNUtmxZh9RTLD7n5k7XqVMnderUydFlmN7q1attlhMSEuTj46MdO3bonnvucVBV5hMREWGzPG7cOL333nvasmWL6tev76CqzCstLU29e/fWzJkz9frrrzu6HFNycXHJ9fsHUTjeeOMNBQQEaPbs2da2atWqOaweRm5wxzp//rwkqVy5cg6uxLwyMzO1YMECpaen5/r9bSiYgQMHqnPnzgoLC3N0Kaa1f/9++fv7q3r16urdu7eOHj3q6JJM5/PPP1ezZs302GOPycfHR02aNNHMmTMdVg8jN7gjZWVlaciQIWrVqhVfvXEb/PTTT2rZsqUuXbqkUqVK6bPPPlNwcLCjyzKdBQsWaOfOndq2bZujSzGtFi1aKCEhQXXq1NGJEyc0evRotWnTRj///LO8vLwcXZ5pHDx4UO+9955iYmI0YsQIbdu2TYMGDZKbm5siIyOLvB7CDe5IAwcO1M8//8y189ukTp062r17t86fP68lS5YoMjJS33zzDQGnEB07dkyDBw/W2rVrVaJECUeXY1r/nDLQqFEjtWjRQoGBgVq0aJH69evnwMrMJSsrS82aNdP48eMlSU2aNNHPP/+s+Ph4h4QbLkvhjhMdHa0vv/xS69evV5UqVRxdjim5ubmpZs2aCg0NVVxcnEJCQjR9+nRHl2UqO3bsUEpKipo2bSoXFxe5uLjom2++0VtvvSUXFxdlZmY6ukRT8vb2Vu3atZWUlOToUkylUqVK2f75qVevnsMuATJygzuGYRj6v//7P3322WfasGGDQyer/dtkZWUpIyPD0WWYSocOHfTTTz/ZtEVFRalu3bp6+eWX5ezs7KDKzC0tLU0HDhzQk08+6ehSTKVVq1bZPprj999/V2BgoEPqIdwUgrS0NJv/Ag4dOqTdu3erXLlyqlq1qgMrM5eBAwdq/vz5Wr58uby8vHTy5ElJUpkyZeTh4eHg6sxj+PDh6tSpk6pWrarU1FTNnz9fGzZs0Jo1axxdmql4eXllmy9WsmRJlS9fnnlkhejFF19URESEAgMDdfz4ccXGxsrZ2Vk9e/Z0dGmmMnToUN19990aP368unfvrq1bt2rGjBmaMWOGYwoyUGDr1683JGV7REZGOro0U8npHEsyZs+e7ejSTOWpp54yAgMDDTc3N6NixYpGhw4djK+++srRZf0rtG3b1hg8eLCjyzCVHj16GJUqVTLc3NyMypUrGz169DCSkpIcXZYpffHFF0aDBg0Md3d3o27dusaMGTMcVovFMAzDMbEKAACg8DGhGAAAmArhBgAAmArhBgAAmArhBgAAmArhBgAAmArhBgAAmArhBgAAmArhBgDyqW/fvuratWuR7OvDDz/U/fffXyT7KojVq1ercePGysrKcnQpAOEGKExF+UcvLw4fPiyLxaLdu3c7uhSroKAgTZs2LU/9LBaLLBaLPDw8FBQUpO7du2vdunW3v8j/L7fzN336dCUkJNz2/V+6dEmvvfaaYmNjb/u+Cqpjx45ydXXVxx9/7OhSAMINgOJrzJgxOnHihPbt26e5c+fK29tbYWFhGjduXIG2e/ny5QKtX6ZMGXl7exdoG3mxZMkSlS5dWq1atbrt+7oZwzB09erVW/br27ev3nrrrSKoCLg5wg1wG7Vr106DBg3SSy+9pHLlysnPz0+jRo2yPt+rVy/16NHDZp0rV66oQoUKmjt3rqRr38gdFxenatWqycPDQyEhIVqyZIm1/7lz59S7d29VrFhRHh4eqlWrlmbPni1J1m9Ob9KkiSwWi9q1ayfpfyNM48ePl6+vr7y9vTVmzBhdvXpVw4YNU7ly5VSlShXrdq47duyYunfvLm9vb5UrV05dunTR4cOHrc9f3+7kyZNVqVIllS9fXgMHDtSVK1es5+PIkSMaOnSodVTmZry8vOTn56eqVavqnnvu0YwZM/Taa69p5MiR1m8gTkhIyBY0li1bZrPtUaNGqXHjxvrggw9UrVo1lShRQtK1SymtW7eWt7e3ypcvrwcffFAHDhywrner83ddRkaGBg0aJB8fH5UoUUKtW7fWtm3brM9v2LBBFotFiYmJatasmTw9PXX33Xdn+xblGy1YsEARERHW5Y0bN8rV1dX6pbHXDRkyRG3atLEub9q0SW3atJGHh4cCAgI0aNAgpaenW5//6KOP1KxZM+v57dWrl1JSUrLVu2rVKoWGhsrd3V2bNm3Snj171L59e3l5eal06dIKDQ3V9u3bretFRERo+/btNucQcATCDXCbzZkzRyVLltQPP/ygiRMnasyYMVq7dq0kqXfv3vriiy+UlpZm7b9mzRpdvHhRDz/8sCQpLi5Oc+fOVXx8vH755RcNHTpUTzzxhL755htJ0muvvaZff/1Vq1at0t69e/Xee++pQoUKkqStW7dKkr7++mudOHFCS5cute5n3bp1On78uDZu3KipU6cqNjZWDz74oMqWLasffvhBzz77rJ555hn98ccfkq6FrvDwcHl5eenbb7/Vd999p1KlSqljx442IyHr16/XgQMHtH79es2ZM0cJCQnWSzhLly5VlSpVrCMyJ06cyPf5HDx4sAzD0PLly/O1XlJSkj799FMtXbrUepkpPT1dMTEx2r59uxITE+Xk5KSHH37YOm/kZufvn1566SV9+umnmjNnjnbu3KmaNWsqPDxcZ8+eten36quvasqUKdq+fbtcXFz01FNP3bTmTZs2qVmzZtble+65R9WrV9dHH31kbbty5Yo+/vhj67YOHDigjh076pFHHtGPP/6ohQsXatOmTYqOjrZZZ+zYsdqzZ4+WLVumw4cPq2/fvtn2/8orr2jChAnau3evGjVqpN69e6tKlSratm2bduzYoVdeeUWurq7W/lWrVpWvr6++/fbbmx4XcNs57Cs7AROKjIw0unTpYl1u27at0bp1a5s+d911l/Hyyy8bhmEYV65cMSpUqGDMnTvX+nzPnj2NHj16GIZhGJcuXTI8PT2N77//3mYb/fr1M3r27GkYhmFEREQYUVFROdZz6NAhQ5Kxa9eubHUGBgYamZmZ1rY6deoYbdq0sS5fvXrVKFmypPHJJ58YhmEYH330kVGnTh0jKyvL2icjI8Pw8PAw1qxZY7Pdq1evWvs89thj1uMxDMMIDAw03nzzzRzr/aeb9fP19TWee+45wzAMY/bs2UaZMmVsnv/ss8+Mf/56i42NNVxdXY2UlJSb7vPUqVOGJOOnn34yDOPm5+/6zzktLc1wdXU1Pv74Y+vzly9fNvz9/Y2JEycahmEY69evNyQZX3/9tbXPihUrDEnG33//nWMt586dMyQZGzdutGl/4403jHr16lmXP/30U6NUqVJGWlqaYRjXXhtPP/20zTrffvut4eTklOu+tm3bZkgyUlNTbepdtmyZTT8vLy8jISEhx21c16RJE2PUqFE37QPcbozcALdZo0aNbJYrVapkvQTg4uKi7t27Wydhpqena/ny5erdu7eka6MNFy9e1H333adSpUpZH3PnzrUO/T/33HNasGCBGjdurJdeeknff/99nuqqX7++nJz+9yvA19dXDRs2tC47OzurfPny1lr37NmjpKQkeXl5WesoV66cLl26ZHMZon79+nJ2ds7xeAuLYRi3vKR1o8DAQFWsWNGmbf/+/erZs6eqV6+u0qVLKygoSJJ09OjRPG/3wIEDunLlis28GFdXVzVv3lx79+616fvP10KlSpUkKddz8/fff0uS9RLadX379lVSUpK2bNki6dplue7du6tkyZKSrv2cEhISbF4v4eHhysrK0qFDhyRJO3bsUEREhKpWrSovLy+1bds2x+P+56iRJMXExKh///4KCwvThAkTcrz85OHhoYsXL+Z4TEBRcXF0AYDZ/XPYXpIsFovN7bK9e/dW27ZtlZKSorVr18rDw0MdO3aUJOvlqhUrVqhy5co223F3d5ckderUSUeOHNHKlSu1du1adejQQQMHDtTkyZPzXdfNak1LS1NoaGiOd8P8MzTc6ngL6syZMzp16pR1PoyTk5MMw7Dpc32Ozz9d/+P/TxEREQoMDNTMmTPl7++vrKwsNWjQoMATjnPzz3NzPZzldm7Kly8vi8Wic+fO2bT7+PgoIiJCs2fPVrVq1bRq1Spt2LDB+nxaWpqeeeYZDRo0KNs2q1atqvT0dIWHhys8PFwff/yxKlasqKNHjyo8PDzbcd94zkaNGqVevXppxYoVWrVqlWJjY7VgwQLrJVRJOnv2bLYQCRQ1wg3gYHfffbcCAgK0cOFCrVq1So899pj1j2BwcLDc3d119OhR63/XOalYsaIiIyMVGRmpNm3aaNiwYZo8ebLc3NwkSZmZmQWus2nTplq4cKF8fHxUunRpu7fj5uZWoHqmT58uJycn64TeihUrKjU1Venp6dY/xnm59f3MmTPat2+fZs6caZ2Mu2nTpmy1Sjc/fzVq1JCbm5u+++47BQYGSroWrrZt26YhQ4bk8+hs9x0cHKxff/012+fc9O/fXz179lSVKlVUo0YNm1Gjpk2b6tdff1XNmjVz3O5PP/2kM2fOaMKECQoICJAkm0nBt1K7dm3Vrl1bQ4cOVc+ePTV79mxruLk+itekSZP8Hi5QqLgsBRQDvXr1Unx8vNauXWu9JCVdu1voxRdf1NChQzVnzhwdOHBAO3fu1Ntvv605c+ZIkkaOHKnly5crKSlJv/zyi7788kvVq1dP0rX/8j08PLR69WolJyfr/PnzdtfYu3dvVahQQV26dNG3336rQ4cOacOGDRo0aJB10nFeBAUFaePGjfrzzz91+vTpm/ZNTU3VyZMndezYMW3cuFFPP/20Xn/9dY0bN876x7tFixby9PTUiBEjdODAAc2fPz9Pn0FTtmxZlS9fXjNmzFBSUpLWrVunmJgYmz55OX8lS5bUc889p2HDhmn16tX69ddfNWDAAF28eFH9+vXL83nJSXh4eLbAdb29dOnSev311xUVFWXz3Msvv6zvv/9e0dHR2r17t/bv36/ly5dbJxRXrVpVbm5uevvtt3Xw4EF9/vnnGjt27C1r+fvvvxUdHa0NGzboyJEj+u6777Rt2zbra02StmzZInd3d7Vs2bJAxw0UFOEGKAZ69+6tX3/9VZUrV872mSZjx47Va6+9pri4ONWrV08dO3bUihUrrJdl3NzcNHz4cDVq1Ej33HOPnJ2dtWDBAknX5vS89dZbev/99+Xv768uXbrYXaOnp6c2btyoqlWrqlu3bqpXr5769eunS5cu5WskZ8yYMTp8+LBq1Khxy8sXI0eOVKVKlVSzZk09+eSTOn/+vBITE/Xyyy9b+5QrV07z5s3TypUr1bBhQ33yySc2t9vnxsnJSQsWLNCOHTvUoEEDDR06VJMmTbLpk9fzN2HCBD3yyCN68skn1bRpUyUlJWnNmjUqW7bsrU/ITfTr108rV67MFqqcnJzUt29fZWZmqk+fPjbPNWrUSN98841+//13tWnTRk2aNNHIkSPl7+8v6dpIV0JCghYvXqzg4GBNmDDhlpcwpWtzsM6cOaM+ffqodu3a6t69uzp16qTRo0db+3zyySfq3bu3PD09C3TcQEFZjBsvVgMAio3HHntMTZs21fDhw23a+/Xrp1OnTunzzz93UGW2Tp8+rTp16mj79u3W4A04CiM3AFCMTZo0SaVKlbIunz9/Xps2bdL8+fP1f//3fw6szNbhw4f17rvvEmxQLDByAwB3kHbt2mnr1q165pln9Oabbzq6HKBYItwAAABT4bIUAAAwFcINAAAwFcINAAAwFcINAAAwFcINAAAwFcINAAAwFcINAAAwFcINAAAwFcINAAAwlf8HHF6qhYlEy34AAAAASUVORK5CYII=\n"
          },
          "metadata": {}
        },
        {
          "output_type": "display_data",
          "data": {
            "text/plain": [
              "<Figure size 640x480 with 1 Axes>"
            ],
            "image/png": "iVBORw0KGgoAAAANSUhEUgAAAhYAAAHHCAYAAADjzRHEAAAAOXRFWHRTb2Z0d2FyZQBNYXRwbG90bGliIHZlcnNpb24zLjcuMSwgaHR0cHM6Ly9tYXRwbG90bGliLm9yZy/bCgiHAAAACXBIWXMAAA9hAAAPYQGoP6dpAAAz50lEQVR4nO3deXhU1f3H8c8kZF8JhCUQSESBsImgVmSvaIhCERUQQyUILVUwBSsqWiUBNYi2ihuKbQnKWlBBZUeBiJSWRSzKYgIEKaAIYlaMkJzfH/xyZUhYhpwQI+/X8+Sx9865537vnSnzmXPPnXEZY4wAAAAs8KrqAgAAwC8HwQIAAFhDsAAAANYQLAAAgDUECwAAYA3BAgAAWEOwAAAA1hAsAACANQQLAABgDcECv3gul0spKSlVXYabDRs26Prrr1dQUJBcLpe2bNlS1SXhFy4mJkZJSUlVXQYuAQQLXLD09HS5XC63vzp16qh79+5asmRJVZdXYdu2bVNKSoqys7Ot9nv8+HH169dP3333nZ5//nm99dZbaty4cbltV69eLZfLpfnz51utobIUFhYqJSVFq1evrupSzsvixYs9Cp3dunVzXuteXl4KDQ1Vs2bN9Nvf/lYrVqyovELP07p165SSkqLvv/++qkvBJaxGVReA6m/8+PGKjY2VMUbffPON0tPTdfPNN+v9999Xr169qrq8C7Zt2zalpqaqW7duiomJsdbvrl27tHfvXr3xxhsaNmyYtX5/DgoLC5Wamirp5Jvwz93ixYv1yiuveBQuGjZsqLS0NElSQUGBsrKy9M4772jGjBnq37+/ZsyYIR8fn0qq+OzWrVun1NRUJSUlKTw83O2xnTt3ysuLz5KofAQLVFhCQoKuvvpqZ3no0KGqW7euZs+eXa2DRWU5dOiQJJX5hx/VQ1hYmAYNGuS2buLEiUpOTtarr76qmJgYPfPMM1b2VVBQoKCgICt9+fn5WekHOBfiK6wLDw9XQECAatRwz60FBQX605/+pOjoaPn5+alZs2Z67rnnVPoDu8eOHVPz5s3VvHlzHTt2zNnuu+++U/369XX99deruLhYkpSUlKTg4GDt3r1b8fHxCgoKUlRUlMaPH6/z+cHeTz/9VAkJCQoNDVVwcLBuuOEGrV+/3nk8PT1d/fr1kyR1797dGf4+1xD/Rx99pM6dOysoKEjh4eHq06ePtm/f7jyelJSkrl27SpL69esnl8vl8Sf7lJQUuVwuZWVlOZ9Mw8LCNGTIEBUWFjrtWrVqpe7du5fZvqSkRA0aNNAdd9zhtu6FF15Qy5Yt5e/vr7p162r48OE6evSo27YbN25UfHy8ateurYCAAMXGxuqee+6RJGVnZysyMlKSlJqa6pyz0tGA0ufsq6++Uq9evRQcHKwGDRrolVdekSRt3bpVv/71rxUUFKTGjRtr1qxZZWr//vvvNWrUKOc1dPnll+uZZ55RSUmJ0yY7O1sul0vPPfecpk6dqiZNmsjPz0/XXHONNmzY4LRLSkpy9n3q5bwL4e3trRdffFEtWrTQyy+/rJycHLda0tPTy2xz+tyf0ud127Ztuuuuu1SzZk116tRJkvTf//5XSUlJuuyyy+Tv76969erpnnvu0ZEjR9y2HzNmjCQpNjbWOZ7SS3nlzbHYvXu3+vXrp4iICAUGBuq6667TokWL3NqUXo775z//qaeeekoNGzaUv7+/brjhBmVlZbm1zczM1O2336569erJ399fDRs21J133umcD1waGLFAheXk5Ojw4cMyxujQoUN66aWXlJ+f7/apzhij3/zmN1q1apWGDh2qtm3batmyZRozZoz279+v559/XgEBAZo+fbo6duyoxx57TH/9618lSSNGjFBOTo7S09Pl7e3t9FlcXKyePXvquuuu06RJk7R06VKNGzdOJ06c0Pjx489Y7xdffKHOnTsrNDRUDz30kHx8fPT666+rW7duWrNmjX71q1+pS5cuSk5O1osvvqhHH31UcXFxkuT8tzwrV65UQkKCLrvsMqWkpOjYsWN66aWX1LFjR23evFkxMTEaPny4GjRooKefflrJycm65pprVLdu3Qs67/3791dsbKzS0tK0efNm/e1vf1OdOnWcT8sDBgxQSkqKvv76a9WrV8/Zbu3atTpw4IDuvPNOZ93w4cOVnp6uIUOGKDk5WXv27NHLL7+sTz/9VJ988ol8fHx06NAh3XTTTYqMjNQjjzyi8PBwZWdn65133pEkRUZGasqUKbr33nvVt29f3XbbbZKkNm3aOPspLi5WQkKCunTpokmTJmnmzJkaOXKkgoKC9NhjjykxMVG33XabXnvtNd19993q0KGDYmNjJZ28zNK1a1ft379fw4cPV6NGjbRu3TqNHTtWBw8e1AsvvOB2fmbNmqW8vDwNHz5cLpdLkyZN0m233abdu3fLx8dHw4cP14EDB7RixQq99dZbF/QcnMrb21sDBw7U448/rrVr1+qWW265oH769eunK664Qk8//bQTklesWKHdu3dryJAhqlevnr744gtNnTpVX3zxhdavXy+Xy6XbbrtNX375pWbPnq3nn39etWvXliQn7J3um2++0fXXX6/CwkIlJyerVq1amj59un7zm99o/vz56tu3r1v7iRMnysvLSw8++KBycnI0adIkJSYm6t///rck6ccff1R8fLyKiop0//33q169etq/f78++OADff/99woLC7ug84FqyAAXaNq0aUZSmT8/Pz+Tnp7u1nbBggVGknnyySfd1t9xxx3G5XKZrKwsZ93YsWONl5eXycjIMPPmzTOSzAsvvOC23eDBg40kc//99zvrSkpKzC233GJ8fX3Nt99+66yXZMaNG+cs33rrrcbX19fs2rXLWXfgwAETEhJiunTp4qwr3feqVavO63y0bdvW1KlTxxw5csRZ99lnnxkvLy9z9913O+tWrVplJJl58+ads8/y2o4bN85IMvfcc49b2759+5patWo5yzt37jSSzEsvveTW7r777jPBwcGmsLDQGGPMxx9/bCSZmTNnurVbunSp2/p3333XSDIbNmw4Y73ffvttmfNdqvQ5e/rpp511R48eNQEBAcblcpk5c+Y463fs2FGmnwkTJpigoCDz5ZdfuvX7yCOPGG9vb/PVV18ZY4zZs2ePkWRq1aplvvvuO6fdwoULjSTz/vvvO+tGjBhhPPlnsGvXrqZly5ZnfLz0HE2ePNmtlmnTppVpe/rxlT6vAwcOLNO29Lk61ezZs40kk5GR4ax79tlnjSSzZ8+eMu0bN25sBg8e7CyPGjXKSDIff/yxsy4vL8/ExsaamJgYU1xcbIz56TUYFxdnioqKnLaTJ082kszWrVuNMcZ8+umn5/26xi8bl0JQYa+88opWrFihFStWaMaMGerevbuGDRvmfJKVTk6S8/b2VnJystu2f/rTn2SMcbuLJCUlRS1bttTgwYN13333qWvXrmW2KzVy5Ejnf7tcLo0cOVI//vijVq5cWW774uJiLV++XLfeeqsuu+wyZ339+vV11113ae3atcrNzfX4HBw8eFBbtmxRUlKSIiIinPVt2rTRjTfeqMWLF3vc57n84Q9/cFvu3Lmzjhw54tTftGlTtW3bVnPnznXaFBcXa/78+erdu7cCAgIkSfPmzVNYWJhuvPFGHT582Plr3769goODtWrVKkk/zQn54IMPdPz48Quu+9QJq+Hh4WrWrJmCgoLUv39/Z32zZs0UHh6u3bt3O+vmzZunzp07q2bNmm519ujRQ8XFxcrIyHDbz4ABA1SzZk238yPJrU/bgoODJUl5eXkX3Mfpz6sk57mSpB9++EGHDx/WddddJ0navHnzBe1n8eLFuvbaa53LLdLJ+n//+98rOztb27Ztc2s/ZMgQ+fr6Osunn8/SEYlly5a5XZLDpYdggQq79tpr1aNHD/Xo0UOJiYlatGiRWrRo4bzJS9LevXsVFRWlkJAQt21LLy3s3bvXWefr66t//OMf2rNnj/Ly8jRt2rRyr317eXm5hQPp5JuppDPeIvrtt9+qsLBQzZo1K/NYXFycSkpKtG/fvvM/+P9XWv+Z+j18+LAKCgo87vdsGjVq5LZc+iZ66ryIAQMG6JNPPtH+/fslnbxefujQIQ0YMMBpk5mZqZycHNWpU0eRkZFuf/n5+c5k065du+r2229XamqqateurT59+mjatGkqKio675r9/f3LDM2HhYWpYcOGZZ7jsLAwt2PJzMzU0qVLy9TYo0cPST9NivXk/NiWn58vSWVe554ovfRzqu+++05//OMfVbduXQUEBCgyMtJpd6HzF/bu3XvG12vp46c61/mMjY3VAw88oL/97W+qXbu24uPj9corrzC/4hLEHAtY5+Xlpe7du2vy5MnKzMxUy5YtPe5j2bJlkk5+OsvMzCz3H9tL3anzTU5lTpm8OmDAAI0dO1bz5s3TqFGj9M9//lNhYWHq2bOn06akpER16tTRzJkzy+2vNAiUfp/G+vXr9f7772vZsmW655579Je//EXr1693Pq1fSM3ncywlJSW68cYb9dBDD5XbtjRUetKnbZ9//rkk6fLLL5ekM04GLZ2EXJ5TRydK9e/fX+vWrdOYMWPUtm1bBQcHq6SkRD179nSbuFqZzud8/uUvf1FSUpIWLlyo5cuXKzk5WWlpaVq/fr0aNmx4UepE1SNYoFKcOHFC0k+f4Bo3bqyVK1cqLy/P7dPcjh07nMdL/fe//9X48eM1ZMgQbdmyRcOGDdPWrVvLTP4qKSnR7t273d5QvvzyS0k64/dOREZGKjAwUDt37izz2I4dO+Tl5aXo6GhJZ35TKE9p/Wfqt3bt2tZuG/REbGysrr32Ws2dO1cjR47UO++8o1tvvdXt1sMmTZpo5cqV6tixY7lvaqe77rrrdN111+mpp57SrFmzlJiYqDlz5mjYsGEXfFfF+WjSpIny8/OdEQobbNZbXFysWbNmKTAw0Lm8UPqp/vQvrDp9NOBsjh49qg8//FCpqal64oknnPWZmZll2nr6mj3T67X08QvRunVrtW7dWn/+85+1bt06dezYUa+99pqefPLJC+oP1Q+XQmDd8ePHtXz5cvn6+jrDqjfffLOKi4v18ssvu7V9/vnn5XK5lJCQ4GyblJSkqKgoTZ48Wenp6frmm280evTocvd1an/GGL388svy8fHRDTfcUG57b29v3XTTTVq4cKHb5ZJvvvlGs2bNUqdOnRQaGipJThA4n28xrF+/vtq2bavp06e7tf/888+1fPly3Xzzzefso7IMGDBA69ev1z/+8Q8dPnzY7TKIdPLTcHFxsSZMmFBm2xMnTjjHc/To0TKf9tu2bStJzuWQwMBASed3zjzVv39//etf/3JGs071/fffO2HWE548x2dTXFys5ORkbd++XcnJyc5rKDQ0VLVr1y4z/+PVV189775LRwpOP/en3wUjeXY8N998s/7zn//oX//6l7OuoKBAU6dOVUxMjFq0aHHeNUpSbm5umeegdevW8vLy8uhyGao/RixQYUuWLHE+5Rw6dEizZs1SZmamHnnkEecf2N69e6t79+567LHHlJ2drSuvvFLLly/XwoULNWrUKDVp0kSS9OSTT2rLli368MMPFRISojZt2uiJJ57Qn//8Z91xxx1ub9D+/v5aunSpBg8erF/96ldasmSJFi1apEcfffSMt9iV7mPFihXq1KmT7rvvPtWoUUOvv/66ioqKNGnSJKdd27Zt5e3trWeeeUY5OTny8/PTr3/9a9WpU6fcfp999lklJCSoQ4cOGjp0qHO7aVhYWJX+Vkn//v314IMP6sEHH1RERESZT/xdu3bV8OHDlZaWpi1btuimm26Sj4+PMjMzNW/ePE2ePFl33HGHpk+frldffVV9+/ZVkyZNlJeXpzfeeEOhoaHO8xIQEKAWLVpo7ty5atq0qSIiItSqVSu1atWqwscxZswYvffee+rVq5eSkpLUvn17FRQUaOvWrZo/f76ys7OdWyzPV/v27SVJycnJio+Pl7e3t9ttuOXJycnRjBkzJJ28Bbb0mzd37dqlO++8s0xAGzZsmCZOnKhhw4bp6quvVkZGhjOydj5CQ0Od23OPHz+uBg0aaPny5dqzZ88Zj+exxx7TnXfeKR8fH/Xu3bvc0bJHHnlEs2fPVkJCgpKTkxUREaHp06drz549evvttz3+ls6PPvpII0eOVL9+/dS0aVOdOHFCb731lry9vXX77bd71Bequaq7IQXVXXm3m/r7+5u2bduaKVOmmJKSErf2eXl5ZvTo0SYqKsr4+PiYK664wjz77LNOu02bNpkaNWq43UJqjDEnTpww11xzjYmKijJHjx41xpy8dTEoKMjs2rXL3HTTTSYwMNDUrVvXjBs3zrlNrpTKuf1x8+bNJj4+3gQHB5vAwEDTvXt3s27dujLH+MYbb5jLLrvMeHt7n9etpytXrjQdO3Y0AQEBJjQ01PTu3dts27bNrY2t201PvaXWmJ+ej/JuNezYsaORZIYNG3bGfU2dOtW0b9/eBAQEmJCQENO6dWvz0EMPmQMHDhhjTp6zgQMHmkaNGhk/Pz9Tp04d06tXL7Nx40a3ftatW2fat29vfH193c596XN2ujPdwtm4cWNzyy23uK3Ly8szY8eONZdffrnx9fU1tWvXNtdff7157rnnzI8//miM+ekWz2effbZMn6e/Fk6cOGHuv/9+ExkZaVwu1zlvPe3atavb6z04ONhcccUVZtCgQWb58uXlblNYWGiGDh1qwsLCTEhIiOnfv785dOjQGW83Pf15NcaY//3vf6Zv374mPDzchIWFmX79+pkDBw6U+9qeMGGCadCggfHy8nJ7PZx+u6kxxuzatcvccccdJjw83Pj7+5trr73WfPDBB25tzvR6Pf1W2t27d5t77rnHNGnSxPj7+5uIiAjTvXt3s3LlyrOeU/zyuIypxJlMQCVJSkrS/PnznTkcAICfB+ZYAAAAawgWAADAGoIFAACwhjkWAADAGkYsAACANQQLAABgzUX/gqySkhIdOHBAISEhlfr1vwAAwB5jjPLy8hQVFXXWL1C76MHiwIEDzm8xAACA6mXfvn1n/VG5ix4sSn+Aat++fc7XPQMAgJ+33NxcRUdHu/2QZHkuerAovfwRGhpKsAAAoJo51zQGJm8CAABrCBYAAMAaggUAALCGYAEAAKwhWAAAAGsIFgAAwBqCBQAAsIZgAQAArCFYAAAAawgWAADAGo+Dxf79+zVo0CDVqlVLAQEBat26tTZu3FgZtQEAgGrGo98KOXr0qDp27Kju3btryZIlioyMVGZmpmrWrFlZ9QEAgGrEo2DxzDPPKDo6WtOmTXPWxcbGWi8KAABUTx4Fi/fee0/x8fHq16+f1qxZowYNGui+++7T7373uzNuU1RUpKKiImc5Nzf3wqsFYF1hYaF27Nhhpa9jx44pOztbMTExCggIqHB/zZs3V2BgoIXKAFwsHgWL3bt3a8qUKXrggQf06KOPasOGDUpOTpavr68GDx5c7jZpaWlKTU21UiwA+3bs2KH27dtXdRnl2rRpk9q1a1fVZQDwgMsYY863sa+vr66++mqtW7fOWZecnKwNGzboX//6V7nblDdiER0drZycHIWGhlagdAA22Byx2L59uwYNGqQZM2YoLi6uwv0xYgH8fOTm5iosLOyc798ejVjUr19fLVq0cFsXFxent99++4zb+Pn5yc/Pz5PdALiIAgMDrY8KxMXFMdIAXKI8ut20Y8eO2rlzp9u6L7/8Uo0bN7ZaFAAAqJ48ChajR4/W+vXr9fTTTysrK0uzZs3S1KlTNWLEiMqqDwAAVCMeBYtrrrlG7777rmbPnq1WrVppwoQJeuGFF5SYmFhZ9QEAgGrEozkWktSrVy/16tWrMmoBAADVHL8VAgAArCFYAAAAawgWAADAGoIFAACwhmABAACsIVgAAABrCBYAAMAaggUAALCGYAEAAKwhWAAAAGsIFgAAwBqCBQAAsIZgAQAArCFYAAAAawgWAADAGoIFAACwhmABAACsIVgAAABrCBYAAMAaggUAALCGYAEAAKwhWAAAAGsIFgAAwBqCBQAAsIZgAQAArCFYAAAAawgWAADAGoIFAACwhmABAACsIVgAAABrCBYAAMAaggUAALCGYAEAAKwhWAAAAGsIFgAAwBqCBQAAsIZgAQAArCFYAAAAawgWAADAGoIFAACwhmABAACsIVgAAABrCBYAAMAaggUAALCGYAEAAKwhWAAAAGsIFgAAwBqCBQAAsIZgAQAArCFYAAAAawgWAADAGoIFAACwhmABAACsIVgAAABrCBYAAMAaggUAALDGo2CRkpIil8vl9te8efPKqg0AAFQzNTzdoGXLllq5cuVPHdTwuAsAAPAL5XEqqFGjhurVq1cZtQAAgGrO42CRmZmpqKgo+fv7q0OHDkpLS1OjRo3O2L6oqEhFRUXOcm5u7oVVCsBNZmam8vLyqroMN9u3b3f7789FSEiIrrjiiqouA7gkuIwx5nwbL1myRPn5+WrWrJkOHjyo1NRU7d+/X59//rlCQkLK3SYlJUWpqall1ufk5Cg0NPTCKwcuYZmZmWratGlVl1GtfPnll4QLoAJyc3MVFhZ2zvdvj4LF6b7//ns1btxYf/3rXzV06NBy25Q3YhEdHU2wACpg8+bNat++vWbMmKG4uLiqLsdx7NgxZWdnKyYmRgEBAVVdjqSToyeDBg3Spk2b1K5du6ouB6i2zjdYVGjmZXh4uJo2baqsrKwztvHz85Ofn19FdgPgDOLi4n52b5YdO3as6hIAVKEKfY9Ffn6+du3apfr169uqBwAAVGMeBYsHH3xQa9asUXZ2ttatW6e+ffvK29tbAwcOrKz6AABANeLRpZD//e9/GjhwoI4cOaLIyEh16tRJ69evV2RkZGXVBwAAqhGPgsWcOXMqqw4AAPALwG+FAAAAawgWAADAGoIFAACwhmABAACsIVgAAABrCBYAAMAaggUAALCGYAEAAKwhWAAAAGsIFgAAwBqCBQAAsIZgAQAArCFYAAAAawgWAADAGoIFAACwhmABAACsIVgAAABrCBYAAMAaggUAALCGYAEAAKwhWAAAAGsIFgAAwBqCBQAAsIZgAQAArCFYAAAAawgWAADAGoIFAACwhmABAACsIVgAAABrCBYAAMAaggUAALCGYAEAAKwhWAAAAGsIFgAAwBqCBQAAsIZgAQAArCFYAAAAawgWAADAGoIFAACwhmABAACsIVgAAABrCBYAAMAaggUAALCGYAEAAKwhWAAAAGsIFgAAwBqCBQAAsIZgAQAArCFYAAAAawgWAADAGoIFAACwhmABAACsIVgAAABrCBYAAMAaggUAALCGYAEAAKypULCYOHGiXC6XRo0aZakcAABQnV1wsNiwYYNef/11tWnTxmY9AACgGrugYJGfn6/ExES98cYbqlmzpu2aAABANXVBwWLEiBG65ZZb1KNHj3O2LSoqUm5urtsfAAD4Zarh6QZz5szR5s2btWHDhvNqn5aWptTUVI8LAwAA1Y9HIxb79u3TH//4R82cOVP+/v7ntc3YsWOVk5Pj/O3bt++CCgUAAD9/Ho1YbNq0SYcOHVK7du2cdcXFxcrIyNDLL7+soqIieXt7u23j5+cnPz8/O9UCAICfNY+CxQ033KCtW7e6rRsyZIiaN2+uhx9+uEyoAAAAlxaPgkVISIhatWrlti4oKEi1atUqsx4AAFx6+OZNAABgjcd3hZxu9erVFsoAAAC/BIxYAAAAawgWAADAGoIFAACwhmABAACsIVgAAABrCBYAAMAaggUAALCGYAEAAKwhWAAAAGsIFgAAwBqCBQAAsIZgAQAArCFYAAAAawgWAADAGoIFAACwhmABAACsIVgAAABrCBYAAMAaggUAALCGYAEAAKwhWAAAAGsIFgAAwBqCBQAAsIZgAQAArCFYAAAAawgWAADAGoIFAACwhmABAACsIVgAAABrCBYAAMAaggUAALCGYAEAAKwhWAAAAGsIFgAAwBqCBQAAsIZgAQAArCFYAAAAawgWAADAGoIFAACwhmABAACsIVgAAABrCBYAAMAaggUAALCGYAEAAKwhWAAAAGsIFgAAwBqCBQAAsIZgAQAArCFYAAAAawgWAADAGoIFAACwhmABAACsIVgAAABrCBYAAMAaggUAALCGYAEAAKzxKFhMmTJFbdq0UWhoqEJDQ9WhQwctWbKksmoDAADVjEfBomHDhpo4caI2bdqkjRs36te//rX69OmjL774orLqAwAA1UgNTxr37t3bbfmpp57SlClTtH79erVs2dJqYQAAoPrxKFicqri4WPPmzVNBQYE6dOhgsyYAAFBNeRwstm7dqg4dOuiHH35QcHCw3n33XbVo0eKM7YuKilRUVOQs5+bmXlilAByuEz/oqnpeCvj+S+kAc7DPJuD7L3VVPS+5TvxQ1aUAlwSPg0WzZs20ZcsW5eTkaP78+Ro8eLDWrFlzxnCRlpam1NTUChcK4Cf++V9p8/BgKWO4lFHV1fy8xUnaPDxY2/O/knR9VZcD/OK5jDGmIh306NFDTZo00euvv17u4+WNWERHRysnJ0ehoaEV2TVwyfr0P+s0tE9nzZw5U3HNm1d1OT9r23fsUGJiov6+8GNddS3BArhQubm5CgsLO+f79wXPsShVUlLiFhxO5+fnJz8/v4ruBsApTA1/ffp1iY6FN5Wi2lZ1OT9rx74u0adfl8jU8K/qUoBLgkfBYuzYsUpISFCjRo2Ul5enWbNmafXq1Vq2bFll1QcAAKoRj4LFoUOHdPfdd+vgwYMKCwtTmzZttGzZMt14442VVR8AAKhGPAoWf//73yurDgAA8AvAfWoAAMAaggUAALCGYAEAAKwhWAAAAGsIFgAAwBqCBQAAsIZgAQAArCFYAAAAawgWAADAGoIFAACwhmABAACsIVgAAABrCBYAAMAaggUAALCGYAEAAKwhWAAAAGsIFgAAwBqCBQAAsIZgAQAArCFYAAAAawgWAADAGoIFAACwhmABAACsIVgAAABrCBYAAMAaggUAALCGYAEAAKwhWAAAAGsIFgAAwBqCBQAAsIZgAQAArCFYAAAAawgWAADAGoIFAACwhmABAACsIVgAAABrCBYAAMAaggUAALCGYAEAAKwhWAAAAGsIFgAAwBqCBQAAsIZgAQAArCFYAAAAawgWAADAGoIFAACwhmABAACsIVgAAABrCBYAAMAaggUAALCGYAEAAKwhWAAAAGsIFgAAwBqCBQAAsIZgAQAArCFYAAAAazwKFmlpabrmmmsUEhKiOnXq6NZbb9XOnTsrqzYAAFDNeBQs1qxZoxEjRmj9+vVasWKFjh8/rptuukkFBQWVVR8AAKhGanjSeOnSpW7L6enpqlOnjjZt2qQuXbpYLQwAAFQ/FZpjkZOTI0mKiIiwUgwAAKjePBqxOFVJSYlGjRqljh07qlWrVmdsV1RUpKKiImc5Nzf3QncJ4P8VFhZKkjZv3lzFlbg7duyYsrOzFRMTo4CAgKouR5K0ffv2qi4BuKRccLAYMWKEPv/8c61du/as7dLS0pSamnqhuwFQjh07dkiSfve731VxJdVHSEhIVZcAXBJcxhjj6UYjR47UwoULlZGRodjY2LO2LW/EIjo6Wjk5OQoNDfW8YgA6fPiwFixYoObNmyswMLCqy3Fs375dgwYN0owZMxQXF1fV5ThCQkJ0xRVXVHUZQLWWm5ursLCwc75/ezRiYYzR/fffr3fffVerV68+Z6iQJD8/P/n5+XmyGwDnULt2bQ0bNqyqyzijuLg4tWvXrqrLAFAFPAoWI0aM0KxZs7Rw4UKFhITo66+/liSFhYX9bK6nAgCAquPRXSFTpkxRTk6OunXrpvr16zt/c+fOraz6AABANeLxpRAAAIAz4bdCAACANQQLAABgDcECAABYQ7AAAADWECwAAIA1BAsAAGANwQIAAFhDsAAAANYQLAAAgDUECwAAYA3BAgAAWEOwAAAA1hAsAACANQQLAABgDcECAABYQ7AAAADWECwAAIA1BAsAAGANwQIAAFhDsAAAANYQLAAAgDUECwAAYA3BAgAAWEOwAAAA1hAsAACANQQLAABgDcECAABYQ7AAAADWECwAAIA1BAsAAGANwQIAAFhDsAAAANYQLAAAgDUECwAAYA3BAgAAWEOwAAAA1hAsAACANQQLAABgDcECAABYQ7AAAADWECwAAIA1BAsAAGANwQIAAFhDsAAAANYQLAAAgDUECwAAYA3BAgAAWEOwAAAA1hAsAACANQQLAABgDcECAABYQ7AAAADWECwAAIA1BAsAAGANwQIAAFhDsAAAANYQLAAAgDUeB4uMjAz17t1bUVFRcrlcWrBgQSWUBQAAqiOPg0VBQYGuvPJKvfLKK5VRDwAAqMZqeLpBQkKCEhISKqMWAABQzXkcLDxVVFSkoqIiZzk3N7eydwnAA4WFhdqxY4eVvrZv3+7234pq3ry5AgMDrfQF4OKo9GCRlpam1NTUyt4NgAu0Y8cOtW/f3mqfgwYNstLPpk2b1K5dOyt9Abg4XMYYc8Ebu1x69913deutt56xTXkjFtHR0crJyVFoaOiF7hqAJTZHLI4dO6bs7GzFxMQoICCgwv0xYgH8fOTm5iosLOyc79+VPmLh5+cnPz+/yt4NgAsUGBhodVSgY8eO1voCUP3wPRYAAMAaj0cs8vPzlZWV5Szv2bNHW7ZsUUREhBo1amS1OAAAUL14HCw2btyo7t27O8sPPPCAJGnw4MFKT0+3VhgAAKh+PA4W3bp1UwXmewIAgF8w5lgAAABrCBYAAMAaggUAALCGYAEAAKwhWAAAAGsIFgAAwBqCBQAAsIZgAQAArCFYAAAAayr9101PV/qtnbm5uRd71wAA4AKVvm+f69u3L3qwyMvLkyRFR0df7F0DAIAKysvLU1hY2Bkfd5mL/MMfJSUlOnDggEJCQuRyuS7mrgFUstzcXEVHR2vfvn0KDQ2t6nIAWGSMUV5enqKiouTldeaZFBc9WAD45crNzVVYWJhycnIIFsAlismbAADAGoIFAACwhmABwBo/Pz+NGzdOfn5+VV0KgCrCHAsAAGANIxYAAMAaggUAALCGYAEAAKwhWAAAAGsIFgAqLCMjQ71791ZUVJRcLpcWLFhQ1SUBqCIECwAVVlBQoCuvvFKvvPJKVZcCoIpd9B8hA/DLk5CQoISEhKouA8DPACMWAADAGoIFAACwhmABAACsIVgAAABrCBYAAMAa7goBUGH5+fnKyspylvfs2aMtW7YoIiJCjRo1qsLKAFxs/LopgApbvXq1unfvXmb94MGDlZ6efvELAlBlCBYAAMAa5lgAAABrCBYAAMAaggUAALCGYAEAAKwhWAAAAGsIFgAAwBqCBQAAsIZgAaBaSUpK0q233npR9vX3v/9dN91000XZV0UsXbpUbdu2VUlJSVWXAhAs8MtxMd9wzkd2drZcLpe2bNlS1aU4YmJi9MILL5xXO5fLJZfLpYCAAMXExKh///766KOPKr/I/3em8zd58uSL8m2eP/zwgx5//HGNGzeu0vdVUT179pSPj49mzpxZ1aUABAsA5Rs/frwOHjyonTt36s0331R4eLh69Oihp556qkL9/vjjjxXaPiwsTOHh4RXq43zMnz9foaGh6tixY6Xv62yMMTpx4sQ52yUlJenFF1+8CBUBZ0ewwC9Wt27dlJycrIceekgRERGqV6+eUlJSnMfvuusuDRgwwG2b48ePq3bt2nrzzTclSSUlJUpLS1NsbKwCAgJ05ZVXav78+U77o0ePKjExUZGRkQoICNAVV1yhadOmSZJiY2MlSVdddZVcLpe6desm6aeRlaefflp169ZVeHi4xo8frxMnTmjMmDGKiIhQw4YNnX5K7du3T/3791d4eLgiIiLUp08fZWdnO4+X9vvcc8+pfv36qlWrlkaMGKHjx48752Pv3r0aPXq0MxpxNiEhIapXr54aNWqkLl26aOrUqXr88cf1xBNPaOfOnZKk9PT0Mm/yCxYscOs7JSVFbdu21d/+9jfFxsbK399f0snh+06dOik8PFy1atVSr169tGvXLme7c52/UkVFRUpOTladOnXk7++vTp06acOGDc7jq1evlsvl0ocffqirr75agYGBuv76651jOJM5c+aod+/eznJGRoZ8fHz09ddfu7UbNWqUOnfu7CyvXbtWnTt3VkBAgKKjo5WcnKyCggLn8bfeektXX321c37vuusuHTp0qEy9S5YsUfv27eXn56e1a9fqs88+U/fu3RUSEqLQ0FC1b99eGzdudLbr3bu3Nm7c6HYOgapAsMAv2vTp0xUUFKR///vfmjRpksaPH68VK1ZIkhITE/X+++8rPz/fab9s2TIVFhaqb9++kqS0tDS9+eabeu211/TFF19o9OjRGjRokNasWSNJevzxx7Vt2zYtWbJE27dv15QpU1S7dm1J0n/+8x9J0sqVK3Xw4EG98847zn4++ugjHThwQBkZGfrrX/+qcePGqVevXqpZs6b+/e9/6w9/+IOGDx+u//3vf5JOBp74+HiFhITo448/1ieffKLg4GD17NnTbQRg1apV2rVrl1atWqXp06crPT3duWzwzjvvqGHDhs5IxMGDBz0+n3/84x9ljNHChQs92i4rK0tvv/223nnnHefSRkFBgR544AFt3LhRH374oby8vNS3b19nnsDZzt+pHnroIb399tuaPn26Nm/erMsvv1zx8fH67rvv3No99thj+stf/qKNGzeqRo0auueee85a89q1a3X11Vc7y126dNFll12mt956y1l3/PhxzZw50+lr165d6tmzp26//Xb997//1dy5c7V27VqNHDnSbZsJEybos88+04IFC5Sdna2kpKQy+3/kkUc0ceJEbd++XW3atFFiYqIaNmyoDRs2aNOmTXrkkUfk4+PjtG/UqJHq1q2rjz/++KzHBVQ6A/xCDB482PTp08dZ7tq1q+nUqZNbm2uuucY8/PDDxhhjjh8/bmrXrm3efPNN5/GBAweaAQMGGGOM+eGHH0xgYKBZt26dWx9Dhw41AwcONMYY07t3bzNkyJBy69mzZ4+RZD799NMydTZu3NgUFxc765o1a2Y6d+7sLJ84ccIEBQWZ2bNnG2OMeeutt0yzZs1MSUmJ06aoqMgEBASYZcuWufV74sQJp02/fv2c4zHGmMaNG5vnn3++3HpPdbZ2devWNffee68xxphp06aZsLAwt8ffffddc+o/LePGjTM+Pj7m0KFDZ93nt99+aySZrVu3GmPOfv5Kn+f8/Hzj4+NjZs6c6Tz+448/mqioKDNp0iRjjDGrVq0ykszKlSudNosWLTKSzLFjx8qt5ejRo0aSycjIcFv/zDPPmLi4OGf57bffNsHBwSY/P98Yc/K18fvf/95tm48//th4eXmdcV8bNmwwkkxeXp5bvQsWLHBrFxISYtLT08vto9RVV11lUlJSztoGqGyMWOAXrU2bNm7L9evXd4ada9Soof79+zsT3goKCrRw4UIlJiZKOvkpu7CwUDfeeKOCg4OdvzfffNMZbr733ns1Z84ctW3bVg899JDWrVt3XnW1bNlSXl4//d+vbt26at26tbPs7e2tWrVqObV+9tlnysrKUkhIiFNHRESEfvjhB7eh75YtW8rb27vc47XFGHPOyyina9y4sSIjI93WZWZmauDAgbrssssUGhqqmJgYSdJXX3113v3u2rVLx48fd5sH4ePjo2uvvVbbt293a3vqa6F+/fqSdMZzc+zYMUlyLtuUSkpKUlZWltavXy/p5KWg/v37KygoSNLJ5yk9Pd3t9RIfH6+SkhLt2bNHkrRp0yb17t1bjRo1UkhIiLp27VrucZ86WiJJDzzwgIYNG6YePXpo4sSJ5V7yCAgIUGFhYbnHBFwsNaq6AKAynTpULEkul8vtlrzExER17dpVhw4d0ooVKxQQEKCePXtKknOJZNGiRWrQoIFbP35+fpKkhIQE7d27V4sXL9aKFSt0ww03aMSIEXruuec8rutstebn56t9+/blzvo/9Q37XMdbUUeOHNG3337rzH/w8vKSMcatTemcjlOVvvGeqnfv3mrcuLHeeOMNRUVFqaSkRK1atarw5M4zOfXclAajM52bWrVqyeVy6ejRo27r69Spo969e2vatGmKjY3VkiVLtHr1aufx/Px8DR8+XMnJyWX6bNSokQoKChQfH6/4+HjNnDlTkZGR+uqrrxQfH1/muE8/ZykpKbrrrru0aNEiLVmyROPGjdOcOXOcy3aS9N1335UJcMDFRrDAJe36669XdHS05s6dqyVLlqhfv37OG1CLFi3k5+enr776yvlUWZ7IyEgNHjxYgwcPVufOnTVmzBg999xz8vX1lSQVFxdXuM527dpp7ty5qlOnjkJDQy+4H19f3wrVM3nyZHl5eTmTJyMjI5WXl6eCggLnjfB8bq89cuSIdu7cqTfeeMOZ+Lh27doytUpnP39NmjSRr6+vPvnkEzVu3FjSyWCzYcMGjRo1ysOjc993ixYttG3btjLfYzFs2DANHDhQDRs2VJMmTdxGS9q1a6dt27bp8ssvL7ffrVu36siRI5o4caKio6MlyW0C5rk0bdpUTZs21ejRozVw4EBNmzbNCRalo1dXXXWVp4cLWMWlEFzy7rrrLr322mtasWKFcxlEOnlXxIMPPqjRo0dr+vTp2rVrlzZv3qyXXnpJ06dPlyQ98cQTWrhwobKysvTFF1/ogw8+UFxcnKSTn24DAgK0dOlSffPNN8rJybngGhMTE1W7dm316dNHH3/8sfbs2aPVq1crOTnZmeB5PmJiYpSRkaH9+/fr8OHDZ22bl5enr7/+Wvv27VNGRoZ+//vf68knn9RTTz3lvHH+6le/UmBgoB599FHt2rVLs2bNOq/vmKhZs6Zq1aqlqVOnKisrSx999JEeeOABtzbnc/6CgoJ07733asyYMVq6dKm2bdum3/3udyosLNTQoUPP+7yUJz4+vkzYKV0fGhqqJ598UkOGDHF77OGHH9a6des0cuRIbdmyRZmZmVq4cKEzebNRo0by9fXVSy+9pN27d+u9997ThAkTzlnLsWPHNHLkSK1evVp79+7VJ598og0bNjivNUlav369/Pz81KFDhwodN1BRBAtc8hITE7Vt2zY1aNCgzHcWTJgwQY8//rjS0tIUFxennj17atGiRc6lAF9fX40dO1Zt2rRRly5d5O3trTlz5kg6OYfjxRdf1Ouvv66oqCj16dPngmsMDAxURkaGGjVqpNtuu01xcXEaOnSofvjhB49GMMaPH6/s7Gw1adLknEPmTzzxhOrXr6/LL79cv/3tb5WTk6MPP/xQDz/8sNMmIiJCM2bM0OLFi9W6dWvNnj3b7ZbeM/Hy8tKcOXO0adMmtWrVSqNHj9azzz7r1uZ8z9/EiRN1++2367e//a3atWunrKwsLVu2TDVr1jz3CTmLoUOHavHixWUCjZeXl5KSklRcXKy7777b7bE2bdpozZo1+vLLL9W5c2ddddVVeuKJJxQVFSXp5AhPenq65s2bpxYtWmjixInnvGwmnZxzc+TIEd19991q2rSp+vfvr4SEBKWmpjptZs+ercTERAUGBlbouIGKcpnTL5ACACRJ/fr1U7t27TR27Fi39UOHDtW3336r9957r4oqc3f48GE1a9ZMGzdudEIvUFUYsQCAM3j22WcVHBzsLOfk5Gjt2rWaNWuW7r///iqszF12drZeffVVQgV+FhixAIDz1K1bN/3nP//R8OHD9fzzz1d1OcDPEsECAABYw6UQAABgDcECAABYQ7AAAADWECwAAIA1BAsAAGANwQIAAFhDsAAAANYQLAAAgDUECwAAYM3/Abtujkxbm+3fAAAAAElFTkSuQmCC\n"
          },
          "metadata": {}
        }
      ]
    },
    {
      "cell_type": "markdown",
      "source": [
        "# Level 4: Expert (Task 9: Expect from Investments)"
      ],
      "metadata": {
        "id": "d_LmQ110MlSU"
      }
    },
    {
      "source": [
        "print(df[\"Expect\"].describe())\n",
        "# Print the unique values in the \"Expectations\" column\n",
        "print(\"\\nUnique values:\")\n",
        "print(df[\"Expect\"].unique())\n",
        "\n",
        "# Count the number of occurrences for each unique value\n",
        "print(\"\\nCount of occurrences:\")\n",
        "print(df[\"Expect\"].value_counts())\n",
        "\n",
        "# Calculate the percentage of occurrences for each unique value\n",
        "print(\"\\nPercentage of occurrences:\")\n",
        "print(df[\"Expect\"].value_counts(normalize=True) * 100)\n",
        "\n",
        "# Visualize the distribution of values using a bar chart\n",
        "print(\"\\nDistribution of values:\")\n",
        "df[\"Expect\"].value_counts().plot(kind=\"bar\")\n",
        "plt.xlabel(\"Expect\")\n",
        "plt.ylabel(\"Count\")\n",
        "plt.title(\"Distribution of Participant Expectations\")\n",
        "plt.show()"
      ],
      "cell_type": "code",
      "metadata": {
        "colab": {
          "base_uri": "https://localhost:8080/",
          "height": 941
        },
        "id": "Mppo-yBkedlq",
        "outputId": "8f6e22af-9dce-4e36-954f-9f1435db1a17"
      },
      "execution_count": null,
      "outputs": [
        {
          "output_type": "stream",
          "name": "stdout",
          "text": [
            "count          40\n",
            "unique          3\n",
            "top       20%-30%\n",
            "freq           32\n",
            "Name: Expect, dtype: object\n",
            "\n",
            "Unique values:\n",
            "['20%-30%' '10%-20%' '30%-40%']\n",
            "\n",
            "Count of occurrences:\n",
            "Expect\n",
            "20%-30%    32\n",
            "30%-40%     5\n",
            "10%-20%     3\n",
            "Name: count, dtype: int64\n",
            "\n",
            "Percentage of occurrences:\n",
            "Expect\n",
            "20%-30%    80.0\n",
            "30%-40%    12.5\n",
            "10%-20%     7.5\n",
            "Name: proportion, dtype: float64\n",
            "\n",
            "Distribution of values:\n"
          ]
        },
        {
          "output_type": "display_data",
          "data": {
            "text/plain": [
              "<Figure size 640x480 with 1 Axes>"
            ],
            "image/png": "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\n"
          },
          "metadata": {}
        }
      ]
    },
    {
      "source": [
        "expectations = [\n",
        "    \"Clear Communication\",\n",
        "    \"Engaging and Interactive Sessions\",\n",
        "    \"Relevant and Up-to-Date Content\",\n",
        "    \"Networking Opportunities\",\n",
        "    \"Professional and Inclusive Environment\",\n",
        "    \"High-Quality Speakers and Presenters\",\n",
        "    \"Well-Organized and Efficient Event Management\",\n",
        "    \"Value for Money\",\n",
        "    \"Opportunities for Personal and Professional Growth\",\n",
        "    \"Positive and Memorable Experience\",\n",
        "]\n",
        "\n",
        "# Print the list of expectations\n",
        "print(\"Common Expectations Mentioned by Participants:\")\n",
        "for expectation in expectations:\n",
        "    print(f\"- {expectation}\")"
      ],
      "cell_type": "code",
      "metadata": {
        "colab": {
          "base_uri": "https://localhost:8080/"
        },
        "id": "KUIC-irodYO4",
        "outputId": "b943f318-0eb0-410c-d062-36709c0ecbe2"
      },
      "execution_count": null,
      "outputs": [
        {
          "output_type": "stream",
          "name": "stdout",
          "text": [
            "Common Expectations Mentioned by Participants:\n",
            "- Clear Communication\n",
            "- Engaging and Interactive Sessions\n",
            "- Relevant and Up-to-Date Content\n",
            "- Networking Opportunities\n",
            "- Professional and Inclusive Environment\n",
            "- High-Quality Speakers and Presenters\n",
            "- Well-Organized and Efficient Event Management\n",
            "- Value for Money\n",
            "- Opportunities for Personal and Professional Growth\n",
            "- Positive and Memorable Experience\n"
          ]
        }
      ]
    },
    {
      "source": [
        "\n",
        "input_array = np.array([1, 2, 3, 4, 5, 6, 7, 8, 9, 10]) #input array\n",
        "mean = np.mean(input_array)\n",
        "standard_deviation = np.std(input_array)\n",
        "z_scores = (input_array - mean) / standard_deviation\n",
        "print(z_scores)"
      ],
      "cell_type": "code",
      "metadata": {
        "colab": {
          "base_uri": "https://localhost:8080/"
        },
        "id": "oYI0IMPWji39",
        "outputId": "8d532f35-bf78-4a73-fbbe-8cd2116b8399"
      },
      "execution_count": null,
      "outputs": [
        {
          "output_type": "stream",
          "name": "stdout",
          "text": [
            "[-1.5666989  -1.21854359 -0.87038828 -0.52223297 -0.17407766  0.17407766\n",
            "  0.52223297  0.87038828  1.21854359  1.5666989 ]\n"
          ]
        }
      ]
    },
    {
      "cell_type": "markdown",
      "source": [
        "# Level 4: Expert (Task 10: Correlation Analysis)"
      ],
      "metadata": {
        "id": "8jMFqSgTkC9R"
      }
    },
    {
      "source": [
        "\n",
        "df= pd.read_csv('/Data_set 2 - Copy.csv')\n",
        "selected_columns = [\"age\", \"Duration\", \"Expect\"]\n",
        "df_selected = df[selected_columns]\n",
        "\n",
        "# Display the selected DataFrame\n",
        "print(df_selected.head())"
      ],
      "cell_type": "code",
      "metadata": {
        "colab": {
          "base_uri": "https://localhost:8080/"
        },
        "id": "26kchem9kYRP",
        "outputId": "8fcd9e8b-58cd-4167-9d26-889f42e36f3f"
      },
      "execution_count": null,
      "outputs": [
        {
          "output_type": "stream",
          "name": "stdout",
          "text": [
            "   age           Duration   Expect\n",
            "0   34          1-3 years  20%-30%\n",
            "1   23  More than 5 years  20%-30%\n",
            "2   30          3-5 years  20%-30%\n",
            "3   22   Less than 1 year  10%-20%\n",
            "4   24   Less than 1 year  20%-30%\n"
          ]
        }
      ]
    },
    {
      "source": [
        "# Select the desired columns\n",
        "selected_columns = [\"age\", \"Expect\"]\n",
        "df_selected = df[selected_columns]\n",
        "\n",
        "# Create a scatter plot\n",
        "plt.scatter(df_selected['age'], df_selected['Expect'])\n",
        "\n",
        "# Add labels and title\n",
        "plt.xlabel(\"Age\")\n",
        "plt.ylabel(\"Expectation\")\n",
        "plt.title(\"Scatter Plot of Age vs. Expectation\")\n",
        "\n",
        "# Show the plot\n",
        "plt.show()"
      ],
      "cell_type": "code",
      "metadata": {
        "colab": {
          "base_uri": "https://localhost:8080/",
          "height": 472
        },
        "id": "95mr2XLloVuU",
        "outputId": "77436f98-d45a-4ed7-bf00-aaf08424cd24"
      },
      "execution_count": null,
      "outputs": [
        {
          "output_type": "display_data",
          "data": {
            "text/plain": [
              "<Figure size 640x480 with 1 Axes>"
            ],
            "image/png": "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\n"
          },
          "metadata": {}
        }
      ]
    }
  ]
}
